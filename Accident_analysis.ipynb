{
 "cells": [
  {
   "cell_type": "markdown",
   "metadata": {},
   "source": [
    "# Capstone Project - Road Accident Severity Prediction\n",
    "\n",
    "-- **Ayush Mathur**"
   ]
  },
  {
   "cell_type": "markdown",
   "metadata": {},
   "source": [
    "## Table of Contents\n",
    "* [Introduction: Business Problem](#introduction)\n",
    "* [Preliminary Wrangling](#wrangling)\n",
    "* [Data Cleaning](#datacleaning)\n",
    "* [Analyze](#analyze)\n",
    "* [Data Preparation and Model building](#modelbuilding)\n",
    "* [Result and Discussion](#result)\n",
    "* [Conclusion](#conclusion)"
   ]
  },
  {
   "cell_type": "markdown",
   "metadata": {},
   "source": [
    "## Introduction: Business Problem <a name=\"introduction\"> </a>\n",
    "\n",
    "An accident is when a vehicle collides with another vehicle, pedestrian, animal, obstacles, etc. Many factors contribute to collision including road environment, driving skills, speeding, impaired due to drug/alcohol, inattention etc. The total number of persons and vehicles involved, speed, pedestrians and injuries inflicted affect the severity of the accident. Many lives are lost worldwide just in road accidents.\n",
    "\n",
    "The number of the accidents all around the world is on a continuous rise. A slight delay in the availability of the medical services may be the difference between life and death. This gap can sometimes be a result of the lack of knowledge of the severity of the accident. Having a clear picture of the accident can help authorities provide better emergency services. A model that can predict the severity by weighting in the different factors of weather, road, visibility, light conditions, etc. can be very effective to bridge the gap. Lot of the accidents are also the result of careless driving. How do the environmental factors impact, and their contributions?\n",
    "\n",
    "Following problem is of the interest of city authorities, department of transportation and people in healthcare. The predictability of the severity of an accident will help emergency staff to prepare well for the injured. It can define variables like how many ambulances, emergency medical staff and police are required on and off site of accident. This can be a crucial information and decrease the time delay and save lives with quick response and adequate resources available. City authorities and department of transportation can plan from patterns of weather and road environments and flag warning to people. The ultimate benefit will be to the local public who would receive better services and there can be probable decline in accidents due to warnings."
   ]
  },
  {
   "cell_type": "markdown",
   "metadata": {},
   "source": [
    "## Preliminary Wrangling <a name='wrangling'></a>\n",
    "\n",
    "We will start with importing all the required libraries."
   ]
  },
  {
   "cell_type": "code",
   "execution_count": 1,
   "metadata": {},
   "outputs": [],
   "source": [
    "import pandas as pd\n",
    "import numpy as np\n",
    "import random\n",
    "import os\n",
    "import matplotlib.pyplot as plt\n",
    "import seaborn as sns\n",
    "import datetime\n",
    "from sklearn.model_selection import train_test_split, cross_val_score, GridSearchCV, RepeatedStratifiedKFold\n",
    "from sklearn.preprocessing import StandardScaler\n",
    "from sklearn.linear_model import LogisticRegression, LogisticRegressionCV\n",
    "from sklearn.tree import DecisionTreeClassifier\n",
    "from sklearn.ensemble import RandomForestClassifier\n",
    "from sklearn.neighbors import KNeighborsClassifier\n",
    "from sklearn.pipeline import Pipeline\n",
    "from sklearn.metrics import f1_score, log_loss, auc, recall_score, accuracy_score, precision_score\n",
    "from sklearn.metrics import confusion_matrix, classification_report\n",
    "import itertools\n",
    "from collections import Counter\n",
    "\n",
    "sns.set_style('darkgrid')\n",
    "%matplotlib inline"
   ]
  },
  {
   "cell_type": "markdown",
   "metadata": {},
   "source": [
    "**Use the following if imblearn is not install**. imblearn requires atleast sklearn version 0.23.0 to be installed.\n",
    "\n",
    "!conda install -c conda-forge imbalanced-learn"
   ]
  },
  {
   "cell_type": "code",
   "execution_count": 2,
   "metadata": {},
   "outputs": [
    {
     "name": "stdout",
     "output_type": "stream",
     "text": [
      "0.7.0\n"
     ]
    }
   ],
   "source": [
    "import imblearn\n",
    "from imblearn.over_sampling import RandomOverSampler, SMOTE, ADASYN\n",
    "from imblearn.combine import SMOTEENN\n",
    "print(imblearn.__version__)"
   ]
  },
  {
   "cell_type": "code",
   "execution_count": 3,
   "metadata": {},
   "outputs": [
    {
     "data": {
      "text/plain": [
       "'0.23.2'"
      ]
     },
     "execution_count": 3,
     "metadata": {},
     "output_type": "execute_result"
    }
   ],
   "source": [
    "import sklearn\n",
    "sklearn.__version__"
   ]
  },
  {
   "cell_type": "code",
   "execution_count": 4,
   "metadata": {},
   "outputs": [],
   "source": [
    "def seed_everything(seed=42):\n",
    "    \"\"\"\"\n",
    "    Seed everything.\n",
    "    \"\"\"   \n",
    "    random.seed(seed)\n",
    "    os.environ['PYTHONHASHSEED'] = str(seed)\n",
    "    np.random.seed(seed)\n",
    "    \n",
    "seed_everything(42)"
   ]
  },
  {
   "cell_type": "markdown",
   "metadata": {},
   "source": [
    "Seed everything to ensure code reproducibility."
   ]
  },
  {
   "cell_type": "markdown",
   "metadata": {},
   "source": [
    "### Read the Data"
   ]
  },
  {
   "cell_type": "code",
   "execution_count": 11,
   "metadata": {},
   "outputs": [
    {
     "name": "stderr",
     "output_type": "stream",
     "text": [
      "C:\\Users\\ayush-pc\\anaconda3\\lib\\site-packages\\IPython\\core\\interactiveshell.py:3063: DtypeWarning: Columns (33) have mixed types.Specify dtype option on import or set low_memory=False.\n",
      "  interactivity=interactivity, compiler=compiler, result=result)\n"
     ]
    },
    {
     "data": {
      "text/html": [
       "<div>\n",
       "<style scoped>\n",
       "    .dataframe tbody tr th:only-of-type {\n",
       "        vertical-align: middle;\n",
       "    }\n",
       "\n",
       "    .dataframe tbody tr th {\n",
       "        vertical-align: top;\n",
       "    }\n",
       "\n",
       "    .dataframe thead th {\n",
       "        text-align: right;\n",
       "    }\n",
       "</style>\n",
       "<table border=\"1\" class=\"dataframe\">\n",
       "  <thead>\n",
       "    <tr style=\"text-align: right;\">\n",
       "      <th></th>\n",
       "      <th>SEVERITYCODE</th>\n",
       "      <th>X</th>\n",
       "      <th>Y</th>\n",
       "      <th>OBJECTID</th>\n",
       "      <th>INCKEY</th>\n",
       "      <th>COLDETKEY</th>\n",
       "      <th>REPORTNO</th>\n",
       "      <th>STATUS</th>\n",
       "      <th>ADDRTYPE</th>\n",
       "      <th>INTKEY</th>\n",
       "      <th>...</th>\n",
       "      <th>ROADCOND</th>\n",
       "      <th>LIGHTCOND</th>\n",
       "      <th>PEDROWNOTGRNT</th>\n",
       "      <th>SDOTCOLNUM</th>\n",
       "      <th>SPEEDING</th>\n",
       "      <th>ST_COLCODE</th>\n",
       "      <th>ST_COLDESC</th>\n",
       "      <th>SEGLANEKEY</th>\n",
       "      <th>CROSSWALKKEY</th>\n",
       "      <th>HITPARKEDCAR</th>\n",
       "    </tr>\n",
       "  </thead>\n",
       "  <tbody>\n",
       "    <tr>\n",
       "      <th>0</th>\n",
       "      <td>2</td>\n",
       "      <td>-122.323148</td>\n",
       "      <td>47.703140</td>\n",
       "      <td>1</td>\n",
       "      <td>1307</td>\n",
       "      <td>1307</td>\n",
       "      <td>3502005</td>\n",
       "      <td>Matched</td>\n",
       "      <td>Intersection</td>\n",
       "      <td>37475.0</td>\n",
       "      <td>...</td>\n",
       "      <td>Wet</td>\n",
       "      <td>Daylight</td>\n",
       "      <td>NaN</td>\n",
       "      <td>NaN</td>\n",
       "      <td>NaN</td>\n",
       "      <td>10</td>\n",
       "      <td>Entering at angle</td>\n",
       "      <td>0</td>\n",
       "      <td>0</td>\n",
       "      <td>N</td>\n",
       "    </tr>\n",
       "    <tr>\n",
       "      <th>1</th>\n",
       "      <td>1</td>\n",
       "      <td>-122.347294</td>\n",
       "      <td>47.647172</td>\n",
       "      <td>2</td>\n",
       "      <td>52200</td>\n",
       "      <td>52200</td>\n",
       "      <td>2607959</td>\n",
       "      <td>Matched</td>\n",
       "      <td>Block</td>\n",
       "      <td>NaN</td>\n",
       "      <td>...</td>\n",
       "      <td>Wet</td>\n",
       "      <td>Dark - Street Lights On</td>\n",
       "      <td>NaN</td>\n",
       "      <td>6354039.0</td>\n",
       "      <td>NaN</td>\n",
       "      <td>11</td>\n",
       "      <td>From same direction - both going straight - bo...</td>\n",
       "      <td>0</td>\n",
       "      <td>0</td>\n",
       "      <td>N</td>\n",
       "    </tr>\n",
       "    <tr>\n",
       "      <th>2</th>\n",
       "      <td>1</td>\n",
       "      <td>-122.334540</td>\n",
       "      <td>47.607871</td>\n",
       "      <td>3</td>\n",
       "      <td>26700</td>\n",
       "      <td>26700</td>\n",
       "      <td>1482393</td>\n",
       "      <td>Matched</td>\n",
       "      <td>Block</td>\n",
       "      <td>NaN</td>\n",
       "      <td>...</td>\n",
       "      <td>Dry</td>\n",
       "      <td>Daylight</td>\n",
       "      <td>NaN</td>\n",
       "      <td>4323031.0</td>\n",
       "      <td>NaN</td>\n",
       "      <td>32</td>\n",
       "      <td>One parked--one moving</td>\n",
       "      <td>0</td>\n",
       "      <td>0</td>\n",
       "      <td>N</td>\n",
       "    </tr>\n",
       "    <tr>\n",
       "      <th>3</th>\n",
       "      <td>1</td>\n",
       "      <td>-122.334803</td>\n",
       "      <td>47.604803</td>\n",
       "      <td>4</td>\n",
       "      <td>1144</td>\n",
       "      <td>1144</td>\n",
       "      <td>3503937</td>\n",
       "      <td>Matched</td>\n",
       "      <td>Block</td>\n",
       "      <td>NaN</td>\n",
       "      <td>...</td>\n",
       "      <td>Dry</td>\n",
       "      <td>Daylight</td>\n",
       "      <td>NaN</td>\n",
       "      <td>NaN</td>\n",
       "      <td>NaN</td>\n",
       "      <td>23</td>\n",
       "      <td>From same direction - all others</td>\n",
       "      <td>0</td>\n",
       "      <td>0</td>\n",
       "      <td>N</td>\n",
       "    </tr>\n",
       "    <tr>\n",
       "      <th>4</th>\n",
       "      <td>2</td>\n",
       "      <td>-122.306426</td>\n",
       "      <td>47.545739</td>\n",
       "      <td>5</td>\n",
       "      <td>17700</td>\n",
       "      <td>17700</td>\n",
       "      <td>1807429</td>\n",
       "      <td>Matched</td>\n",
       "      <td>Intersection</td>\n",
       "      <td>34387.0</td>\n",
       "      <td>...</td>\n",
       "      <td>Wet</td>\n",
       "      <td>Daylight</td>\n",
       "      <td>NaN</td>\n",
       "      <td>4028032.0</td>\n",
       "      <td>NaN</td>\n",
       "      <td>10</td>\n",
       "      <td>Entering at angle</td>\n",
       "      <td>0</td>\n",
       "      <td>0</td>\n",
       "      <td>N</td>\n",
       "    </tr>\n",
       "  </tbody>\n",
       "</table>\n",
       "<p>5 rows × 38 columns</p>\n",
       "</div>"
      ],
      "text/plain": [
       "   SEVERITYCODE           X          Y  OBJECTID  INCKEY  COLDETKEY REPORTNO  \\\n",
       "0             2 -122.323148  47.703140         1    1307       1307  3502005   \n",
       "1             1 -122.347294  47.647172         2   52200      52200  2607959   \n",
       "2             1 -122.334540  47.607871         3   26700      26700  1482393   \n",
       "3             1 -122.334803  47.604803         4    1144       1144  3503937   \n",
       "4             2 -122.306426  47.545739         5   17700      17700  1807429   \n",
       "\n",
       "    STATUS      ADDRTYPE   INTKEY  ... ROADCOND                LIGHTCOND  \\\n",
       "0  Matched  Intersection  37475.0  ...      Wet                 Daylight   \n",
       "1  Matched         Block      NaN  ...      Wet  Dark - Street Lights On   \n",
       "2  Matched         Block      NaN  ...      Dry                 Daylight   \n",
       "3  Matched         Block      NaN  ...      Dry                 Daylight   \n",
       "4  Matched  Intersection  34387.0  ...      Wet                 Daylight   \n",
       "\n",
       "  PEDROWNOTGRNT  SDOTCOLNUM SPEEDING ST_COLCODE  \\\n",
       "0           NaN         NaN      NaN         10   \n",
       "1           NaN   6354039.0      NaN         11   \n",
       "2           NaN   4323031.0      NaN         32   \n",
       "3           NaN         NaN      NaN         23   \n",
       "4           NaN   4028032.0      NaN         10   \n",
       "\n",
       "                                          ST_COLDESC  SEGLANEKEY  \\\n",
       "0                                  Entering at angle           0   \n",
       "1  From same direction - both going straight - bo...           0   \n",
       "2                             One parked--one moving           0   \n",
       "3                   From same direction - all others           0   \n",
       "4                                  Entering at angle           0   \n",
       "\n",
       "   CROSSWALKKEY  HITPARKEDCAR  \n",
       "0             0             N  \n",
       "1             0             N  \n",
       "2             0             N  \n",
       "3             0             N  \n",
       "4             0             N  \n",
       "\n",
       "[5 rows x 38 columns]"
      ]
     },
     "execution_count": 11,
     "metadata": {},
     "output_type": "execute_result"
    }
   ],
   "source": [
    "df = pd.read_csv('data/Data-Collisions.csv')\n",
    "df.head()"
   ]
  },
  {
   "cell_type": "markdown",
   "metadata": {},
   "source": [
    "The column names are in uppercase. For ease, we will convert it to lowercase"
   ]
  },
  {
   "cell_type": "code",
   "execution_count": 12,
   "metadata": {
    "scrolled": true
   },
   "outputs": [
    {
     "data": {
      "text/plain": [
       "Index(['severitycode', 'x', 'y', 'objectid', 'inckey', 'coldetkey', 'reportno',\n",
       "       'status', 'addrtype', 'intkey', 'location', 'exceptrsncode',\n",
       "       'exceptrsndesc', 'severitycode.1', 'severitydesc', 'collisiontype',\n",
       "       'personcount', 'pedcount', 'pedcylcount', 'vehcount', 'incdate',\n",
       "       'incdttm', 'junctiontype', 'sdot_colcode', 'sdot_coldesc',\n",
       "       'inattentionind', 'underinfl', 'weather', 'roadcond', 'lightcond',\n",
       "       'pedrownotgrnt', 'sdotcolnum', 'speeding', 'st_colcode', 'st_coldesc',\n",
       "       'seglanekey', 'crosswalkkey', 'hitparkedcar'],\n",
       "      dtype='object')"
      ]
     },
     "execution_count": 12,
     "metadata": {},
     "output_type": "execute_result"
    }
   ],
   "source": [
    "df.columns = df.columns.str.lower()\n",
    "df.columns"
   ]
  },
  {
   "cell_type": "markdown",
   "metadata": {},
   "source": [
    "Next, We create a copy of the dataframe to work with"
   ]
  },
  {
   "cell_type": "code",
   "execution_count": 13,
   "metadata": {
    "scrolled": true
   },
   "outputs": [
    {
     "data": {
      "text/html": [
       "<div>\n",
       "<style scoped>\n",
       "    .dataframe tbody tr th:only-of-type {\n",
       "        vertical-align: middle;\n",
       "    }\n",
       "\n",
       "    .dataframe tbody tr th {\n",
       "        vertical-align: top;\n",
       "    }\n",
       "\n",
       "    .dataframe thead th {\n",
       "        text-align: right;\n",
       "    }\n",
       "</style>\n",
       "<table border=\"1\" class=\"dataframe\">\n",
       "  <thead>\n",
       "    <tr style=\"text-align: right;\">\n",
       "      <th></th>\n",
       "      <th>severitycode</th>\n",
       "      <th>x</th>\n",
       "      <th>y</th>\n",
       "      <th>objectid</th>\n",
       "      <th>inckey</th>\n",
       "      <th>coldetkey</th>\n",
       "      <th>reportno</th>\n",
       "      <th>status</th>\n",
       "      <th>addrtype</th>\n",
       "      <th>intkey</th>\n",
       "      <th>...</th>\n",
       "      <th>roadcond</th>\n",
       "      <th>lightcond</th>\n",
       "      <th>pedrownotgrnt</th>\n",
       "      <th>sdotcolnum</th>\n",
       "      <th>speeding</th>\n",
       "      <th>st_colcode</th>\n",
       "      <th>st_coldesc</th>\n",
       "      <th>seglanekey</th>\n",
       "      <th>crosswalkkey</th>\n",
       "      <th>hitparkedcar</th>\n",
       "    </tr>\n",
       "  </thead>\n",
       "  <tbody>\n",
       "    <tr>\n",
       "      <th>0</th>\n",
       "      <td>2</td>\n",
       "      <td>-122.323148</td>\n",
       "      <td>47.703140</td>\n",
       "      <td>1</td>\n",
       "      <td>1307</td>\n",
       "      <td>1307</td>\n",
       "      <td>3502005</td>\n",
       "      <td>Matched</td>\n",
       "      <td>Intersection</td>\n",
       "      <td>37475.0</td>\n",
       "      <td>...</td>\n",
       "      <td>Wet</td>\n",
       "      <td>Daylight</td>\n",
       "      <td>NaN</td>\n",
       "      <td>NaN</td>\n",
       "      <td>NaN</td>\n",
       "      <td>10</td>\n",
       "      <td>Entering at angle</td>\n",
       "      <td>0</td>\n",
       "      <td>0</td>\n",
       "      <td>N</td>\n",
       "    </tr>\n",
       "    <tr>\n",
       "      <th>1</th>\n",
       "      <td>1</td>\n",
       "      <td>-122.347294</td>\n",
       "      <td>47.647172</td>\n",
       "      <td>2</td>\n",
       "      <td>52200</td>\n",
       "      <td>52200</td>\n",
       "      <td>2607959</td>\n",
       "      <td>Matched</td>\n",
       "      <td>Block</td>\n",
       "      <td>NaN</td>\n",
       "      <td>...</td>\n",
       "      <td>Wet</td>\n",
       "      <td>Dark - Street Lights On</td>\n",
       "      <td>NaN</td>\n",
       "      <td>6354039.0</td>\n",
       "      <td>NaN</td>\n",
       "      <td>11</td>\n",
       "      <td>From same direction - both going straight - bo...</td>\n",
       "      <td>0</td>\n",
       "      <td>0</td>\n",
       "      <td>N</td>\n",
       "    </tr>\n",
       "    <tr>\n",
       "      <th>2</th>\n",
       "      <td>1</td>\n",
       "      <td>-122.334540</td>\n",
       "      <td>47.607871</td>\n",
       "      <td>3</td>\n",
       "      <td>26700</td>\n",
       "      <td>26700</td>\n",
       "      <td>1482393</td>\n",
       "      <td>Matched</td>\n",
       "      <td>Block</td>\n",
       "      <td>NaN</td>\n",
       "      <td>...</td>\n",
       "      <td>Dry</td>\n",
       "      <td>Daylight</td>\n",
       "      <td>NaN</td>\n",
       "      <td>4323031.0</td>\n",
       "      <td>NaN</td>\n",
       "      <td>32</td>\n",
       "      <td>One parked--one moving</td>\n",
       "      <td>0</td>\n",
       "      <td>0</td>\n",
       "      <td>N</td>\n",
       "    </tr>\n",
       "    <tr>\n",
       "      <th>3</th>\n",
       "      <td>1</td>\n",
       "      <td>-122.334803</td>\n",
       "      <td>47.604803</td>\n",
       "      <td>4</td>\n",
       "      <td>1144</td>\n",
       "      <td>1144</td>\n",
       "      <td>3503937</td>\n",
       "      <td>Matched</td>\n",
       "      <td>Block</td>\n",
       "      <td>NaN</td>\n",
       "      <td>...</td>\n",
       "      <td>Dry</td>\n",
       "      <td>Daylight</td>\n",
       "      <td>NaN</td>\n",
       "      <td>NaN</td>\n",
       "      <td>NaN</td>\n",
       "      <td>23</td>\n",
       "      <td>From same direction - all others</td>\n",
       "      <td>0</td>\n",
       "      <td>0</td>\n",
       "      <td>N</td>\n",
       "    </tr>\n",
       "    <tr>\n",
       "      <th>4</th>\n",
       "      <td>2</td>\n",
       "      <td>-122.306426</td>\n",
       "      <td>47.545739</td>\n",
       "      <td>5</td>\n",
       "      <td>17700</td>\n",
       "      <td>17700</td>\n",
       "      <td>1807429</td>\n",
       "      <td>Matched</td>\n",
       "      <td>Intersection</td>\n",
       "      <td>34387.0</td>\n",
       "      <td>...</td>\n",
       "      <td>Wet</td>\n",
       "      <td>Daylight</td>\n",
       "      <td>NaN</td>\n",
       "      <td>4028032.0</td>\n",
       "      <td>NaN</td>\n",
       "      <td>10</td>\n",
       "      <td>Entering at angle</td>\n",
       "      <td>0</td>\n",
       "      <td>0</td>\n",
       "      <td>N</td>\n",
       "    </tr>\n",
       "  </tbody>\n",
       "</table>\n",
       "<p>5 rows × 38 columns</p>\n",
       "</div>"
      ],
      "text/plain": [
       "   severitycode           x          y  objectid  inckey  coldetkey reportno  \\\n",
       "0             2 -122.323148  47.703140         1    1307       1307  3502005   \n",
       "1             1 -122.347294  47.647172         2   52200      52200  2607959   \n",
       "2             1 -122.334540  47.607871         3   26700      26700  1482393   \n",
       "3             1 -122.334803  47.604803         4    1144       1144  3503937   \n",
       "4             2 -122.306426  47.545739         5   17700      17700  1807429   \n",
       "\n",
       "    status      addrtype   intkey  ... roadcond                lightcond  \\\n",
       "0  Matched  Intersection  37475.0  ...      Wet                 Daylight   \n",
       "1  Matched         Block      NaN  ...      Wet  Dark - Street Lights On   \n",
       "2  Matched         Block      NaN  ...      Dry                 Daylight   \n",
       "3  Matched         Block      NaN  ...      Dry                 Daylight   \n",
       "4  Matched  Intersection  34387.0  ...      Wet                 Daylight   \n",
       "\n",
       "  pedrownotgrnt  sdotcolnum speeding st_colcode  \\\n",
       "0           NaN         NaN      NaN         10   \n",
       "1           NaN   6354039.0      NaN         11   \n",
       "2           NaN   4323031.0      NaN         32   \n",
       "3           NaN         NaN      NaN         23   \n",
       "4           NaN   4028032.0      NaN         10   \n",
       "\n",
       "                                          st_coldesc  seglanekey  \\\n",
       "0                                  Entering at angle           0   \n",
       "1  From same direction - both going straight - bo...           0   \n",
       "2                             One parked--one moving           0   \n",
       "3                   From same direction - all others           0   \n",
       "4                                  Entering at angle           0   \n",
       "\n",
       "   crosswalkkey  hitparkedcar  \n",
       "0             0             N  \n",
       "1             0             N  \n",
       "2             0             N  \n",
       "3             0             N  \n",
       "4             0             N  \n",
       "\n",
       "[5 rows x 38 columns]"
      ]
     },
     "execution_count": 13,
     "metadata": {},
     "output_type": "execute_result"
    }
   ],
   "source": [
    "df_c = df.copy()\n",
    "df_c.head()"
   ]
  },
  {
   "cell_type": "code",
   "execution_count": 14,
   "metadata": {
    "scrolled": true
   },
   "outputs": [
    {
     "data": {
      "text/plain": [
       "(194673, 38)"
      ]
     },
     "execution_count": 14,
     "metadata": {},
     "output_type": "execute_result"
    }
   ],
   "source": [
    "df_c.shape"
   ]
  },
  {
   "cell_type": "code",
   "execution_count": 15,
   "metadata": {},
   "outputs": [
    {
     "data": {
      "text/plain": [
       "severitycode        int64\n",
       "x                 float64\n",
       "y                 float64\n",
       "objectid            int64\n",
       "inckey              int64\n",
       "coldetkey           int64\n",
       "reportno           object\n",
       "status             object\n",
       "addrtype           object\n",
       "intkey            float64\n",
       "location           object\n",
       "exceptrsncode      object\n",
       "exceptrsndesc      object\n",
       "severitycode.1      int64\n",
       "severitydesc       object\n",
       "collisiontype      object\n",
       "personcount         int64\n",
       "pedcount            int64\n",
       "pedcylcount         int64\n",
       "vehcount            int64\n",
       "incdate            object\n",
       "incdttm            object\n",
       "junctiontype       object\n",
       "sdot_colcode        int64\n",
       "sdot_coldesc       object\n",
       "inattentionind     object\n",
       "underinfl          object\n",
       "weather            object\n",
       "roadcond           object\n",
       "lightcond          object\n",
       "pedrownotgrnt      object\n",
       "sdotcolnum        float64\n",
       "speeding           object\n",
       "st_colcode         object\n",
       "st_coldesc         object\n",
       "seglanekey          int64\n",
       "crosswalkkey        int64\n",
       "hitparkedcar       object\n",
       "dtype: object"
      ]
     },
     "execution_count": 15,
     "metadata": {},
     "output_type": "execute_result"
    }
   ],
   "source": [
    "df_c.dtypes"
   ]
  },
  {
   "cell_type": "markdown",
   "metadata": {},
   "source": [
    "We can see there are null values present in the data. let's get a better idea of the same."
   ]
  },
  {
   "cell_type": "code",
   "execution_count": 16,
   "metadata": {
    "scrolled": true
   },
   "outputs": [
    {
     "data": {
      "text/plain": [
       "severitycode           0\n",
       "x                   5334\n",
       "y                   5334\n",
       "objectid               0\n",
       "inckey                 0\n",
       "coldetkey              0\n",
       "reportno               0\n",
       "status                 0\n",
       "addrtype            1926\n",
       "intkey            129603\n",
       "location            2677\n",
       "exceptrsncode     109862\n",
       "exceptrsndesc     189035\n",
       "severitycode.1         0\n",
       "severitydesc           0\n",
       "collisiontype       4904\n",
       "personcount            0\n",
       "pedcount               0\n",
       "pedcylcount            0\n",
       "vehcount               0\n",
       "incdate                0\n",
       "incdttm                0\n",
       "junctiontype        6329\n",
       "sdot_colcode           0\n",
       "sdot_coldesc           0\n",
       "inattentionind    164868\n",
       "underinfl           4884\n",
       "weather             5081\n",
       "roadcond            5012\n",
       "lightcond           5170\n",
       "pedrownotgrnt     190006\n",
       "sdotcolnum         79737\n",
       "speeding          185340\n",
       "st_colcode            18\n",
       "st_coldesc          4904\n",
       "seglanekey             0\n",
       "crosswalkkey           0\n",
       "hitparkedcar           0\n",
       "dtype: int64"
      ]
     },
     "execution_count": 16,
     "metadata": {},
     "output_type": "execute_result"
    }
   ],
   "source": [
    "df_c.isna().sum()"
   ]
  },
  {
   "cell_type": "code",
   "execution_count": 17,
   "metadata": {},
   "outputs": [
    {
     "data": {
      "text/plain": [
       "severitycode       0.000000\n",
       "x                  2.739979\n",
       "y                  2.739979\n",
       "objectid           0.000000\n",
       "inckey             0.000000\n",
       "coldetkey          0.000000\n",
       "reportno           0.000000\n",
       "status             0.000000\n",
       "addrtype           0.989351\n",
       "intkey            66.574718\n",
       "location           1.375126\n",
       "exceptrsncode     56.434123\n",
       "exceptrsndesc     97.103861\n",
       "severitycode.1     0.000000\n",
       "severitydesc       0.000000\n",
       "collisiontype      2.519096\n",
       "personcount        0.000000\n",
       "pedcount           0.000000\n",
       "pedcylcount        0.000000\n",
       "vehcount           0.000000\n",
       "incdate            0.000000\n",
       "incdttm            0.000000\n",
       "junctiontype       3.251093\n",
       "sdot_colcode       0.000000\n",
       "sdot_coldesc       0.000000\n",
       "inattentionind    84.689710\n",
       "underinfl          2.508822\n",
       "weather            2.610018\n",
       "roadcond           2.574574\n",
       "lightcond          2.655736\n",
       "pedrownotgrnt     97.602646\n",
       "sdotcolnum        40.959455\n",
       "speeding          95.205807\n",
       "st_colcode         0.009246\n",
       "st_coldesc         2.519096\n",
       "seglanekey         0.000000\n",
       "crosswalkkey       0.000000\n",
       "hitparkedcar       0.000000\n",
       "dtype: float64"
      ]
     },
     "execution_count": 17,
     "metadata": {},
     "output_type": "execute_result"
    }
   ],
   "source": [
    "df_c.isna().sum()/df_c.shape[0]*100"
   ]
  },
  {
   "cell_type": "code",
   "execution_count": 18,
   "metadata": {},
   "outputs": [
    {
     "data": {
      "text/plain": [
       "194673"
      ]
     },
     "execution_count": 18,
     "metadata": {},
     "output_type": "execute_result"
    }
   ],
   "source": [
    "df_c.isna().any(axis=1).sum()"
   ]
  },
  {
   "cell_type": "markdown",
   "metadata": {},
   "source": [
    "We have a total of 194673 rows and 38 columns in our dataset. We will next go through all the columns to get an idea about the data and see which columns can be dropped. There are a few unique id columns which will not be an optimum attribute for a model. There are columns with as high as 80 to 97% of null values. Each and every row has atlesat one null value. We will have to impute, drop or work around them. "
   ]
  },
  {
   "cell_type": "code",
   "execution_count": 19,
   "metadata": {},
   "outputs": [
    {
     "data": {
      "text/html": [
       "<div>\n",
       "<style scoped>\n",
       "    .dataframe tbody tr th:only-of-type {\n",
       "        vertical-align: middle;\n",
       "    }\n",
       "\n",
       "    .dataframe tbody tr th {\n",
       "        vertical-align: top;\n",
       "    }\n",
       "\n",
       "    .dataframe thead th {\n",
       "        text-align: right;\n",
       "    }\n",
       "</style>\n",
       "<table border=\"1\" class=\"dataframe\">\n",
       "  <thead>\n",
       "    <tr style=\"text-align: right;\">\n",
       "      <th></th>\n",
       "      <th>severitycode</th>\n",
       "      <th>x</th>\n",
       "      <th>y</th>\n",
       "      <th>objectid</th>\n",
       "      <th>inckey</th>\n",
       "      <th>coldetkey</th>\n",
       "      <th>intkey</th>\n",
       "      <th>severitycode.1</th>\n",
       "      <th>personcount</th>\n",
       "      <th>pedcount</th>\n",
       "      <th>pedcylcount</th>\n",
       "      <th>vehcount</th>\n",
       "      <th>sdot_colcode</th>\n",
       "      <th>sdotcolnum</th>\n",
       "      <th>seglanekey</th>\n",
       "      <th>crosswalkkey</th>\n",
       "    </tr>\n",
       "  </thead>\n",
       "  <tbody>\n",
       "    <tr>\n",
       "      <th>count</th>\n",
       "      <td>194673.000000</td>\n",
       "      <td>189339.000000</td>\n",
       "      <td>189339.000000</td>\n",
       "      <td>194673.000000</td>\n",
       "      <td>194673.000000</td>\n",
       "      <td>194673.000000</td>\n",
       "      <td>65070.000000</td>\n",
       "      <td>194673.000000</td>\n",
       "      <td>194673.000000</td>\n",
       "      <td>194673.000000</td>\n",
       "      <td>194673.000000</td>\n",
       "      <td>194673.000000</td>\n",
       "      <td>194673.000000</td>\n",
       "      <td>1.149360e+05</td>\n",
       "      <td>194673.000000</td>\n",
       "      <td>1.946730e+05</td>\n",
       "    </tr>\n",
       "    <tr>\n",
       "      <th>mean</th>\n",
       "      <td>1.298901</td>\n",
       "      <td>-122.330518</td>\n",
       "      <td>47.619543</td>\n",
       "      <td>108479.364930</td>\n",
       "      <td>141091.456350</td>\n",
       "      <td>141298.811381</td>\n",
       "      <td>37558.450576</td>\n",
       "      <td>1.298901</td>\n",
       "      <td>2.444427</td>\n",
       "      <td>0.037139</td>\n",
       "      <td>0.028391</td>\n",
       "      <td>1.920780</td>\n",
       "      <td>13.867768</td>\n",
       "      <td>7.972521e+06</td>\n",
       "      <td>269.401114</td>\n",
       "      <td>9.782452e+03</td>\n",
       "    </tr>\n",
       "    <tr>\n",
       "      <th>std</th>\n",
       "      <td>0.457778</td>\n",
       "      <td>0.029976</td>\n",
       "      <td>0.056157</td>\n",
       "      <td>62649.722558</td>\n",
       "      <td>86634.402737</td>\n",
       "      <td>86986.542110</td>\n",
       "      <td>51745.990273</td>\n",
       "      <td>0.457778</td>\n",
       "      <td>1.345929</td>\n",
       "      <td>0.198150</td>\n",
       "      <td>0.167413</td>\n",
       "      <td>0.631047</td>\n",
       "      <td>6.868755</td>\n",
       "      <td>2.553533e+06</td>\n",
       "      <td>3315.776055</td>\n",
       "      <td>7.226926e+04</td>\n",
       "    </tr>\n",
       "    <tr>\n",
       "      <th>min</th>\n",
       "      <td>1.000000</td>\n",
       "      <td>-122.419091</td>\n",
       "      <td>47.495573</td>\n",
       "      <td>1.000000</td>\n",
       "      <td>1001.000000</td>\n",
       "      <td>1001.000000</td>\n",
       "      <td>23807.000000</td>\n",
       "      <td>1.000000</td>\n",
       "      <td>0.000000</td>\n",
       "      <td>0.000000</td>\n",
       "      <td>0.000000</td>\n",
       "      <td>0.000000</td>\n",
       "      <td>0.000000</td>\n",
       "      <td>1.007024e+06</td>\n",
       "      <td>0.000000</td>\n",
       "      <td>0.000000e+00</td>\n",
       "    </tr>\n",
       "    <tr>\n",
       "      <th>25%</th>\n",
       "      <td>1.000000</td>\n",
       "      <td>-122.348673</td>\n",
       "      <td>47.575956</td>\n",
       "      <td>54267.000000</td>\n",
       "      <td>70383.000000</td>\n",
       "      <td>70383.000000</td>\n",
       "      <td>28667.000000</td>\n",
       "      <td>1.000000</td>\n",
       "      <td>2.000000</td>\n",
       "      <td>0.000000</td>\n",
       "      <td>0.000000</td>\n",
       "      <td>2.000000</td>\n",
       "      <td>11.000000</td>\n",
       "      <td>6.040015e+06</td>\n",
       "      <td>0.000000</td>\n",
       "      <td>0.000000e+00</td>\n",
       "    </tr>\n",
       "    <tr>\n",
       "      <th>50%</th>\n",
       "      <td>1.000000</td>\n",
       "      <td>-122.330224</td>\n",
       "      <td>47.615369</td>\n",
       "      <td>106912.000000</td>\n",
       "      <td>123363.000000</td>\n",
       "      <td>123363.000000</td>\n",
       "      <td>29973.000000</td>\n",
       "      <td>1.000000</td>\n",
       "      <td>2.000000</td>\n",
       "      <td>0.000000</td>\n",
       "      <td>0.000000</td>\n",
       "      <td>2.000000</td>\n",
       "      <td>13.000000</td>\n",
       "      <td>8.023022e+06</td>\n",
       "      <td>0.000000</td>\n",
       "      <td>0.000000e+00</td>\n",
       "    </tr>\n",
       "    <tr>\n",
       "      <th>75%</th>\n",
       "      <td>2.000000</td>\n",
       "      <td>-122.311937</td>\n",
       "      <td>47.663664</td>\n",
       "      <td>162272.000000</td>\n",
       "      <td>203319.000000</td>\n",
       "      <td>203459.000000</td>\n",
       "      <td>33973.000000</td>\n",
       "      <td>2.000000</td>\n",
       "      <td>3.000000</td>\n",
       "      <td>0.000000</td>\n",
       "      <td>0.000000</td>\n",
       "      <td>2.000000</td>\n",
       "      <td>14.000000</td>\n",
       "      <td>1.015501e+07</td>\n",
       "      <td>0.000000</td>\n",
       "      <td>0.000000e+00</td>\n",
       "    </tr>\n",
       "    <tr>\n",
       "      <th>max</th>\n",
       "      <td>2.000000</td>\n",
       "      <td>-122.238949</td>\n",
       "      <td>47.734142</td>\n",
       "      <td>219547.000000</td>\n",
       "      <td>331454.000000</td>\n",
       "      <td>332954.000000</td>\n",
       "      <td>757580.000000</td>\n",
       "      <td>2.000000</td>\n",
       "      <td>81.000000</td>\n",
       "      <td>6.000000</td>\n",
       "      <td>2.000000</td>\n",
       "      <td>12.000000</td>\n",
       "      <td>69.000000</td>\n",
       "      <td>1.307202e+07</td>\n",
       "      <td>525241.000000</td>\n",
       "      <td>5.239700e+06</td>\n",
       "    </tr>\n",
       "  </tbody>\n",
       "</table>\n",
       "</div>"
      ],
      "text/plain": [
       "        severitycode              x              y       objectid  \\\n",
       "count  194673.000000  189339.000000  189339.000000  194673.000000   \n",
       "mean        1.298901    -122.330518      47.619543  108479.364930   \n",
       "std         0.457778       0.029976       0.056157   62649.722558   \n",
       "min         1.000000    -122.419091      47.495573       1.000000   \n",
       "25%         1.000000    -122.348673      47.575956   54267.000000   \n",
       "50%         1.000000    -122.330224      47.615369  106912.000000   \n",
       "75%         2.000000    -122.311937      47.663664  162272.000000   \n",
       "max         2.000000    -122.238949      47.734142  219547.000000   \n",
       "\n",
       "              inckey      coldetkey         intkey  severitycode.1  \\\n",
       "count  194673.000000  194673.000000   65070.000000   194673.000000   \n",
       "mean   141091.456350  141298.811381   37558.450576        1.298901   \n",
       "std     86634.402737   86986.542110   51745.990273        0.457778   \n",
       "min      1001.000000    1001.000000   23807.000000        1.000000   \n",
       "25%     70383.000000   70383.000000   28667.000000        1.000000   \n",
       "50%    123363.000000  123363.000000   29973.000000        1.000000   \n",
       "75%    203319.000000  203459.000000   33973.000000        2.000000   \n",
       "max    331454.000000  332954.000000  757580.000000        2.000000   \n",
       "\n",
       "         personcount       pedcount    pedcylcount       vehcount  \\\n",
       "count  194673.000000  194673.000000  194673.000000  194673.000000   \n",
       "mean        2.444427       0.037139       0.028391       1.920780   \n",
       "std         1.345929       0.198150       0.167413       0.631047   \n",
       "min         0.000000       0.000000       0.000000       0.000000   \n",
       "25%         2.000000       0.000000       0.000000       2.000000   \n",
       "50%         2.000000       0.000000       0.000000       2.000000   \n",
       "75%         3.000000       0.000000       0.000000       2.000000   \n",
       "max        81.000000       6.000000       2.000000      12.000000   \n",
       "\n",
       "        sdot_colcode    sdotcolnum     seglanekey  crosswalkkey  \n",
       "count  194673.000000  1.149360e+05  194673.000000  1.946730e+05  \n",
       "mean       13.867768  7.972521e+06     269.401114  9.782452e+03  \n",
       "std         6.868755  2.553533e+06    3315.776055  7.226926e+04  \n",
       "min         0.000000  1.007024e+06       0.000000  0.000000e+00  \n",
       "25%        11.000000  6.040015e+06       0.000000  0.000000e+00  \n",
       "50%        13.000000  8.023022e+06       0.000000  0.000000e+00  \n",
       "75%        14.000000  1.015501e+07       0.000000  0.000000e+00  \n",
       "max        69.000000  1.307202e+07  525241.000000  5.239700e+06  "
      ]
     },
     "execution_count": 19,
     "metadata": {},
     "output_type": "execute_result"
    }
   ],
   "source": [
    "df.describe()"
   ]
  },
  {
   "cell_type": "markdown",
   "metadata": {},
   "source": [
    "* More than 50% of the data has 1 as the severitycode. \n",
    "* The min no of vehicle count is 0 and 75% of the cases has 2 vehicles involved. Max vehicle count is 12.\n",
    "* 75% of the cases had no pedestrians involved.Max is 6 pedestrians.\n",
    "* 75% of the cases had 3 or less persons involved. But the maximum in 81. That is a severe accident. Also an outlier.\n"
   ]
  },
  {
   "cell_type": "code",
   "execution_count": 20,
   "metadata": {},
   "outputs": [
    {
     "data": {
      "text/plain": [
       "(194673, 194673, 194673)"
      ]
     },
     "execution_count": 20,
     "metadata": {},
     "output_type": "execute_result"
    }
   ],
   "source": [
    "df_c['inckey'].nunique(), df_c['coldetkey'].nunique(), df_c['objectid'].nunique()"
   ]
  },
  {
   "cell_type": "markdown",
   "metadata": {},
   "source": [
    "Columns 'inckey', 'coldetkey' and 'objectid' are unique keys for the incident. These won't be useful for our model. we will add these columns to the list of attributes to be dropped."
   ]
  },
  {
   "cell_type": "code",
   "execution_count": 21,
   "metadata": {},
   "outputs": [],
   "source": [
    "drop_col = ['inckey', 'coldetkey', 'objectid']"
   ]
  },
  {
   "cell_type": "code",
   "execution_count": 22,
   "metadata": {},
   "outputs": [
    {
     "data": {
      "text/plain": [
       "Block           126926\n",
       "Intersection     65070\n",
       "NaN               1926\n",
       "Alley              751\n",
       "Name: addrtype, dtype: int64"
      ]
     },
     "execution_count": 22,
     "metadata": {},
     "output_type": "execute_result"
    }
   ],
   "source": [
    "df_c['addrtype'].value_counts(dropna=False)"
   ]
  },
  {
   "cell_type": "markdown",
   "metadata": {},
   "source": [
    "The nan values here will be imputed with the most occuring value."
   ]
  },
  {
   "cell_type": "code",
   "execution_count": 23,
   "metadata": {},
   "outputs": [
    {
     "data": {
      "text/plain": [
       "0.6657471760336564"
      ]
     },
     "execution_count": 23,
     "metadata": {},
     "output_type": "execute_result"
    }
   ],
   "source": [
    "df_c['intkey'].isna().sum()/df_c.shape[0]"
   ]
  },
  {
   "cell_type": "markdown",
   "metadata": {},
   "source": [
    "Column 'intkey' is a key that corresponds to the intersection of collision. We will drop this column. It has around 67% of null values"
   ]
  },
  {
   "cell_type": "code",
   "execution_count": 24,
   "metadata": {},
   "outputs": [],
   "source": [
    "drop_col.append('intkey')"
   ]
  },
  {
   "cell_type": "code",
   "execution_count": 25,
   "metadata": {
    "scrolled": true
   },
   "outputs": [
    {
     "data": {
      "text/plain": [
       "24102"
      ]
     },
     "execution_count": 25,
     "metadata": {},
     "output_type": "execute_result"
    }
   ],
   "source": [
    "df_c['location'].nunique()"
   ]
  },
  {
   "cell_type": "code",
   "execution_count": 26,
   "metadata": {},
   "outputs": [
    {
     "data": {
      "text/plain": [
       "0                            5TH AVE NE AND NE 103RD ST\n",
       "1            AURORA BR BETWEEN RAYE ST AND BRIDGE WAY N\n",
       "2           4TH AVE BETWEEN SENECA ST AND UNIVERSITY ST\n",
       "3              2ND AVE BETWEEN MARION ST AND MADISON ST\n",
       "4                       SWIFT AVE S AND SWIFT AV OFF RP\n",
       "5                            24TH AVE NW AND NW 85TH ST\n",
       "6                            DENNY WAY AND WESTLAKE AVE\n",
       "7                                BROADWAY AND E PIKE ST\n",
       "8                   PINE ST BETWEEN 5TH AVE AND 6TH AVE\n",
       "9                         41ST AVE SW AND SW THISTLE ST\n",
       "10                                                  NaN\n",
       "11               1ST AV S BR NB AND EAST MARGINAL WAY S\n",
       "12    SW SPOKANE ST BETWEEN SW SPOKANE W BR AND TERM...\n",
       "13             TERRY AVE BETWEEN JAMES ST AND CHERRY ST\n",
       "14    ROOSEVELT WAY NE BETWEEN NE 47TH ST AND NE 50T...\n",
       "15           9TH AVE BETWEEN LENORA ST AND BLANCHARD ST\n",
       "16                           AURORA AVE N AND N 87TH ST\n",
       "17    BATTERY ST TUN ON RP BETWEEN BELL ST AND ALASK...\n",
       "18      S SPOKANE SR ST BETWEEN 4TH AVE S AND 5TH AVE S\n",
       "19    41ST AVE SW BETWEEN SW WALKER ST AND SW COLLEG...\n",
       "Name: location, dtype: object"
      ]
     },
     "execution_count": 26,
     "metadata": {},
     "output_type": "execute_result"
    }
   ],
   "source": [
    "df_c['location'].head(20)"
   ]
  },
  {
   "cell_type": "markdown",
   "metadata": {},
   "source": [
    "Column 'location' will be dropped."
   ]
  },
  {
   "cell_type": "code",
   "execution_count": 27,
   "metadata": {},
   "outputs": [],
   "source": [
    "drop_col.append('location')"
   ]
  },
  {
   "cell_type": "code",
   "execution_count": 28,
   "metadata": {},
   "outputs": [
    {
     "data": {
      "text/html": [
       "<div>\n",
       "<style scoped>\n",
       "    .dataframe tbody tr th:only-of-type {\n",
       "        vertical-align: middle;\n",
       "    }\n",
       "\n",
       "    .dataframe tbody tr th {\n",
       "        vertical-align: top;\n",
       "    }\n",
       "\n",
       "    .dataframe thead th {\n",
       "        text-align: right;\n",
       "    }\n",
       "</style>\n",
       "<table border=\"1\" class=\"dataframe\">\n",
       "  <thead>\n",
       "    <tr style=\"text-align: right;\">\n",
       "      <th></th>\n",
       "      <th>severitycode</th>\n",
       "      <th>intkey</th>\n",
       "      <th>inckey</th>\n",
       "      <th>coldetkey</th>\n",
       "      <th>objectid</th>\n",
       "      <th>sdot_colcode</th>\n",
       "      <th>seglanekey</th>\n",
       "    </tr>\n",
       "  </thead>\n",
       "  <tbody>\n",
       "    <tr>\n",
       "      <th>severitycode</th>\n",
       "      <td>1.000000</td>\n",
       "      <td>0.006553</td>\n",
       "      <td>0.022065</td>\n",
       "      <td>0.022079</td>\n",
       "      <td>0.020131</td>\n",
       "      <td>0.188905</td>\n",
       "      <td>0.104276</td>\n",
       "    </tr>\n",
       "    <tr>\n",
       "      <th>intkey</th>\n",
       "      <td>0.006553</td>\n",
       "      <td>1.000000</td>\n",
       "      <td>0.048524</td>\n",
       "      <td>0.048499</td>\n",
       "      <td>0.046929</td>\n",
       "      <td>0.007114</td>\n",
       "      <td>-0.010510</td>\n",
       "    </tr>\n",
       "    <tr>\n",
       "      <th>inckey</th>\n",
       "      <td>0.022065</td>\n",
       "      <td>0.048524</td>\n",
       "      <td>1.000000</td>\n",
       "      <td>0.999996</td>\n",
       "      <td>0.946383</td>\n",
       "      <td>-0.027617</td>\n",
       "      <td>0.019701</td>\n",
       "    </tr>\n",
       "    <tr>\n",
       "      <th>coldetkey</th>\n",
       "      <td>0.022079</td>\n",
       "      <td>0.048499</td>\n",
       "      <td>0.999996</td>\n",
       "      <td>1.000000</td>\n",
       "      <td>0.945837</td>\n",
       "      <td>-0.027461</td>\n",
       "      <td>0.019586</td>\n",
       "    </tr>\n",
       "    <tr>\n",
       "      <th>objectid</th>\n",
       "      <td>0.020131</td>\n",
       "      <td>0.046929</td>\n",
       "      <td>0.946383</td>\n",
       "      <td>0.945837</td>\n",
       "      <td>1.000000</td>\n",
       "      <td>-0.037094</td>\n",
       "      <td>0.028076</td>\n",
       "    </tr>\n",
       "    <tr>\n",
       "      <th>sdot_colcode</th>\n",
       "      <td>0.188905</td>\n",
       "      <td>0.007114</td>\n",
       "      <td>-0.027617</td>\n",
       "      <td>-0.027461</td>\n",
       "      <td>-0.037094</td>\n",
       "      <td>1.000000</td>\n",
       "      <td>0.206835</td>\n",
       "    </tr>\n",
       "    <tr>\n",
       "      <th>seglanekey</th>\n",
       "      <td>0.104276</td>\n",
       "      <td>-0.010510</td>\n",
       "      <td>0.019701</td>\n",
       "      <td>0.019586</td>\n",
       "      <td>0.028076</td>\n",
       "      <td>0.206835</td>\n",
       "      <td>1.000000</td>\n",
       "    </tr>\n",
       "  </tbody>\n",
       "</table>\n",
       "</div>"
      ],
      "text/plain": [
       "              severitycode    intkey    inckey  coldetkey  objectid  \\\n",
       "severitycode      1.000000  0.006553  0.022065   0.022079  0.020131   \n",
       "intkey            0.006553  1.000000  0.048524   0.048499  0.046929   \n",
       "inckey            0.022065  0.048524  1.000000   0.999996  0.946383   \n",
       "coldetkey         0.022079  0.048499  0.999996   1.000000  0.945837   \n",
       "objectid          0.020131  0.046929  0.946383   0.945837  1.000000   \n",
       "sdot_colcode      0.188905  0.007114 -0.027617  -0.027461 -0.037094   \n",
       "seglanekey        0.104276 -0.010510  0.019701   0.019586  0.028076   \n",
       "\n",
       "              sdot_colcode  seglanekey  \n",
       "severitycode      0.188905    0.104276  \n",
       "intkey            0.007114   -0.010510  \n",
       "inckey           -0.027617    0.019701  \n",
       "coldetkey        -0.027461    0.019586  \n",
       "objectid         -0.037094    0.028076  \n",
       "sdot_colcode      1.000000    0.206835  \n",
       "seglanekey        0.206835    1.000000  "
      ]
     },
     "execution_count": 28,
     "metadata": {},
     "output_type": "execute_result"
    }
   ],
   "source": [
    "df_c[['severitycode', 'intkey', 'inckey', 'coldetkey', 'objectid', 'exceptrsncode', 'sdot_colcode', 'seglanekey']].corr()"
   ]
  },
  {
   "cell_type": "code",
   "execution_count": 29,
   "metadata": {
    "scrolled": true
   },
   "outputs": [
    {
     "name": "stdout",
     "output_type": "stream",
     "text": [
      "[' ' nan 'NEI']\n"
     ]
    },
    {
     "data": {
      "text/plain": [
       "NaN    109862\n",
       "        79173\n",
       "NEI      5638\n",
       "Name: exceptrsncode, dtype: int64"
      ]
     },
     "execution_count": 29,
     "metadata": {},
     "output_type": "execute_result"
    }
   ],
   "source": [
    "print(df_c['exceptrsncode'].unique())\n",
    "df_c['exceptrsncode'].value_counts(dropna=False)"
   ]
  },
  {
   "cell_type": "code",
   "execution_count": 30,
   "metadata": {},
   "outputs": [
    {
     "name": "stdout",
     "output_type": "stream",
     "text": [
      "[nan 'Not Enough Information, or Insufficient Location Information']\n"
     ]
    },
    {
     "data": {
      "text/plain": [
       "NaN                                                             189035\n",
       "Not Enough Information, or Insufficient Location Information      5638\n",
       "Name: exceptrsndesc, dtype: int64"
      ]
     },
     "execution_count": 30,
     "metadata": {},
     "output_type": "execute_result"
    }
   ],
   "source": [
    "print(df_c['exceptrsndesc'].unique())\n",
    "df_c['exceptrsndesc'].value_counts(dropna=False)"
   ]
  },
  {
   "cell_type": "code",
   "execution_count": 31,
   "metadata": {
    "scrolled": true
   },
   "outputs": [
    {
     "data": {
      "text/plain": [
       "74        Not Enough Information, or Insufficient Locati...\n",
       "103       Not Enough Information, or Insufficient Locati...\n",
       "106       Not Enough Information, or Insufficient Locati...\n",
       "116       Not Enough Information, or Insufficient Locati...\n",
       "171       Not Enough Information, or Insufficient Locati...\n",
       "                                ...                        \n",
       "194600    Not Enough Information, or Insufficient Locati...\n",
       "194621    Not Enough Information, or Insufficient Locati...\n",
       "194623    Not Enough Information, or Insufficient Locati...\n",
       "194657    Not Enough Information, or Insufficient Locati...\n",
       "194659    Not Enough Information, or Insufficient Locati...\n",
       "Name: exceptrsndesc, Length: 5638, dtype: object"
      ]
     },
     "execution_count": 31,
     "metadata": {},
     "output_type": "execute_result"
    }
   ],
   "source": [
    "df_c[df_c['exceptrsncode'] == 'NEI']['exceptrsndesc']"
   ]
  },
  {
   "cell_type": "markdown",
   "metadata": {},
   "source": [
    "Column 'exceptrsndesc' is the description column for the value in column 'exceptrsncode'. The only values present in both columns is nan or Not Enough Information. Hence the following 2 columns cannot be used in our analysis."
   ]
  },
  {
   "cell_type": "code",
   "execution_count": 32,
   "metadata": {},
   "outputs": [],
   "source": [
    "drop_col.extend(['exceptrsncode', 'exceptrsndesc'])"
   ]
  },
  {
   "cell_type": "markdown",
   "metadata": {},
   "source": [
    "we will be dropping 'sdotcolnum', 'st_coldesc', 'st_colcode', 'sdot_colcode', 'seglanekey', 'crosswalkkey'. These are columns that contains the key and description for the collision by state, keys for lane and crosswalk."
   ]
  },
  {
   "cell_type": "markdown",
   "metadata": {},
   "source": [
    "* st_colcode"
   ]
  },
  {
   "cell_type": "code",
   "execution_count": 33,
   "metadata": {},
   "outputs": [],
   "source": [
    "drop_col.extend(['sdotcolnum', 'st_coldesc', 'st_colcode', 'sdot_colcode', 'seglanekey', 'crosswalkkey'])"
   ]
  },
  {
   "cell_type": "code",
   "execution_count": 34,
   "metadata": {},
   "outputs": [
    {
     "data": {
      "text/plain": [
       "(2, 2, 2)"
      ]
     },
     "execution_count": 34,
     "metadata": {},
     "output_type": "execute_result"
    }
   ],
   "source": [
    "df_c['severitycode.1'].nunique(), df_c['severitydesc'].nunique(), df_c['severitycode'].nunique()"
   ]
  },
  {
   "cell_type": "code",
   "execution_count": 35,
   "metadata": {},
   "outputs": [
    {
     "data": {
      "text/plain": [
       "1    136485\n",
       "2     58188\n",
       "Name: severitycode, dtype: int64"
      ]
     },
     "execution_count": 35,
     "metadata": {},
     "output_type": "execute_result"
    }
   ],
   "source": [
    "df_c['severitycode'].value_counts(dropna=False)"
   ]
  },
  {
   "cell_type": "code",
   "execution_count": 36,
   "metadata": {},
   "outputs": [
    {
     "data": {
      "text/plain": [
       "1    136485\n",
       "2     58188\n",
       "Name: severitycode.1, dtype: int64"
      ]
     },
     "execution_count": 36,
     "metadata": {},
     "output_type": "execute_result"
    }
   ],
   "source": [
    "df_c['severitycode.1'].value_counts(dropna=False)"
   ]
  },
  {
   "cell_type": "code",
   "execution_count": 37,
   "metadata": {},
   "outputs": [
    {
     "data": {
      "text/plain": [
       "Property Damage Only Collision    136485\n",
       "Injury Collision                   58188\n",
       "Name: severitydesc, dtype: int64"
      ]
     },
     "execution_count": 37,
     "metadata": {},
     "output_type": "execute_result"
    }
   ],
   "source": [
    "df_c['severitydesc'].value_counts(dropna=False)"
   ]
  },
  {
   "cell_type": "code",
   "execution_count": 38,
   "metadata": {},
   "outputs": [
    {
     "data": {
      "text/plain": [
       "True"
      ]
     },
     "execution_count": 38,
     "metadata": {},
     "output_type": "execute_result"
    }
   ],
   "source": [
    "(df_c['severitycode.1'] == df_c['severitycode']).all()"
   ]
  },
  {
   "cell_type": "code",
   "execution_count": 39,
   "metadata": {},
   "outputs": [
    {
     "data": {
      "text/plain": [
       "Property Damage Only Collision    136485\n",
       "Name: severitydesc, dtype: int64"
      ]
     },
     "execution_count": 39,
     "metadata": {},
     "output_type": "execute_result"
    }
   ],
   "source": [
    "df_c[df_c['severitycode'] == 1]['severitydesc'].value_counts(dropna=False)"
   ]
  },
  {
   "cell_type": "code",
   "execution_count": 40,
   "metadata": {},
   "outputs": [
    {
     "data": {
      "text/plain": [
       "Injury Collision    58188\n",
       "Name: severitydesc, dtype: int64"
      ]
     },
     "execution_count": 40,
     "metadata": {},
     "output_type": "execute_result"
    }
   ],
   "source": [
    "df_c[df_c['severitycode'] == 2]['severitydesc'].value_counts(dropna=False)"
   ]
  },
  {
   "cell_type": "markdown",
   "metadata": {},
   "source": [
    "From the above cells is clear that the 3 columns 'severitycode', 'severitycode.1' and 'severitydesc' are identical in information. 'severitydesc' is the description for the other 2 columns which are identical. Column 'severitycode' will be our target column for analysis to predict the severity of the accident. We will drop the columns with redundant information."
   ]
  },
  {
   "cell_type": "code",
   "execution_count": 41,
   "metadata": {},
   "outputs": [],
   "source": [
    "drop_col.extend(['severitycode.1', 'severitydesc'])"
   ]
  },
  {
   "cell_type": "code",
   "execution_count": 42,
   "metadata": {},
   "outputs": [
    {
     "data": {
      "text/plain": [
       "Parked Car    47987\n",
       "Angles        34674\n",
       "Rear Ended    34090\n",
       "Other         23703\n",
       "Sideswipe     18609\n",
       "Left Turn     13703\n",
       "Pedestrian     6608\n",
       "Cycles         5415\n",
       "NaN            4904\n",
       "Right Turn     2956\n",
       "Head On        2024\n",
       "Name: collisiontype, dtype: int64"
      ]
     },
     "execution_count": 42,
     "metadata": {},
     "output_type": "execute_result"
    }
   ],
   "source": [
    "df_c['collisiontype'].value_counts(dropna=False)"
   ]
  },
  {
   "cell_type": "markdown",
   "metadata": {},
   "source": [
    "Nan values in column can either be dropped or converted 'Unknown' or 'Other'. In this case, we will convert the nan to value 'Other'"
   ]
  },
  {
   "cell_type": "code",
   "execution_count": 43,
   "metadata": {},
   "outputs": [
    {
     "data": {
      "text/plain": [
       "(47, 0)"
      ]
     },
     "execution_count": 43,
     "metadata": {},
     "output_type": "execute_result"
    }
   ],
   "source": [
    "df_c['personcount'].nunique(), df_c['personcount'].isna().sum()"
   ]
  },
  {
   "cell_type": "markdown",
   "metadata": {},
   "source": [
    "column 'personcount' is the number of people involved in the accident and we don't have any null values. This will be an important column in our analysis."
   ]
  },
  {
   "cell_type": "code",
   "execution_count": 44,
   "metadata": {},
   "outputs": [
    {
     "data": {
      "text/plain": [
       "0    187734\n",
       "1      6685\n",
       "2       226\n",
       "3        22\n",
       "4         4\n",
       "6         1\n",
       "5         1\n",
       "Name: pedcount, dtype: int64"
      ]
     },
     "execution_count": 44,
     "metadata": {},
     "output_type": "execute_result"
    }
   ],
   "source": [
    "df_c['pedcount'].value_counts(dropna=False)"
   ]
  },
  {
   "cell_type": "code",
   "execution_count": 45,
   "metadata": {},
   "outputs": [
    {
     "data": {
      "text/plain": [
       "0    189189\n",
       "1      5441\n",
       "2        43\n",
       "Name: pedcylcount, dtype: int64"
      ]
     },
     "execution_count": 45,
     "metadata": {},
     "output_type": "execute_result"
    }
   ],
   "source": [
    "df_c['pedcylcount'].value_counts(dropna=False)"
   ]
  },
  {
   "cell_type": "code",
   "execution_count": 46,
   "metadata": {},
   "outputs": [
    {
     "data": {
      "text/plain": [
       "2     147650\n",
       "1      25748\n",
       "3      13010\n",
       "0       5085\n",
       "4       2426\n",
       "5        529\n",
       "6        146\n",
       "7         46\n",
       "8         15\n",
       "9          9\n",
       "11         6\n",
       "10         2\n",
       "12         1\n",
       "Name: vehcount, dtype: int64"
      ]
     },
     "execution_count": 46,
     "metadata": {},
     "output_type": "execute_result"
    }
   ],
   "source": [
    "df_c['vehcount'].value_counts(dropna=False)"
   ]
  },
  {
   "cell_type": "markdown",
   "metadata": {},
   "source": [
    "Most of the cases in the dataset are where no pedestrians were involved but we have quite a few pedestrians involved cases."
   ]
  },
  {
   "cell_type": "code",
   "execution_count": 47,
   "metadata": {},
   "outputs": [
    {
     "data": {
      "text/plain": [
       "False"
      ]
     },
     "execution_count": 47,
     "metadata": {},
     "output_type": "execute_result"
    }
   ],
   "source": [
    "np.nan in df_c['incdate'].unique()"
   ]
  },
  {
   "cell_type": "code",
   "execution_count": 48,
   "metadata": {},
   "outputs": [
    {
     "data": {
      "text/plain": [
       "False"
      ]
     },
     "execution_count": 48,
     "metadata": {},
     "output_type": "execute_result"
    }
   ],
   "source": [
    "np.nan in df_c['incdttm'].unique()"
   ]
  },
  {
   "cell_type": "code",
   "execution_count": 49,
   "metadata": {},
   "outputs": [
    {
     "data": {
      "text/html": [
       "<div>\n",
       "<style scoped>\n",
       "    .dataframe tbody tr th:only-of-type {\n",
       "        vertical-align: middle;\n",
       "    }\n",
       "\n",
       "    .dataframe tbody tr th {\n",
       "        vertical-align: top;\n",
       "    }\n",
       "\n",
       "    .dataframe thead th {\n",
       "        text-align: right;\n",
       "    }\n",
       "</style>\n",
       "<table border=\"1\" class=\"dataframe\">\n",
       "  <thead>\n",
       "    <tr style=\"text-align: right;\">\n",
       "      <th></th>\n",
       "      <th>incdate</th>\n",
       "      <th>incdttm</th>\n",
       "    </tr>\n",
       "  </thead>\n",
       "  <tbody>\n",
       "    <tr>\n",
       "      <th>0</th>\n",
       "      <td>2013/03/27 00:00:00+00</td>\n",
       "      <td>3/27/2013 2:54:00 PM</td>\n",
       "    </tr>\n",
       "    <tr>\n",
       "      <th>1</th>\n",
       "      <td>2006/12/20 00:00:00+00</td>\n",
       "      <td>12/20/2006 6:55:00 PM</td>\n",
       "    </tr>\n",
       "    <tr>\n",
       "      <th>2</th>\n",
       "      <td>2004/11/18 00:00:00+00</td>\n",
       "      <td>11/18/2004 10:20:00 AM</td>\n",
       "    </tr>\n",
       "    <tr>\n",
       "      <th>3</th>\n",
       "      <td>2013/03/29 00:00:00+00</td>\n",
       "      <td>3/29/2013 9:26:00 AM</td>\n",
       "    </tr>\n",
       "    <tr>\n",
       "      <th>4</th>\n",
       "      <td>2004/01/28 00:00:00+00</td>\n",
       "      <td>1/28/2004 8:04:00 AM</td>\n",
       "    </tr>\n",
       "    <tr>\n",
       "      <th>5</th>\n",
       "      <td>2019/04/20 00:00:00+00</td>\n",
       "      <td>4/20/2019 5:42:00 PM</td>\n",
       "    </tr>\n",
       "    <tr>\n",
       "      <th>6</th>\n",
       "      <td>2008/12/09 00:00:00+00</td>\n",
       "      <td>12/9/2008</td>\n",
       "    </tr>\n",
       "    <tr>\n",
       "      <th>7</th>\n",
       "      <td>2020/04/15 00:00:00+00</td>\n",
       "      <td>4/15/2020 5:47:00 PM</td>\n",
       "    </tr>\n",
       "    <tr>\n",
       "      <th>8</th>\n",
       "      <td>2006/06/15 00:00:00+00</td>\n",
       "      <td>6/15/2006 1:00:00 PM</td>\n",
       "    </tr>\n",
       "    <tr>\n",
       "      <th>9</th>\n",
       "      <td>2006/03/20 00:00:00+00</td>\n",
       "      <td>3/20/2006 3:49:00 PM</td>\n",
       "    </tr>\n",
       "  </tbody>\n",
       "</table>\n",
       "</div>"
      ],
      "text/plain": [
       "                  incdate                 incdttm\n",
       "0  2013/03/27 00:00:00+00    3/27/2013 2:54:00 PM\n",
       "1  2006/12/20 00:00:00+00   12/20/2006 6:55:00 PM\n",
       "2  2004/11/18 00:00:00+00  11/18/2004 10:20:00 AM\n",
       "3  2013/03/29 00:00:00+00    3/29/2013 9:26:00 AM\n",
       "4  2004/01/28 00:00:00+00    1/28/2004 8:04:00 AM\n",
       "5  2019/04/20 00:00:00+00    4/20/2019 5:42:00 PM\n",
       "6  2008/12/09 00:00:00+00               12/9/2008\n",
       "7  2020/04/15 00:00:00+00    4/15/2020 5:47:00 PM\n",
       "8  2006/06/15 00:00:00+00    6/15/2006 1:00:00 PM\n",
       "9  2006/03/20 00:00:00+00    3/20/2006 3:49:00 PM"
      ]
     },
     "execution_count": 49,
     "metadata": {},
     "output_type": "execute_result"
    }
   ],
   "source": [
    "df_c[['incdate', 'incdttm']].head(10)"
   ]
  },
  {
   "cell_type": "markdown",
   "metadata": {},
   "source": [
    "Columns 'incdate' and 'incdttm' are accident date and accident datetime respectively. We will drop the 'incdate' column and convert column 'incdttm' to datetime. And retrieve month, day and hour"
   ]
  },
  {
   "cell_type": "code",
   "execution_count": 50,
   "metadata": {},
   "outputs": [],
   "source": [
    "drop_col.append('incdate')"
   ]
  },
  {
   "cell_type": "code",
   "execution_count": 51,
   "metadata": {},
   "outputs": [
    {
     "data": {
      "text/plain": [
       "(6329, 7)"
      ]
     },
     "execution_count": 51,
     "metadata": {},
     "output_type": "execute_result"
    }
   ],
   "source": [
    "df_c['junctiontype'].isna().sum(), df_c['junctiontype'].nunique()"
   ]
  },
  {
   "cell_type": "code",
   "execution_count": 52,
   "metadata": {},
   "outputs": [
    {
     "data": {
      "text/plain": [
       "Mid-Block (not related to intersection)              89800\n",
       "At Intersection (intersection related)               62810\n",
       "Mid-Block (but intersection related)                 22790\n",
       "Driveway Junction                                    10671\n",
       "NaN                                                   6329\n",
       "At Intersection (but not related to intersection)     2098\n",
       "Ramp Junction                                          166\n",
       "Unknown                                                  9\n",
       "Name: junctiontype, dtype: int64"
      ]
     },
     "execution_count": 52,
     "metadata": {},
     "output_type": "execute_result"
    }
   ],
   "source": [
    "df_c['junctiontype'].value_counts(dropna=False)"
   ]
  },
  {
   "cell_type": "markdown",
   "metadata": {},
   "source": [
    "The nan values in junctiontype can be converted to value 'Unknown'."
   ]
  },
  {
   "cell_type": "code",
   "execution_count": 53,
   "metadata": {},
   "outputs": [
    {
     "data": {
      "text/plain": [
       "(0, 39)"
      ]
     },
     "execution_count": 53,
     "metadata": {},
     "output_type": "execute_result"
    }
   ],
   "source": [
    "df_c['sdot_colcode'].isna().sum(), df_c['sdot_colcode'].nunique()"
   ]
  },
  {
   "cell_type": "code",
   "execution_count": 54,
   "metadata": {},
   "outputs": [
    {
     "data": {
      "text/plain": [
       "(0, 39)"
      ]
     },
     "execution_count": 54,
     "metadata": {},
     "output_type": "execute_result"
    }
   ],
   "source": [
    "df_c['sdot_coldesc'].isna().sum(), df_c['sdot_coldesc'].nunique()"
   ]
  },
  {
   "cell_type": "code",
   "execution_count": 55,
   "metadata": {},
   "outputs": [
    {
     "data": {
      "text/plain": [
       "array([ True,  True,  True,  True,  True,  True,  True,  True,  True,\n",
       "        True,  True,  True,  True,  True,  True,  True,  True,  True,\n",
       "        True,  True,  True,  True,  True,  True,  True,  True,  True,\n",
       "        True,  True,  True,  True,  True,  True,  True,  True,  True,\n",
       "        True,  True,  True])"
      ]
     },
     "execution_count": 55,
     "metadata": {},
     "output_type": "execute_result"
    }
   ],
   "source": [
    "df_c['sdot_colcode'].value_counts().values == df_c['sdot_coldesc'].value_counts().values"
   ]
  },
  {
   "cell_type": "markdown",
   "metadata": {},
   "source": [
    "We will drop the column 'sdot_coldesc'"
   ]
  },
  {
   "cell_type": "code",
   "execution_count": 56,
   "metadata": {},
   "outputs": [],
   "source": [
    "drop_col.append('sdot_coldesc')"
   ]
  },
  {
   "cell_type": "code",
   "execution_count": 57,
   "metadata": {},
   "outputs": [
    {
     "name": "stdout",
     "output_type": "stream",
     "text": [
      "164868\n"
     ]
    },
    {
     "data": {
      "text/plain": [
       "NaN    164868\n",
       "Y       29805\n",
       "Name: inattentionind, dtype: int64"
      ]
     },
     "execution_count": 57,
     "metadata": {},
     "output_type": "execute_result"
    }
   ],
   "source": [
    "print(df_c['inattentionind'].isna().sum())\n",
    "df_c['inattentionind'].value_counts(dropna=False)"
   ]
  },
  {
   "cell_type": "markdown",
   "metadata": {},
   "source": [
    "The column 'inattentionind' only has \"Y\" and nan values. We can infer from this that only the \"Y\" value was documented and the cases where the value was \"N\" was left blank. In this case, we can replace the Nan value with a \"N\". Here \"Y\" refers to Yes and \"N\" refers to \"No\". The column provides us with the information if the driver was not paying attention while driving. Here, we will replace the values nan and Y with 0 and 1 respectively."
   ]
  },
  {
   "cell_type": "code",
   "execution_count": 58,
   "metadata": {
    "scrolled": true
   },
   "outputs": [
    {
     "data": {
      "text/plain": [
       "N      100274\n",
       "0       80394\n",
       "Y        5126\n",
       "NaN      4884\n",
       "1        3995\n",
       "Name: underinfl, dtype: int64"
      ]
     },
     "execution_count": 58,
     "metadata": {},
     "output_type": "execute_result"
    }
   ],
   "source": [
    "df_c['underinfl'].value_counts(dropna=False)"
   ]
  },
  {
   "cell_type": "code",
   "execution_count": 59,
   "metadata": {},
   "outputs": [
    {
     "data": {
      "text/plain": [
       "2.5088224869396374"
      ]
     },
     "execution_count": 59,
     "metadata": {},
     "output_type": "execute_result"
    }
   ],
   "source": [
    "df_c['underinfl'].isna().sum()/df_c.shape[0]*100"
   ]
  },
  {
   "cell_type": "markdown",
   "metadata": {},
   "source": [
    "Column 'underinfl' provides us if the driver was under influence of any drug or alcohol. We have multiple values with the same meaning in different formats. This is similar to the above case. We will convert the values N and Y to 0,1 respetively. In this case, we cannot infer about the value of the Nan cases. These are unknown and can either be 0 or 1. We can impute the value with the category of highest frequency i.e. 0. But nan constitute about 2.5% of the total data and we will drop the null values"
   ]
  },
  {
   "cell_type": "code",
   "execution_count": 60,
   "metadata": {
    "scrolled": true
   },
   "outputs": [
    {
     "data": {
      "text/plain": [
       "Clear                       111135\n",
       "Raining                      33145\n",
       "Overcast                     27714\n",
       "Unknown                      15091\n",
       "NaN                           5081\n",
       "Snowing                        907\n",
       "Other                          832\n",
       "Fog/Smog/Smoke                 569\n",
       "Sleet/Hail/Freezing Rain       113\n",
       "Blowing Sand/Dirt               56\n",
       "Severe Crosswind                25\n",
       "Partly Cloudy                    5\n",
       "Name: weather, dtype: int64"
      ]
     },
     "execution_count": 60,
     "metadata": {},
     "output_type": "execute_result"
    }
   ],
   "source": [
    "df_c['weather'].value_counts(dropna=False)"
   ]
  },
  {
   "cell_type": "markdown",
   "metadata": {},
   "source": [
    "In the column 'weather', Converting the nan values to 'Unknown' is a better option than converting to 'Other' or dropping."
   ]
  },
  {
   "cell_type": "code",
   "execution_count": 61,
   "metadata": {
    "scrolled": true
   },
   "outputs": [
    {
     "data": {
      "text/plain": [
       "Dry               124510\n",
       "Wet                47474\n",
       "Unknown            15078\n",
       "NaN                 5012\n",
       "Ice                 1209\n",
       "Snow/Slush          1004\n",
       "Other                132\n",
       "Standing Water       115\n",
       "Sand/Mud/Dirt         75\n",
       "Oil                   64\n",
       "Name: roadcond, dtype: int64"
      ]
     },
     "execution_count": 61,
     "metadata": {},
     "output_type": "execute_result"
    }
   ],
   "source": [
    "df_c['roadcond'].value_counts(dropna=False)"
   ]
  },
  {
   "cell_type": "markdown",
   "metadata": {},
   "source": [
    "Just as in the above case, we will replace the nan values in column 'roadcond' to 'Unknown'."
   ]
  },
  {
   "cell_type": "code",
   "execution_count": 62,
   "metadata": {},
   "outputs": [
    {
     "data": {
      "text/plain": [
       "Daylight                    116137\n",
       "Dark - Street Lights On      48507\n",
       "Unknown                      13473\n",
       "Dusk                          5902\n",
       "NaN                           5170\n",
       "Dawn                          2502\n",
       "Dark - No Street Lights       1537\n",
       "Dark - Street Lights Off      1199\n",
       "Other                          235\n",
       "Dark - Unknown Lighting         11\n",
       "Name: lightcond, dtype: int64"
      ]
     },
     "execution_count": 62,
     "metadata": {},
     "output_type": "execute_result"
    }
   ],
   "source": [
    "df_c['lightcond'].value_counts(dropna=False)"
   ]
  },
  {
   "cell_type": "markdown",
   "metadata": {},
   "source": [
    "We can convert the nan values in 'lightcond' to value 'Unknown'"
   ]
  },
  {
   "cell_type": "code",
   "execution_count": 63,
   "metadata": {},
   "outputs": [
    {
     "data": {
      "text/plain": [
       "NaN    190006\n",
       "Y        4667\n",
       "Name: pedrownotgrnt, dtype: int64"
      ]
     },
     "execution_count": 63,
     "metadata": {},
     "output_type": "execute_result"
    }
   ],
   "source": [
    "df_c['pedrownotgrnt'].value_counts(dropna=False)"
   ]
  },
  {
   "cell_type": "markdown",
   "metadata": {},
   "source": [
    "In the case of column 'pedrownotgrnt', We can infer that only the vale \"Y\" (Yes) was documented and the No values were left out. We will convert the nan values to 0 and \"Y\" to 1. The column provides us with the information if the pedestrian right of way was not granted."
   ]
  },
  {
   "cell_type": "code",
   "execution_count": 64,
   "metadata": {},
   "outputs": [
    {
     "data": {
      "text/plain": [
       "NaN    185340\n",
       "Y        9333\n",
       "Name: speeding, dtype: int64"
      ]
     },
     "execution_count": 64,
     "metadata": {},
     "output_type": "execute_result"
    }
   ],
   "source": [
    "df_c['speeding'].value_counts(dropna=False)"
   ]
  },
  {
   "cell_type": "markdown",
   "metadata": {},
   "source": [
    "In column 'speeding', we infer that the values are yes and no. Therefore, we will convert the nan to 0 and \"Y\" to 1. The column provides us with the information if the driver was speeding his car."
   ]
  },
  {
   "cell_type": "code",
   "execution_count": 65,
   "metadata": {
    "scrolled": true
   },
   "outputs": [
    {
     "data": {
      "text/plain": [
       "N    187457\n",
       "Y      7216\n",
       "Name: hitparkedcar, dtype: int64"
      ]
     },
     "execution_count": 65,
     "metadata": {},
     "output_type": "execute_result"
    }
   ],
   "source": [
    "df_c['hitparkedcar'].value_counts(dropna=False)"
   ]
  },
  {
   "cell_type": "markdown",
   "metadata": {},
   "source": [
    "Column 'hitparkedcar' provides us with the info if the car hit a parked car. Column has 'N' and 'Y' values. we will convert the values 'N' and 'Y' to 0 and 1 respectively."
   ]
  },
  {
   "cell_type": "code",
   "execution_count": 66,
   "metadata": {},
   "outputs": [
    {
     "data": {
      "text/plain": [
       "194670"
      ]
     },
     "execution_count": 66,
     "metadata": {},
     "output_type": "execute_result"
    }
   ],
   "source": [
    "df_c['reportno'].nunique()"
   ]
  },
  {
   "cell_type": "markdown",
   "metadata": {},
   "source": [
    "Column 'reportno' has a unique value for each accident. This is not a useful attribute for our analysis. we will drop this column."
   ]
  },
  {
   "cell_type": "code",
   "execution_count": 67,
   "metadata": {},
   "outputs": [],
   "source": [
    "drop_col.append('reportno')"
   ]
  },
  {
   "cell_type": "code",
   "execution_count": 68,
   "metadata": {},
   "outputs": [
    {
     "data": {
      "text/plain": [
       "Matched      189786\n",
       "Unmatched      4887\n",
       "Name: status, dtype: int64"
      ]
     },
     "execution_count": 68,
     "metadata": {},
     "output_type": "execute_result"
    }
   ],
   "source": [
    "df['status'].value_counts(dropna=False)"
   ]
  },
  {
   "cell_type": "markdown",
   "metadata": {},
   "source": [
    "The values in column 'status' are imbalanced and after dropping other nan values only 1 unmatched value is left. We will drop this column."
   ]
  },
  {
   "cell_type": "code",
   "execution_count": 69,
   "metadata": {},
   "outputs": [],
   "source": [
    "drop_col.append('status')"
   ]
  },
  {
   "cell_type": "code",
   "execution_count": 70,
   "metadata": {},
   "outputs": [
    {
     "data": {
      "text/html": [
       "<div>\n",
       "<style scoped>\n",
       "    .dataframe tbody tr th:only-of-type {\n",
       "        vertical-align: middle;\n",
       "    }\n",
       "\n",
       "    .dataframe tbody tr th {\n",
       "        vertical-align: top;\n",
       "    }\n",
       "\n",
       "    .dataframe thead th {\n",
       "        text-align: right;\n",
       "    }\n",
       "</style>\n",
       "<table border=\"1\" class=\"dataframe\">\n",
       "  <thead>\n",
       "    <tr style=\"text-align: right;\">\n",
       "      <th></th>\n",
       "      <th>x</th>\n",
       "      <th>y</th>\n",
       "    </tr>\n",
       "  </thead>\n",
       "  <tbody>\n",
       "    <tr>\n",
       "      <th>0</th>\n",
       "      <td>-122.323148</td>\n",
       "      <td>47.703140</td>\n",
       "    </tr>\n",
       "    <tr>\n",
       "      <th>1</th>\n",
       "      <td>-122.347294</td>\n",
       "      <td>47.647172</td>\n",
       "    </tr>\n",
       "    <tr>\n",
       "      <th>2</th>\n",
       "      <td>-122.334540</td>\n",
       "      <td>47.607871</td>\n",
       "    </tr>\n",
       "    <tr>\n",
       "      <th>3</th>\n",
       "      <td>-122.334803</td>\n",
       "      <td>47.604803</td>\n",
       "    </tr>\n",
       "    <tr>\n",
       "      <th>4</th>\n",
       "      <td>-122.306426</td>\n",
       "      <td>47.545739</td>\n",
       "    </tr>\n",
       "    <tr>\n",
       "      <th>5</th>\n",
       "      <td>-122.387598</td>\n",
       "      <td>47.690575</td>\n",
       "    </tr>\n",
       "    <tr>\n",
       "      <th>6</th>\n",
       "      <td>-122.338485</td>\n",
       "      <td>47.618534</td>\n",
       "    </tr>\n",
       "    <tr>\n",
       "      <th>7</th>\n",
       "      <td>-122.320780</td>\n",
       "      <td>47.614076</td>\n",
       "    </tr>\n",
       "    <tr>\n",
       "      <th>8</th>\n",
       "      <td>-122.335930</td>\n",
       "      <td>47.611904</td>\n",
       "    </tr>\n",
       "    <tr>\n",
       "      <th>9</th>\n",
       "      <td>-122.384700</td>\n",
       "      <td>47.528475</td>\n",
       "    </tr>\n",
       "  </tbody>\n",
       "</table>\n",
       "</div>"
      ],
      "text/plain": [
       "            x          y\n",
       "0 -122.323148  47.703140\n",
       "1 -122.347294  47.647172\n",
       "2 -122.334540  47.607871\n",
       "3 -122.334803  47.604803\n",
       "4 -122.306426  47.545739\n",
       "5 -122.387598  47.690575\n",
       "6 -122.338485  47.618534\n",
       "7 -122.320780  47.614076\n",
       "8 -122.335930  47.611904\n",
       "9 -122.384700  47.528475"
      ]
     },
     "execution_count": 70,
     "metadata": {},
     "output_type": "execute_result"
    }
   ],
   "source": [
    "df_c[['x', 'y']].head(10)"
   ]
  },
  {
   "cell_type": "markdown",
   "metadata": {},
   "source": [
    "Column 'x' and 'y' are co-ordinates. we will drop these fir now."
   ]
  },
  {
   "cell_type": "code",
   "execution_count": 71,
   "metadata": {},
   "outputs": [],
   "source": [
    "drop_col.extend(['x', 'y'])"
   ]
  },
  {
   "cell_type": "code",
   "execution_count": 72,
   "metadata": {},
   "outputs": [
    {
     "data": {
      "text/plain": [
       "['inckey',\n",
       " 'coldetkey',\n",
       " 'objectid',\n",
       " 'intkey',\n",
       " 'location',\n",
       " 'exceptrsncode',\n",
       " 'exceptrsndesc',\n",
       " 'sdotcolnum',\n",
       " 'st_coldesc',\n",
       " 'st_colcode',\n",
       " 'sdot_colcode',\n",
       " 'seglanekey',\n",
       " 'crosswalkkey',\n",
       " 'severitycode.1',\n",
       " 'severitydesc',\n",
       " 'incdate',\n",
       " 'sdot_coldesc',\n",
       " 'reportno',\n",
       " 'status',\n",
       " 'x',\n",
       " 'y']"
      ]
     },
     "execution_count": 72,
     "metadata": {},
     "output_type": "execute_result"
    }
   ],
   "source": [
    "drop_col"
   ]
  },
  {
   "cell_type": "code",
   "execution_count": 73,
   "metadata": {},
   "outputs": [
    {
     "data": {
      "text/plain": [
       "severitycode        int64\n",
       "x                 float64\n",
       "y                 float64\n",
       "objectid            int64\n",
       "inckey              int64\n",
       "coldetkey           int64\n",
       "reportno           object\n",
       "status             object\n",
       "addrtype           object\n",
       "intkey            float64\n",
       "location           object\n",
       "exceptrsncode      object\n",
       "exceptrsndesc      object\n",
       "severitycode.1      int64\n",
       "severitydesc       object\n",
       "collisiontype      object\n",
       "personcount         int64\n",
       "pedcount            int64\n",
       "pedcylcount         int64\n",
       "vehcount            int64\n",
       "incdate            object\n",
       "incdttm            object\n",
       "junctiontype       object\n",
       "sdot_colcode        int64\n",
       "sdot_coldesc       object\n",
       "inattentionind     object\n",
       "underinfl          object\n",
       "weather            object\n",
       "roadcond           object\n",
       "lightcond          object\n",
       "pedrownotgrnt      object\n",
       "sdotcolnum        float64\n",
       "speeding           object\n",
       "st_colcode         object\n",
       "st_coldesc         object\n",
       "seglanekey          int64\n",
       "crosswalkkey        int64\n",
       "hitparkedcar       object\n",
       "dtype: object"
      ]
     },
     "execution_count": 73,
     "metadata": {},
     "output_type": "execute_result"
    }
   ],
   "source": [
    "df.dtypes"
   ]
  },
  {
   "cell_type": "markdown",
   "metadata": {},
   "source": [
    "* Columns to be dropped.\n",
    "* Convert nan to value 'other' in column 'collisiontype'.\n",
    "* Convert the nan values in junctiontype to the value 'Unknown'.\n",
    "* Replace values Nan and Y in column 'inattentionind' with 0 and 1 respectively.\n",
    "* Replace N and Y values in 'underinfl' with 0 and 1. Drop the null values.\n",
    "* Change the dtype of column 'underinfl' from object to int.\n",
    "* Convert nan values in 'weather' to 'Unknown'.\n",
    "* Replace the nan values in 'roadcond' to 'Unknown'.\n",
    "* Replace the nan, \"Y\" values to 0 and 1 respectively in column 'pedrownotgrnt'.\n",
    "* Replace the nan and \"Y\" values in column 'speeding' to 0 and 1.\n",
    "* Drop null values from column 'addrtype'\n",
    "* One-hot encode columns 'collisiontype', 'junctiontype', 'weather', 'roadcond', 'lightcond' and drop columns 'Other' or 'Unknown' from each.\n",
    "* Convert the data-type of 'incdttm' to datetime and extract month, day and hour of the day."
   ]
  },
  {
   "cell_type": "markdown",
   "metadata": {},
   "source": [
    "## Data Cleaning <a name=\"datacleaning\"></a>"
   ]
  },
  {
   "cell_type": "markdown",
   "metadata": {},
   "source": [
    "#### Define\n",
    "\n",
    "* Columns to be dropped"
   ]
  },
  {
   "cell_type": "markdown",
   "metadata": {},
   "source": [
    "#### Code"
   ]
  },
  {
   "cell_type": "code",
   "execution_count": 74,
   "metadata": {},
   "outputs": [],
   "source": [
    "df_c.drop(drop_col, axis=1, inplace=True)"
   ]
  },
  {
   "cell_type": "markdown",
   "metadata": {},
   "source": [
    "#### Verify"
   ]
  },
  {
   "cell_type": "code",
   "execution_count": 75,
   "metadata": {},
   "outputs": [
    {
     "data": {
      "text/plain": [
       "(194673, 17)"
      ]
     },
     "execution_count": 75,
     "metadata": {},
     "output_type": "execute_result"
    }
   ],
   "source": [
    "df_c.shape"
   ]
  },
  {
   "cell_type": "code",
   "execution_count": 76,
   "metadata": {},
   "outputs": [
    {
     "data": {
      "text/plain": [
       "Index(['severitycode', 'addrtype', 'collisiontype', 'personcount', 'pedcount',\n",
       "       'pedcylcount', 'vehcount', 'incdttm', 'junctiontype', 'inattentionind',\n",
       "       'underinfl', 'weather', 'roadcond', 'lightcond', 'pedrownotgrnt',\n",
       "       'speeding', 'hitparkedcar'],\n",
       "      dtype='object')"
      ]
     },
     "execution_count": 76,
     "metadata": {},
     "output_type": "execute_result"
    }
   ],
   "source": [
    "df_c.columns"
   ]
  },
  {
   "cell_type": "markdown",
   "metadata": {},
   "source": [
    "#### Define\n",
    "\n",
    "* Convert nan to value 'other' in column 'collisiontype'.\n",
    "* Convert the nan values in junctiontype to the value 'Unknown'.\n",
    "* Replace values Nan and Y in column 'inattentionind' with 0 and 1 respectively.\n"
   ]
  },
  {
   "cell_type": "markdown",
   "metadata": {},
   "source": [
    "#### Code"
   ]
  },
  {
   "cell_type": "code",
   "execution_count": 77,
   "metadata": {},
   "outputs": [],
   "source": [
    "df_c['collisiontype'].replace(np.nan, 'Other', inplace=True)\n",
    "df_c['junctiontype'].replace(np.nan, 'Unknown', inplace=True)\n",
    "df_c['inattentionind'].replace([np.nan, 'Y'], [0,1], inplace=True)"
   ]
  },
  {
   "cell_type": "markdown",
   "metadata": {},
   "source": [
    "#### Verify"
   ]
  },
  {
   "cell_type": "code",
   "execution_count": 78,
   "metadata": {},
   "outputs": [
    {
     "data": {
      "text/plain": [
       "Parked Car    0.246501\n",
       "Angles        0.178114\n",
       "Rear Ended    0.175114\n",
       "Other         0.146949\n",
       "Sideswipe     0.095591\n",
       "Left Turn     0.070390\n",
       "Pedestrian    0.033944\n",
       "Cycles        0.027816\n",
       "Right Turn    0.015184\n",
       "Head On       0.010397\n",
       "Name: collisiontype, dtype: float64"
      ]
     },
     "execution_count": 78,
     "metadata": {},
     "output_type": "execute_result"
    }
   ],
   "source": [
    "df_c['collisiontype'].value_counts(dropna=True, normalize=True)"
   ]
  },
  {
   "cell_type": "code",
   "execution_count": 79,
   "metadata": {},
   "outputs": [
    {
     "data": {
      "text/plain": [
       "Mid-Block (not related to intersection)              0.461286\n",
       "At Intersection (intersection related)               0.322644\n",
       "Mid-Block (but intersection related)                 0.117068\n",
       "Driveway Junction                                    0.054815\n",
       "Unknown                                              0.032557\n",
       "At Intersection (but not related to intersection)    0.010777\n",
       "Ramp Junction                                        0.000853\n",
       "Name: junctiontype, dtype: float64"
      ]
     },
     "execution_count": 79,
     "metadata": {},
     "output_type": "execute_result"
    }
   ],
   "source": [
    "df_c['junctiontype'].value_counts(dropna=True, normalize=True)"
   ]
  },
  {
   "cell_type": "code",
   "execution_count": 80,
   "metadata": {},
   "outputs": [
    {
     "data": {
      "text/plain": [
       "0    0.846897\n",
       "1    0.153103\n",
       "Name: inattentionind, dtype: float64"
      ]
     },
     "execution_count": 80,
     "metadata": {},
     "output_type": "execute_result"
    }
   ],
   "source": [
    "df_c['inattentionind'].value_counts(dropna=False, normalize=True)"
   ]
  },
  {
   "cell_type": "markdown",
   "metadata": {},
   "source": [
    "#### Define\n",
    "* Replace N and Y values in 'underinfl' with 0 and 1. Drop the null values.\n",
    "* Change the dtype of column 'underinfl' from object to int.\n",
    "* Replace 'N', 'Y' values in column 'hitparkedcar' to 0 and 1 respectively."
   ]
  },
  {
   "cell_type": "markdown",
   "metadata": {},
   "source": [
    "### Code"
   ]
  },
  {
   "cell_type": "code",
   "execution_count": 81,
   "metadata": {},
   "outputs": [],
   "source": [
    "df_c['underinfl'].replace(['N', 'Y'], [0,1], inplace=True)\n",
    "df_c.dropna(axis=0, subset=['underinfl'], inplace=True)\n",
    "df_c['underinfl'] = df_c['underinfl'].astype('int')\n",
    "df_c['hitparkedcar'].replace(['N', 'Y'], [0,1], inplace=True)"
   ]
  },
  {
   "cell_type": "markdown",
   "metadata": {},
   "source": [
    "#### Verify"
   ]
  },
  {
   "cell_type": "code",
   "execution_count": 82,
   "metadata": {},
   "outputs": [
    {
     "data": {
      "text/plain": [
       "0    0.951941\n",
       "1    0.048059\n",
       "Name: underinfl, dtype: float64"
      ]
     },
     "execution_count": 82,
     "metadata": {},
     "output_type": "execute_result"
    }
   ],
   "source": [
    "df_c['underinfl'].value_counts(dropna=False, normalize=True)"
   ]
  },
  {
   "cell_type": "code",
   "execution_count": 83,
   "metadata": {},
   "outputs": [
    {
     "data": {
      "text/plain": [
       "0    0.963549\n",
       "1    0.036451\n",
       "Name: hitparkedcar, dtype: float64"
      ]
     },
     "execution_count": 83,
     "metadata": {},
     "output_type": "execute_result"
    }
   ],
   "source": [
    "df_c['hitparkedcar'].value_counts(dropna=False, normalize=True)"
   ]
  },
  {
   "cell_type": "markdown",
   "metadata": {},
   "source": [
    "#### Define\n",
    "* Replace nan values in 'weather' to 'Unknown'.\n",
    "* Convert values with very low proportion in 'weather' to 'Other'.\n",
    "* Replace the nan values in 'roadcond' to 'Unknown'.\n",
    "* Convert values with very low proportion in 'roadcond' to 'Other'.\n",
    "* Replace nan value in column 'lightcond' to 'Unknown'. \n",
    "* Create a column 'streetlight' despicting cases where streetlight was on.\n",
    "* Merge all values containing 'dark' in column 'lightcond'."
   ]
  },
  {
   "cell_type": "markdown",
   "metadata": {},
   "source": [
    "#### Code"
   ]
  },
  {
   "cell_type": "code",
   "execution_count": 84,
   "metadata": {},
   "outputs": [],
   "source": [
    "# Column 'weather'\n",
    "df_c['weather'].replace(np.nan, 'Unknown', inplace=True)\n",
    "rep_val = [val for val in df['weather'].unique() if val not in ['Overcast', 'Raining', 'Clear', 'Unknown']]\n",
    "df_c['weather'].replace(rep_val, 'Other', inplace=True)\n",
    "\n",
    "# Column 'roadcond'\n",
    "df_c['roadcond'].replace(np.nan, 'Unknown', inplace=True)\n",
    "rep_val = [val for val in df['roadcond'].unique() if val not in ['Wet', 'Dry', 'Unknown']]\n",
    "df_c['roadcond'].replace(rep_val, 'Other', inplace=True)\n",
    "\n",
    "# Column 'lightcond'\n",
    "df_c['lightcond'].replace(np.nan, 'Unknown', inplace=True)\n",
    "df_c['streetlight'] = (df_c['lightcond'] == 'Dark - Street Lights On').astype('int')\n",
    "replace_light = ['Dark - Street Lights On', 'Dark - No Street Lights', 'Dark - Street Lights Off', 'Dark - Unknown Lighting']\n",
    "df_c['lightcond'].replace(replace_light, ['Dark']*4, inplace=True)"
   ]
  },
  {
   "cell_type": "markdown",
   "metadata": {},
   "source": [
    "#### Verify"
   ]
  },
  {
   "cell_type": "code",
   "execution_count": 85,
   "metadata": {
    "scrolled": true
   },
   "outputs": [
    {
     "data": {
      "text/plain": [
       "Clear       0.585571\n",
       "Raining     0.174641\n",
       "Overcast    0.146025\n",
       "Unknown     0.080553\n",
       "Other       0.013209\n",
       "Name: weather, dtype: float64"
      ]
     },
     "execution_count": 85,
     "metadata": {},
     "output_type": "execute_result"
    }
   ],
   "source": [
    "df_c['weather'].value_counts(dropna=False, normalize=True)"
   ]
  },
  {
   "cell_type": "code",
   "execution_count": 86,
   "metadata": {},
   "outputs": [
    {
     "data": {
      "text/plain": [
       "Dry        0.656044\n",
       "Wet        0.250141\n",
       "Unknown    0.080121\n",
       "Other      0.013694\n",
       "Name: roadcond, dtype: float64"
      ]
     },
     "execution_count": 86,
     "metadata": {},
     "output_type": "execute_result"
    }
   ],
   "source": [
    "df_c['roadcond'].value_counts(dropna=False, normalize=True)"
   ]
  },
  {
   "cell_type": "code",
   "execution_count": 87,
   "metadata": {},
   "outputs": [
    {
     "data": {
      "text/plain": [
       "Daylight    0.611927\n",
       "Dark        0.270058\n",
       "Unknown     0.072496\n",
       "Dusk        0.031098\n",
       "Dawn        0.013183\n",
       "Other       0.001238\n",
       "Name: lightcond, dtype: float64"
      ]
     },
     "execution_count": 87,
     "metadata": {},
     "output_type": "execute_result"
    }
   ],
   "source": [
    "df_c['lightcond'].value_counts(dropna=False, normalize=True)"
   ]
  },
  {
   "cell_type": "code",
   "execution_count": 88,
   "metadata": {},
   "outputs": [
    {
     "data": {
      "text/plain": [
       "0    0.744416\n",
       "1    0.255584\n",
       "Name: streetlight, dtype: float64"
      ]
     },
     "execution_count": 88,
     "metadata": {},
     "output_type": "execute_result"
    }
   ],
   "source": [
    "df_c['streetlight'].value_counts(normalize=True)"
   ]
  },
  {
   "cell_type": "markdown",
   "metadata": {},
   "source": [
    "#### Define\n",
    "* Replace the nan, \"Y\" values to 0 and 1 respectively in column 'pedrownotgrnt'.\n",
    "* Replace the nan and \"Y\" values in column 'speeding' to 0 and 1."
   ]
  },
  {
   "cell_type": "markdown",
   "metadata": {},
   "source": [
    "#### Code"
   ]
  },
  {
   "cell_type": "code",
   "execution_count": 89,
   "metadata": {},
   "outputs": [],
   "source": [
    "df_c['pedrownotgrnt'].replace([np.nan, 'Y'], [0,1], inplace=True)\n",
    "df_c['speeding'].replace([np.nan, 'Y'], [0,1], inplace=True)"
   ]
  },
  {
   "cell_type": "markdown",
   "metadata": {},
   "source": [
    "#### Verify"
   ]
  },
  {
   "cell_type": "code",
   "execution_count": 90,
   "metadata": {},
   "outputs": [
    {
     "data": {
      "text/plain": [
       "0    185122\n",
       "1      4667\n",
       "Name: pedrownotgrnt, dtype: int64"
      ]
     },
     "execution_count": 90,
     "metadata": {},
     "output_type": "execute_result"
    }
   ],
   "source": [
    "df_c['pedrownotgrnt'].value_counts(dropna=False)"
   ]
  },
  {
   "cell_type": "code",
   "execution_count": 91,
   "metadata": {},
   "outputs": [
    {
     "data": {
      "text/plain": [
       "0    180456\n",
       "1      9333\n",
       "Name: speeding, dtype: int64"
      ]
     },
     "execution_count": 91,
     "metadata": {},
     "output_type": "execute_result"
    }
   ],
   "source": [
    "df_c['speeding'].value_counts(dropna=False)"
   ]
  },
  {
   "cell_type": "markdown",
   "metadata": {},
   "source": [
    "#### Define\n",
    "* Drop null values from column 'addrtype' "
   ]
  },
  {
   "cell_type": "markdown",
   "metadata": {},
   "source": [
    "#### Code"
   ]
  },
  {
   "cell_type": "code",
   "execution_count": 92,
   "metadata": {},
   "outputs": [],
   "source": [
    "df_c.dropna(subset=['addrtype'], inplace=True)"
   ]
  },
  {
   "cell_type": "markdown",
   "metadata": {},
   "source": [
    "#### Verify"
   ]
  },
  {
   "cell_type": "code",
   "execution_count": 93,
   "metadata": {},
   "outputs": [
    {
     "data": {
      "text/plain": [
       "Block           0.657892\n",
       "Intersection    0.338134\n",
       "Alley           0.003974\n",
       "Name: addrtype, dtype: float64"
      ]
     },
     "execution_count": 93,
     "metadata": {},
     "output_type": "execute_result"
    }
   ],
   "source": [
    "df_c['addrtype'].value_counts(dropna=False, normalize=True)"
   ]
  },
  {
   "cell_type": "markdown",
   "metadata": {},
   "source": [
    "#### Define\n",
    "\n",
    "* Convert the data-type of 'incdttm' to datetime and extract month, day of month and hour of the day."
   ]
  },
  {
   "cell_type": "markdown",
   "metadata": {},
   "source": [
    "#### Code"
   ]
  },
  {
   "cell_type": "code",
   "execution_count": 94,
   "metadata": {},
   "outputs": [],
   "source": [
    "df_c['incdttm'] = pd.to_datetime(df_c['incdttm'], infer_datetime_format=True)\n",
    "df_c['month'] = df_c['incdttm'].dt.strftime(\"%b\")\n",
    "df_c['day'] = df_c['incdttm'].dt.strftime(\"%d\")\n",
    "df_c['hour'] = df_c['incdttm'].dt.strftime(\"%H\")"
   ]
  },
  {
   "cell_type": "markdown",
   "metadata": {},
   "source": [
    "#### Verify"
   ]
  },
  {
   "cell_type": "code",
   "execution_count": 95,
   "metadata": {},
   "outputs": [
    {
     "data": {
      "text/html": [
       "<div>\n",
       "<style scoped>\n",
       "    .dataframe tbody tr th:only-of-type {\n",
       "        vertical-align: middle;\n",
       "    }\n",
       "\n",
       "    .dataframe tbody tr th {\n",
       "        vertical-align: top;\n",
       "    }\n",
       "\n",
       "    .dataframe thead th {\n",
       "        text-align: right;\n",
       "    }\n",
       "</style>\n",
       "<table border=\"1\" class=\"dataframe\">\n",
       "  <thead>\n",
       "    <tr style=\"text-align: right;\">\n",
       "      <th></th>\n",
       "      <th>incdttm</th>\n",
       "      <th>month</th>\n",
       "      <th>day</th>\n",
       "      <th>hour</th>\n",
       "    </tr>\n",
       "  </thead>\n",
       "  <tbody>\n",
       "    <tr>\n",
       "      <th>0</th>\n",
       "      <td>2013-03-27 14:54:00</td>\n",
       "      <td>Mar</td>\n",
       "      <td>27</td>\n",
       "      <td>14</td>\n",
       "    </tr>\n",
       "    <tr>\n",
       "      <th>1</th>\n",
       "      <td>2006-12-20 18:55:00</td>\n",
       "      <td>Dec</td>\n",
       "      <td>20</td>\n",
       "      <td>18</td>\n",
       "    </tr>\n",
       "    <tr>\n",
       "      <th>2</th>\n",
       "      <td>2004-11-18 10:20:00</td>\n",
       "      <td>Nov</td>\n",
       "      <td>18</td>\n",
       "      <td>10</td>\n",
       "    </tr>\n",
       "    <tr>\n",
       "      <th>3</th>\n",
       "      <td>2013-03-29 09:26:00</td>\n",
       "      <td>Mar</td>\n",
       "      <td>29</td>\n",
       "      <td>09</td>\n",
       "    </tr>\n",
       "    <tr>\n",
       "      <th>4</th>\n",
       "      <td>2004-01-28 08:04:00</td>\n",
       "      <td>Jan</td>\n",
       "      <td>28</td>\n",
       "      <td>08</td>\n",
       "    </tr>\n",
       "  </tbody>\n",
       "</table>\n",
       "</div>"
      ],
      "text/plain": [
       "              incdttm month day hour\n",
       "0 2013-03-27 14:54:00   Mar  27   14\n",
       "1 2006-12-20 18:55:00   Dec  20   18\n",
       "2 2004-11-18 10:20:00   Nov  18   10\n",
       "3 2013-03-29 09:26:00   Mar  29   09\n",
       "4 2004-01-28 08:04:00   Jan  28   08"
      ]
     },
     "execution_count": 95,
     "metadata": {},
     "output_type": "execute_result"
    }
   ],
   "source": [
    "df_c[['incdttm', 'month', 'day', 'hour']].head()"
   ]
  },
  {
   "cell_type": "code",
   "execution_count": 96,
   "metadata": {},
   "outputs": [
    {
     "data": {
      "text/plain": [
       "incdttm    datetime64[ns]\n",
       "month              object\n",
       "day                object\n",
       "hour               object\n",
       "dtype: object"
      ]
     },
     "execution_count": 96,
     "metadata": {},
     "output_type": "execute_result"
    }
   ],
   "source": [
    "df_c[['incdttm', 'month', 'day', 'hour']].dtypes"
   ]
  },
  {
   "cell_type": "code",
   "execution_count": 97,
   "metadata": {},
   "outputs": [
    {
     "data": {
      "text/plain": [
       "(187970, 21)"
      ]
     },
     "execution_count": 97,
     "metadata": {},
     "output_type": "execute_result"
    }
   ],
   "source": [
    "df_c.shape"
   ]
  },
  {
   "cell_type": "code",
   "execution_count": 98,
   "metadata": {},
   "outputs": [
    {
     "data": {
      "text/plain": [
       "severitycode               int64\n",
       "addrtype                  object\n",
       "collisiontype             object\n",
       "personcount                int64\n",
       "pedcount                   int64\n",
       "pedcylcount                int64\n",
       "vehcount                   int64\n",
       "incdttm           datetime64[ns]\n",
       "junctiontype              object\n",
       "inattentionind             int64\n",
       "underinfl                  int32\n",
       "weather                   object\n",
       "roadcond                  object\n",
       "lightcond                 object\n",
       "pedrownotgrnt              int64\n",
       "speeding                   int64\n",
       "hitparkedcar               int64\n",
       "streetlight                int32\n",
       "month                     object\n",
       "day                       object\n",
       "hour                      object\n",
       "dtype: object"
      ]
     },
     "execution_count": 98,
     "metadata": {},
     "output_type": "execute_result"
    }
   ],
   "source": [
    "df_c.dtypes"
   ]
  },
  {
   "cell_type": "markdown",
   "metadata": {},
   "source": [
    "**Save cleaned dataset for later analysis. Further we will one-hot encode categorical data using pd.get_dummies.**"
   ]
  },
  {
   "cell_type": "code",
   "execution_count": 99,
   "metadata": {},
   "outputs": [],
   "source": [
    "df_c.to_csv('data/df_cleaned.csv', index=False)"
   ]
  },
  {
   "cell_type": "markdown",
   "metadata": {},
   "source": [
    "* One-hot encode columns 'collisiontype', 'junctiontype', 'weather', 'roadcond', 'lightcond' and drop columns containing 'Unknown' from each."
   ]
  },
  {
   "cell_type": "code",
   "execution_count": 100,
   "metadata": {
    "scrolled": true
   },
   "outputs": [
    {
     "name": "stdout",
     "output_type": "stream",
     "text": [
      "(187970, 43)\n"
     ]
    },
    {
     "data": {
      "text/html": [
       "<div>\n",
       "<style scoped>\n",
       "    .dataframe tbody tr th:only-of-type {\n",
       "        vertical-align: middle;\n",
       "    }\n",
       "\n",
       "    .dataframe tbody tr th {\n",
       "        vertical-align: top;\n",
       "    }\n",
       "\n",
       "    .dataframe thead th {\n",
       "        text-align: right;\n",
       "    }\n",
       "</style>\n",
       "<table border=\"1\" class=\"dataframe\">\n",
       "  <thead>\n",
       "    <tr style=\"text-align: right;\">\n",
       "      <th></th>\n",
       "      <th>severitycode</th>\n",
       "      <th>personcount</th>\n",
       "      <th>pedcount</th>\n",
       "      <th>pedcylcount</th>\n",
       "      <th>vehcount</th>\n",
       "      <th>incdttm</th>\n",
       "      <th>inattentionind</th>\n",
       "      <th>underinfl</th>\n",
       "      <th>pedrownotgrnt</th>\n",
       "      <th>speeding</th>\n",
       "      <th>...</th>\n",
       "      <th>roadcond_Dry</th>\n",
       "      <th>roadcond_Other</th>\n",
       "      <th>roadcond_Wet</th>\n",
       "      <th>lightcond_Dark</th>\n",
       "      <th>lightcond_Dawn</th>\n",
       "      <th>lightcond_Daylight</th>\n",
       "      <th>lightcond_Dusk</th>\n",
       "      <th>lightcond_Other</th>\n",
       "      <th>addrtype_Block</th>\n",
       "      <th>addrtype_Intersection</th>\n",
       "    </tr>\n",
       "  </thead>\n",
       "  <tbody>\n",
       "    <tr>\n",
       "      <th>0</th>\n",
       "      <td>2</td>\n",
       "      <td>2</td>\n",
       "      <td>0</td>\n",
       "      <td>0</td>\n",
       "      <td>2</td>\n",
       "      <td>2013-03-27 14:54:00</td>\n",
       "      <td>0</td>\n",
       "      <td>0</td>\n",
       "      <td>0</td>\n",
       "      <td>0</td>\n",
       "      <td>...</td>\n",
       "      <td>0</td>\n",
       "      <td>0</td>\n",
       "      <td>1</td>\n",
       "      <td>0</td>\n",
       "      <td>0</td>\n",
       "      <td>1</td>\n",
       "      <td>0</td>\n",
       "      <td>0</td>\n",
       "      <td>0</td>\n",
       "      <td>1</td>\n",
       "    </tr>\n",
       "    <tr>\n",
       "      <th>1</th>\n",
       "      <td>1</td>\n",
       "      <td>2</td>\n",
       "      <td>0</td>\n",
       "      <td>0</td>\n",
       "      <td>2</td>\n",
       "      <td>2006-12-20 18:55:00</td>\n",
       "      <td>0</td>\n",
       "      <td>0</td>\n",
       "      <td>0</td>\n",
       "      <td>0</td>\n",
       "      <td>...</td>\n",
       "      <td>0</td>\n",
       "      <td>0</td>\n",
       "      <td>1</td>\n",
       "      <td>1</td>\n",
       "      <td>0</td>\n",
       "      <td>0</td>\n",
       "      <td>0</td>\n",
       "      <td>0</td>\n",
       "      <td>1</td>\n",
       "      <td>0</td>\n",
       "    </tr>\n",
       "    <tr>\n",
       "      <th>2</th>\n",
       "      <td>1</td>\n",
       "      <td>4</td>\n",
       "      <td>0</td>\n",
       "      <td>0</td>\n",
       "      <td>3</td>\n",
       "      <td>2004-11-18 10:20:00</td>\n",
       "      <td>0</td>\n",
       "      <td>0</td>\n",
       "      <td>0</td>\n",
       "      <td>0</td>\n",
       "      <td>...</td>\n",
       "      <td>1</td>\n",
       "      <td>0</td>\n",
       "      <td>0</td>\n",
       "      <td>0</td>\n",
       "      <td>0</td>\n",
       "      <td>1</td>\n",
       "      <td>0</td>\n",
       "      <td>0</td>\n",
       "      <td>1</td>\n",
       "      <td>0</td>\n",
       "    </tr>\n",
       "    <tr>\n",
       "      <th>3</th>\n",
       "      <td>1</td>\n",
       "      <td>3</td>\n",
       "      <td>0</td>\n",
       "      <td>0</td>\n",
       "      <td>3</td>\n",
       "      <td>2013-03-29 09:26:00</td>\n",
       "      <td>0</td>\n",
       "      <td>0</td>\n",
       "      <td>0</td>\n",
       "      <td>0</td>\n",
       "      <td>...</td>\n",
       "      <td>1</td>\n",
       "      <td>0</td>\n",
       "      <td>0</td>\n",
       "      <td>0</td>\n",
       "      <td>0</td>\n",
       "      <td>1</td>\n",
       "      <td>0</td>\n",
       "      <td>0</td>\n",
       "      <td>1</td>\n",
       "      <td>0</td>\n",
       "    </tr>\n",
       "    <tr>\n",
       "      <th>4</th>\n",
       "      <td>2</td>\n",
       "      <td>2</td>\n",
       "      <td>0</td>\n",
       "      <td>0</td>\n",
       "      <td>2</td>\n",
       "      <td>2004-01-28 08:04:00</td>\n",
       "      <td>0</td>\n",
       "      <td>0</td>\n",
       "      <td>0</td>\n",
       "      <td>0</td>\n",
       "      <td>...</td>\n",
       "      <td>0</td>\n",
       "      <td>0</td>\n",
       "      <td>1</td>\n",
       "      <td>0</td>\n",
       "      <td>0</td>\n",
       "      <td>1</td>\n",
       "      <td>0</td>\n",
       "      <td>0</td>\n",
       "      <td>0</td>\n",
       "      <td>1</td>\n",
       "    </tr>\n",
       "  </tbody>\n",
       "</table>\n",
       "<p>5 rows × 43 columns</p>\n",
       "</div>"
      ],
      "text/plain": [
       "   severitycode  personcount  pedcount  pedcylcount  vehcount  \\\n",
       "0             2            2         0            0         2   \n",
       "1             1            2         0            0         2   \n",
       "2             1            4         0            0         3   \n",
       "3             1            3         0            0         3   \n",
       "4             2            2         0            0         2   \n",
       "\n",
       "              incdttm  inattentionind  underinfl  pedrownotgrnt  speeding  \\\n",
       "0 2013-03-27 14:54:00               0          0              0         0   \n",
       "1 2006-12-20 18:55:00               0          0              0         0   \n",
       "2 2004-11-18 10:20:00               0          0              0         0   \n",
       "3 2013-03-29 09:26:00               0          0              0         0   \n",
       "4 2004-01-28 08:04:00               0          0              0         0   \n",
       "\n",
       "   ...  roadcond_Dry  roadcond_Other roadcond_Wet lightcond_Dark  \\\n",
       "0  ...             0               0            1              0   \n",
       "1  ...             0               0            1              1   \n",
       "2  ...             1               0            0              0   \n",
       "3  ...             1               0            0              0   \n",
       "4  ...             0               0            1              0   \n",
       "\n",
       "  lightcond_Dawn  lightcond_Daylight  lightcond_Dusk  lightcond_Other  \\\n",
       "0              0                   1               0                0   \n",
       "1              0                   0               0                0   \n",
       "2              0                   1               0                0   \n",
       "3              0                   1               0                0   \n",
       "4              0                   1               0                0   \n",
       "\n",
       "   addrtype_Block  addrtype_Intersection  \n",
       "0               0                      1  \n",
       "1               1                      0  \n",
       "2               1                      0  \n",
       "3               1                      0  \n",
       "4               0                      1  \n",
       "\n",
       "[5 rows x 43 columns]"
      ]
     },
     "execution_count": 100,
     "metadata": {},
     "output_type": "execute_result"
    }
   ],
   "source": [
    "dum_col = ['collisiontype', 'junctiontype', 'weather', 'roadcond', 'lightcond', 'addrtype']\n",
    "dum_drop=['junctiontype_Unknown', 'weather_Unknown', 'roadcond_Unknown', 'lightcond_Unknown','addrtype_Alley']\n",
    "dum_drop.extend(['junctiontype_At Intersection (but not related to intersection)','junctiontype_Ramp Junction'])\n",
    "df_c = pd.get_dummies(df_c, columns=dum_col).drop(dum_drop, axis=1)\n",
    "print(df_c.shape)\n",
    "df_c.head()"
   ]
  },
  {
   "cell_type": "markdown",
   "metadata": {},
   "source": [
    "**Save the final data. This will be used to bulid models.**"
   ]
  },
  {
   "cell_type": "code",
   "execution_count": 101,
   "metadata": {},
   "outputs": [],
   "source": [
    "df_c.to_csv('data/final_df.csv', index=False)"
   ]
  },
  {
   "cell_type": "markdown",
   "metadata": {},
   "source": [
    "### Analyze <a name='analyze'></a>"
   ]
  },
  {
   "cell_type": "markdown",
   "metadata": {},
   "source": [
    "**Load the cleaned dataset. The final data will be used later for model building.**"
   ]
  },
  {
   "cell_type": "code",
   "execution_count": 102,
   "metadata": {},
   "outputs": [
    {
     "data": {
      "text/html": [
       "<div>\n",
       "<style scoped>\n",
       "    .dataframe tbody tr th:only-of-type {\n",
       "        vertical-align: middle;\n",
       "    }\n",
       "\n",
       "    .dataframe tbody tr th {\n",
       "        vertical-align: top;\n",
       "    }\n",
       "\n",
       "    .dataframe thead th {\n",
       "        text-align: right;\n",
       "    }\n",
       "</style>\n",
       "<table border=\"1\" class=\"dataframe\">\n",
       "  <thead>\n",
       "    <tr style=\"text-align: right;\">\n",
       "      <th></th>\n",
       "      <th>severitycode</th>\n",
       "      <th>addrtype</th>\n",
       "      <th>collisiontype</th>\n",
       "      <th>personcount</th>\n",
       "      <th>pedcount</th>\n",
       "      <th>pedcylcount</th>\n",
       "      <th>vehcount</th>\n",
       "      <th>incdttm</th>\n",
       "      <th>junctiontype</th>\n",
       "      <th>inattentionind</th>\n",
       "      <th>...</th>\n",
       "      <th>weather</th>\n",
       "      <th>roadcond</th>\n",
       "      <th>lightcond</th>\n",
       "      <th>pedrownotgrnt</th>\n",
       "      <th>speeding</th>\n",
       "      <th>hitparkedcar</th>\n",
       "      <th>streetlight</th>\n",
       "      <th>month</th>\n",
       "      <th>day</th>\n",
       "      <th>hour</th>\n",
       "    </tr>\n",
       "  </thead>\n",
       "  <tbody>\n",
       "    <tr>\n",
       "      <th>0</th>\n",
       "      <td>2</td>\n",
       "      <td>Intersection</td>\n",
       "      <td>Angles</td>\n",
       "      <td>2</td>\n",
       "      <td>0</td>\n",
       "      <td>0</td>\n",
       "      <td>2</td>\n",
       "      <td>2013-03-27 14:54:00</td>\n",
       "      <td>At Intersection (intersection related)</td>\n",
       "      <td>0</td>\n",
       "      <td>...</td>\n",
       "      <td>Overcast</td>\n",
       "      <td>Wet</td>\n",
       "      <td>Daylight</td>\n",
       "      <td>0</td>\n",
       "      <td>0</td>\n",
       "      <td>0</td>\n",
       "      <td>0</td>\n",
       "      <td>Mar</td>\n",
       "      <td>27</td>\n",
       "      <td>14</td>\n",
       "    </tr>\n",
       "    <tr>\n",
       "      <th>1</th>\n",
       "      <td>1</td>\n",
       "      <td>Block</td>\n",
       "      <td>Sideswipe</td>\n",
       "      <td>2</td>\n",
       "      <td>0</td>\n",
       "      <td>0</td>\n",
       "      <td>2</td>\n",
       "      <td>2006-12-20 18:55:00</td>\n",
       "      <td>Mid-Block (not related to intersection)</td>\n",
       "      <td>0</td>\n",
       "      <td>...</td>\n",
       "      <td>Raining</td>\n",
       "      <td>Wet</td>\n",
       "      <td>Dark</td>\n",
       "      <td>0</td>\n",
       "      <td>0</td>\n",
       "      <td>0</td>\n",
       "      <td>1</td>\n",
       "      <td>Dec</td>\n",
       "      <td>20</td>\n",
       "      <td>18</td>\n",
       "    </tr>\n",
       "    <tr>\n",
       "      <th>2</th>\n",
       "      <td>1</td>\n",
       "      <td>Block</td>\n",
       "      <td>Parked Car</td>\n",
       "      <td>4</td>\n",
       "      <td>0</td>\n",
       "      <td>0</td>\n",
       "      <td>3</td>\n",
       "      <td>2004-11-18 10:20:00</td>\n",
       "      <td>Mid-Block (not related to intersection)</td>\n",
       "      <td>0</td>\n",
       "      <td>...</td>\n",
       "      <td>Overcast</td>\n",
       "      <td>Dry</td>\n",
       "      <td>Daylight</td>\n",
       "      <td>0</td>\n",
       "      <td>0</td>\n",
       "      <td>0</td>\n",
       "      <td>0</td>\n",
       "      <td>Nov</td>\n",
       "      <td>18</td>\n",
       "      <td>10</td>\n",
       "    </tr>\n",
       "    <tr>\n",
       "      <th>3</th>\n",
       "      <td>1</td>\n",
       "      <td>Block</td>\n",
       "      <td>Other</td>\n",
       "      <td>3</td>\n",
       "      <td>0</td>\n",
       "      <td>0</td>\n",
       "      <td>3</td>\n",
       "      <td>2013-03-29 09:26:00</td>\n",
       "      <td>Mid-Block (not related to intersection)</td>\n",
       "      <td>0</td>\n",
       "      <td>...</td>\n",
       "      <td>Clear</td>\n",
       "      <td>Dry</td>\n",
       "      <td>Daylight</td>\n",
       "      <td>0</td>\n",
       "      <td>0</td>\n",
       "      <td>0</td>\n",
       "      <td>0</td>\n",
       "      <td>Mar</td>\n",
       "      <td>29</td>\n",
       "      <td>9</td>\n",
       "    </tr>\n",
       "    <tr>\n",
       "      <th>4</th>\n",
       "      <td>2</td>\n",
       "      <td>Intersection</td>\n",
       "      <td>Angles</td>\n",
       "      <td>2</td>\n",
       "      <td>0</td>\n",
       "      <td>0</td>\n",
       "      <td>2</td>\n",
       "      <td>2004-01-28 08:04:00</td>\n",
       "      <td>At Intersection (intersection related)</td>\n",
       "      <td>0</td>\n",
       "      <td>...</td>\n",
       "      <td>Raining</td>\n",
       "      <td>Wet</td>\n",
       "      <td>Daylight</td>\n",
       "      <td>0</td>\n",
       "      <td>0</td>\n",
       "      <td>0</td>\n",
       "      <td>0</td>\n",
       "      <td>Jan</td>\n",
       "      <td>28</td>\n",
       "      <td>8</td>\n",
       "    </tr>\n",
       "  </tbody>\n",
       "</table>\n",
       "<p>5 rows × 21 columns</p>\n",
       "</div>"
      ],
      "text/plain": [
       "   severitycode      addrtype collisiontype  personcount  pedcount  \\\n",
       "0             2  Intersection        Angles            2         0   \n",
       "1             1         Block     Sideswipe            2         0   \n",
       "2             1         Block    Parked Car            4         0   \n",
       "3             1         Block         Other            3         0   \n",
       "4             2  Intersection        Angles            2         0   \n",
       "\n",
       "   pedcylcount  vehcount             incdttm  \\\n",
       "0            0         2 2013-03-27 14:54:00   \n",
       "1            0         2 2006-12-20 18:55:00   \n",
       "2            0         3 2004-11-18 10:20:00   \n",
       "3            0         3 2013-03-29 09:26:00   \n",
       "4            0         2 2004-01-28 08:04:00   \n",
       "\n",
       "                              junctiontype  inattentionind  ...   weather  \\\n",
       "0   At Intersection (intersection related)               0  ...  Overcast   \n",
       "1  Mid-Block (not related to intersection)               0  ...   Raining   \n",
       "2  Mid-Block (not related to intersection)               0  ...  Overcast   \n",
       "3  Mid-Block (not related to intersection)               0  ...     Clear   \n",
       "4   At Intersection (intersection related)               0  ...   Raining   \n",
       "\n",
       "  roadcond lightcond pedrownotgrnt  speeding  hitparkedcar  streetlight  \\\n",
       "0      Wet  Daylight             0         0             0            0   \n",
       "1      Wet      Dark             0         0             0            1   \n",
       "2      Dry  Daylight             0         0             0            0   \n",
       "3      Dry  Daylight             0         0             0            0   \n",
       "4      Wet  Daylight             0         0             0            0   \n",
       "\n",
       "   month day hour  \n",
       "0    Mar  27   14  \n",
       "1    Dec  20   18  \n",
       "2    Nov  18   10  \n",
       "3    Mar  29    9  \n",
       "4    Jan  28    8  \n",
       "\n",
       "[5 rows x 21 columns]"
      ]
     },
     "execution_count": 102,
     "metadata": {},
     "output_type": "execute_result"
    }
   ],
   "source": [
    "df_cleaned = pd.read_csv('data/df_cleaned.csv')\n",
    "df_cleaned['incdttm'] = pd.to_datetime(df_cleaned['incdttm'], infer_datetime_format=True)\n",
    "df_cleaned['day'] = df_cleaned['day'].astype(object)\n",
    "df_cleaned['hour'] = df_cleaned['hour'].astype(object)\n",
    "df_cleaned.head()"
   ]
  },
  {
   "cell_type": "code",
   "execution_count": 103,
   "metadata": {},
   "outputs": [
    {
     "data": {
      "text/plain": [
       "severitycode               int64\n",
       "addrtype                  object\n",
       "collisiontype             object\n",
       "personcount                int64\n",
       "pedcount                   int64\n",
       "pedcylcount                int64\n",
       "vehcount                   int64\n",
       "incdttm           datetime64[ns]\n",
       "junctiontype              object\n",
       "inattentionind             int64\n",
       "underinfl                  int64\n",
       "weather                   object\n",
       "roadcond                  object\n",
       "lightcond                 object\n",
       "pedrownotgrnt              int64\n",
       "speeding                   int64\n",
       "hitparkedcar               int64\n",
       "streetlight                int64\n",
       "month                     object\n",
       "day                       object\n",
       "hour                      object\n",
       "dtype: object"
      ]
     },
     "execution_count": 103,
     "metadata": {},
     "output_type": "execute_result"
    }
   ],
   "source": [
    "df_cleaned.dtypes"
   ]
  },
  {
   "cell_type": "code",
   "execution_count": 104,
   "metadata": {},
   "outputs": [
    {
     "data": {
      "text/html": [
       "<div>\n",
       "<style scoped>\n",
       "    .dataframe tbody tr th:only-of-type {\n",
       "        vertical-align: middle;\n",
       "    }\n",
       "\n",
       "    .dataframe tbody tr th {\n",
       "        vertical-align: top;\n",
       "    }\n",
       "\n",
       "    .dataframe thead th {\n",
       "        text-align: right;\n",
       "    }\n",
       "</style>\n",
       "<table border=\"1\" class=\"dataframe\">\n",
       "  <thead>\n",
       "    <tr style=\"text-align: right;\">\n",
       "      <th></th>\n",
       "      <th>severitycode</th>\n",
       "      <th>personcount</th>\n",
       "      <th>pedcount</th>\n",
       "      <th>pedcylcount</th>\n",
       "      <th>vehcount</th>\n",
       "      <th>inattentionind</th>\n",
       "      <th>underinfl</th>\n",
       "      <th>pedrownotgrnt</th>\n",
       "      <th>speeding</th>\n",
       "      <th>hitparkedcar</th>\n",
       "      <th>streetlight</th>\n",
       "    </tr>\n",
       "  </thead>\n",
       "  <tbody>\n",
       "    <tr>\n",
       "      <th>count</th>\n",
       "      <td>187970.000000</td>\n",
       "      <td>187970.000000</td>\n",
       "      <td>187970.000000</td>\n",
       "      <td>187970.000000</td>\n",
       "      <td>187970.000000</td>\n",
       "      <td>187970.000000</td>\n",
       "      <td>187970.000000</td>\n",
       "      <td>187970.000000</td>\n",
       "      <td>187970.000000</td>\n",
       "      <td>187970.000000</td>\n",
       "      <td>187970.000000</td>\n",
       "    </tr>\n",
       "    <tr>\n",
       "      <th>mean</th>\n",
       "      <td>1.303181</td>\n",
       "      <td>2.462893</td>\n",
       "      <td>0.038437</td>\n",
       "      <td>0.029382</td>\n",
       "      <td>1.970245</td>\n",
       "      <td>0.157850</td>\n",
       "      <td>0.048364</td>\n",
       "      <td>0.024812</td>\n",
       "      <td>0.049364</td>\n",
       "      <td>0.035745</td>\n",
       "      <td>0.256961</td>\n",
       "    </tr>\n",
       "    <tr>\n",
       "      <th>std</th>\n",
       "      <td>0.459634</td>\n",
       "      <td>1.359460</td>\n",
       "      <td>0.201465</td>\n",
       "      <td>0.170225</td>\n",
       "      <td>0.559684</td>\n",
       "      <td>0.364601</td>\n",
       "      <td>0.214535</td>\n",
       "      <td>0.155554</td>\n",
       "      <td>0.216628</td>\n",
       "      <td>0.185654</td>\n",
       "      <td>0.436959</td>\n",
       "    </tr>\n",
       "    <tr>\n",
       "      <th>min</th>\n",
       "      <td>1.000000</td>\n",
       "      <td>0.000000</td>\n",
       "      <td>0.000000</td>\n",
       "      <td>0.000000</td>\n",
       "      <td>0.000000</td>\n",
       "      <td>0.000000</td>\n",
       "      <td>0.000000</td>\n",
       "      <td>0.000000</td>\n",
       "      <td>0.000000</td>\n",
       "      <td>0.000000</td>\n",
       "      <td>0.000000</td>\n",
       "    </tr>\n",
       "    <tr>\n",
       "      <th>25%</th>\n",
       "      <td>1.000000</td>\n",
       "      <td>2.000000</td>\n",
       "      <td>0.000000</td>\n",
       "      <td>0.000000</td>\n",
       "      <td>2.000000</td>\n",
       "      <td>0.000000</td>\n",
       "      <td>0.000000</td>\n",
       "      <td>0.000000</td>\n",
       "      <td>0.000000</td>\n",
       "      <td>0.000000</td>\n",
       "      <td>0.000000</td>\n",
       "    </tr>\n",
       "    <tr>\n",
       "      <th>50%</th>\n",
       "      <td>1.000000</td>\n",
       "      <td>2.000000</td>\n",
       "      <td>0.000000</td>\n",
       "      <td>0.000000</td>\n",
       "      <td>2.000000</td>\n",
       "      <td>0.000000</td>\n",
       "      <td>0.000000</td>\n",
       "      <td>0.000000</td>\n",
       "      <td>0.000000</td>\n",
       "      <td>0.000000</td>\n",
       "      <td>0.000000</td>\n",
       "    </tr>\n",
       "    <tr>\n",
       "      <th>75%</th>\n",
       "      <td>2.000000</td>\n",
       "      <td>3.000000</td>\n",
       "      <td>0.000000</td>\n",
       "      <td>0.000000</td>\n",
       "      <td>2.000000</td>\n",
       "      <td>0.000000</td>\n",
       "      <td>0.000000</td>\n",
       "      <td>0.000000</td>\n",
       "      <td>0.000000</td>\n",
       "      <td>0.000000</td>\n",
       "      <td>1.000000</td>\n",
       "    </tr>\n",
       "    <tr>\n",
       "      <th>max</th>\n",
       "      <td>2.000000</td>\n",
       "      <td>81.000000</td>\n",
       "      <td>6.000000</td>\n",
       "      <td>2.000000</td>\n",
       "      <td>12.000000</td>\n",
       "      <td>1.000000</td>\n",
       "      <td>1.000000</td>\n",
       "      <td>1.000000</td>\n",
       "      <td>1.000000</td>\n",
       "      <td>1.000000</td>\n",
       "      <td>1.000000</td>\n",
       "    </tr>\n",
       "  </tbody>\n",
       "</table>\n",
       "</div>"
      ],
      "text/plain": [
       "        severitycode    personcount       pedcount    pedcylcount  \\\n",
       "count  187970.000000  187970.000000  187970.000000  187970.000000   \n",
       "mean        1.303181       2.462893       0.038437       0.029382   \n",
       "std         0.459634       1.359460       0.201465       0.170225   \n",
       "min         1.000000       0.000000       0.000000       0.000000   \n",
       "25%         1.000000       2.000000       0.000000       0.000000   \n",
       "50%         1.000000       2.000000       0.000000       0.000000   \n",
       "75%         2.000000       3.000000       0.000000       0.000000   \n",
       "max         2.000000      81.000000       6.000000       2.000000   \n",
       "\n",
       "            vehcount  inattentionind      underinfl  pedrownotgrnt  \\\n",
       "count  187970.000000   187970.000000  187970.000000  187970.000000   \n",
       "mean        1.970245        0.157850       0.048364       0.024812   \n",
       "std         0.559684        0.364601       0.214535       0.155554   \n",
       "min         0.000000        0.000000       0.000000       0.000000   \n",
       "25%         2.000000        0.000000       0.000000       0.000000   \n",
       "50%         2.000000        0.000000       0.000000       0.000000   \n",
       "75%         2.000000        0.000000       0.000000       0.000000   \n",
       "max        12.000000        1.000000       1.000000       1.000000   \n",
       "\n",
       "            speeding   hitparkedcar    streetlight  \n",
       "count  187970.000000  187970.000000  187970.000000  \n",
       "mean        0.049364       0.035745       0.256961  \n",
       "std         0.216628       0.185654       0.436959  \n",
       "min         0.000000       0.000000       0.000000  \n",
       "25%         0.000000       0.000000       0.000000  \n",
       "50%         0.000000       0.000000       0.000000  \n",
       "75%         0.000000       0.000000       1.000000  \n",
       "max         1.000000       1.000000       1.000000  "
      ]
     },
     "execution_count": 104,
     "metadata": {},
     "output_type": "execute_result"
    }
   ],
   "source": [
    "df_cleaned.describe()"
   ]
  },
  {
   "cell_type": "code",
   "execution_count": 105,
   "metadata": {},
   "outputs": [
    {
     "data": {
      "text/plain": [
       "1    0.696819\n",
       "2    0.303181\n",
       "Name: severitycode, dtype: float64"
      ]
     },
     "execution_count": 105,
     "metadata": {},
     "output_type": "execute_result"
    }
   ],
   "source": [
    "df_cleaned['severitycode'].value_counts(normalize=True)"
   ]
  },
  {
   "cell_type": "markdown",
   "metadata": {},
   "source": [
    "We have a slightly imbalanced data. There are 70% cases for severity-code 1 and 30% cases are severity-code 2.\n",
    "\n",
    "**There are a few ways to deal with this.**\n",
    "- Use stratified train-test split: \n",
    "- Accuracy will not be a very good metric. We will use F1 score for evaluation.\n",
    "- Decision trees work better with imbalanced data.\n",
    "- If required, we can use resampling. "
   ]
  },
  {
   "cell_type": "code",
   "execution_count": 106,
   "metadata": {},
   "outputs": [
    {
     "data": {
      "image/png": "[encoded data removed]",
      "text/plain": [
       "<Figure size 576x288 with 1 Axes>"
      ]
     },
     "metadata": {
      "needs_background": "light"
     },
     "output_type": "display_data"
    }
   ],
   "source": [
    "base_color = sns.color_palette()[0]\n",
    "plt.figure(figsize=(8,4))\n",
    "sns.countplot(data=df_cleaned, x='addrtype', color=base_color);"
   ]
  },
  {
   "cell_type": "markdown",
   "metadata": {},
   "source": [
    "Most accidents have occured at Block followed by 'Intersection'. Alley has the least accidents about 0.3% only. "
   ]
  },
  {
   "cell_type": "code",
   "execution_count": 107,
   "metadata": {},
   "outputs": [
    {
     "data": {
      "image/png": "[encoded data removed]",
      "text/plain": [
       "<Figure size 576x288 with 1 Axes>"
      ]
     },
     "metadata": {
      "needs_background": "light"
     },
     "output_type": "display_data"
    }
   ],
   "source": [
    "base_color = sns.color_palette()[0]\n",
    "order = df_cleaned['collisiontype'].value_counts().index\n",
    "plt.figure(figsize=(8,4))\n",
    "sns.countplot(data=df_cleaned, x='collisiontype', order=order, color=base_color)\n",
    "plt.xticks(rotation=45)\n",
    "plt.xlabel('Collision Type')\n",
    "plt.title('No. of accidents per collision type');"
   ]
  },
  {
   "cell_type": "markdown",
   "metadata": {},
   "source": [
    "Most accidents involved a parked car. Suggests driver mistake followed by angles and 'rear ended'."
   ]
  },
  {
   "cell_type": "code",
   "execution_count": 108,
   "metadata": {},
   "outputs": [
    {
     "data": {
      "image/png": "[encoded data removed]",
      "text/plain": [
       "<Figure size 576x288 with 1 Axes>"
      ]
     },
     "metadata": {
      "needs_background": "light"
     },
     "output_type": "display_data"
    }
   ],
   "source": [
    "base_color = sns.color_palette()[0]\n",
    "order = df_cleaned['junctiontype'].value_counts().index\n",
    "plt.figure(figsize=(8,4))\n",
    "sns.countplot(data=df_cleaned, x='junctiontype', order=order, color=base_color)\n",
    "plt.xticks(rotation=45)\n",
    "plt.xlabel('Junction Type')\n",
    "plt.title('No. of accidents per junction type');"
   ]
  },
  {
   "cell_type": "code",
   "execution_count": 109,
   "metadata": {
    "scrolled": true
   },
   "outputs": [
    {
     "data": {
      "text/plain": [
       "Mid-Block (not related to intersection)              0.462191\n",
       "At Intersection (intersection related)               0.326196\n",
       "Mid-Block (but intersection related)                 0.119035\n",
       "Driveway Junction                                    0.056057\n",
       "Unknown                                              0.024722\n",
       "At Intersection (but not related to intersection)    0.010949\n",
       "Ramp Junction                                        0.000851\n",
       "Name: junctiontype, dtype: float64"
      ]
     },
     "execution_count": 109,
     "metadata": {},
     "output_type": "execute_result"
    }
   ],
   "source": [
    "df_cleaned['junctiontype'].value_counts(normalize=True)"
   ]
  },
  {
   "cell_type": "markdown",
   "metadata": {},
   "source": [
    "The last 3 options -'Unknown', 'At Intersection (but not related to intersection') and Ramp Junction are not good predictors with only 3.7% of total cases collectively. We have dropped these columns when one-hot encoding the attribute."
   ]
  },
  {
   "cell_type": "code",
   "execution_count": 110,
   "metadata": {},
   "outputs": [
    {
     "data": {
      "image/png": "[encoded data removed]",
      "text/plain": [
       "<Figure size 576x288 with 1 Axes>"
      ]
     },
     "metadata": {
      "needs_background": "light"
     },
     "output_type": "display_data"
    }
   ],
   "source": [
    "base_color = sns.color_palette()[0]\n",
    "order = df_cleaned['lightcond'].value_counts().index\n",
    "plt.figure(figsize=(8,4))\n",
    "sns.countplot(data=df_cleaned, x='lightcond', order=order, color=base_color)\n",
    "#plt.xticks(rotation=45)\n",
    "plt.xlabel('light condition');"
   ]
  },
  {
   "cell_type": "code",
   "execution_count": 111,
   "metadata": {
    "scrolled": true
   },
   "outputs": [
    {
     "data": {
      "text/plain": [
       "Daylight    0.614290\n",
       "Dark        0.271485\n",
       "Unknown     0.068612\n",
       "Dusk        0.031154\n",
       "Dawn        0.013252\n",
       "Other       0.001208\n",
       "Name: lightcond, dtype: float64"
      ]
     },
     "execution_count": 111,
     "metadata": {},
     "output_type": "execute_result"
    }
   ],
   "source": [
    "df_cleaned['lightcond'].value_counts(normalize=True)"
   ]
  },
  {
   "cell_type": "code",
   "execution_count": 112,
   "metadata": {},
   "outputs": [
    {
     "data": {
      "text/plain": [
       "<Figure size 720x1008 with 0 Axes>"
      ]
     },
     "metadata": {},
     "output_type": "display_data"
    },
    {
     "data": {
      "image/png": "[encoded data removed]",
      "text/plain": [
       "<Figure size 432x288 with 2 Axes>"
      ]
     },
     "metadata": {
      "needs_background": "light"
     },
     "output_type": "display_data"
    }
   ],
   "source": [
    "plt.figure(figsize=(10,14))\n",
    "plt.subplots(2,1)\n",
    "\n",
    "sns.violinplot(data=df_cleaned, x='personcount');"
   ]
  },
  {
   "cell_type": "code",
   "execution_count": 113,
   "metadata": {},
   "outputs": [
    {
     "data": {
      "image/png": "[encoded data removed]",
      "text/plain": [
       "<Figure size 432x288 with 1 Axes>"
      ]
     },
     "metadata": {
      "needs_background": "light"
     },
     "output_type": "display_data"
    }
   ],
   "source": [
    "sns.boxplot(data=df_cleaned, x='personcount');"
   ]
  },
  {
   "cell_type": "markdown",
   "metadata": {},
   "source": [
    "In most cases, the number of persons involved in an accident is less than 5 but we have increasing count with many outliers. It is obvious to have less accidents with many persons involved."
   ]
  },
  {
   "cell_type": "code",
   "execution_count": 114,
   "metadata": {},
   "outputs": [
    {
     "data": {
      "image/png": "[encoded data removed]",
      "text/plain": [
       "<Figure size 432x288 with 1 Axes>"
      ]
     },
     "metadata": {
      "needs_background": "light"
     },
     "output_type": "display_data"
    }
   ],
   "source": [
    "base_color = sns.color_palette()[0]\n",
    "sns.countplot(data=df_cleaned, x='vehcount', color=base_color);"
   ]
  },
  {
   "cell_type": "markdown",
   "metadata": {},
   "source": [
    "Most cases had 2 vehicles involved followed by 1 and 3 vehicles."
   ]
  },
  {
   "cell_type": "code",
   "execution_count": 115,
   "metadata": {},
   "outputs": [
    {
     "data": {
      "text/plain": [
       "Index(['severitycode', 'addrtype', 'collisiontype', 'personcount', 'pedcount',\n",
       "       'pedcylcount', 'vehcount', 'incdttm', 'junctiontype', 'inattentionind',\n",
       "       'underinfl', 'weather', 'roadcond', 'lightcond', 'pedrownotgrnt',\n",
       "       'speeding', 'hitparkedcar', 'streetlight', 'month', 'day', 'hour'],\n",
       "      dtype='object')"
      ]
     },
     "execution_count": 115,
     "metadata": {},
     "output_type": "execute_result"
    }
   ],
   "source": [
    "df_cleaned.columns"
   ]
  },
  {
   "cell_type": "code",
   "execution_count": 116,
   "metadata": {},
   "outputs": [
    {
     "data": {
      "text/plain": [
       "severitycode               int64\n",
       "addrtype                  object\n",
       "collisiontype             object\n",
       "personcount                int64\n",
       "pedcount                   int64\n",
       "pedcylcount                int64\n",
       "vehcount                   int64\n",
       "incdttm           datetime64[ns]\n",
       "junctiontype              object\n",
       "inattentionind             int64\n",
       "underinfl                  int64\n",
       "weather                   object\n",
       "roadcond                  object\n",
       "lightcond                 object\n",
       "pedrownotgrnt              int64\n",
       "speeding                   int64\n",
       "hitparkedcar               int64\n",
       "streetlight                int64\n",
       "month                     object\n",
       "day                       object\n",
       "hour                      object\n",
       "dtype: object"
      ]
     },
     "execution_count": 116,
     "metadata": {},
     "output_type": "execute_result"
    }
   ],
   "source": [
    "df_cleaned.dtypes"
   ]
  },
  {
   "cell_type": "code",
   "execution_count": 117,
   "metadata": {},
   "outputs": [
    {
     "data": {
      "image/png": "[encoded data removed]",
      "text/plain": [
       "<Figure size 432x288 with 1 Axes>"
      ]
     },
     "metadata": {
      "needs_background": "light"
     },
     "output_type": "display_data"
    }
   ],
   "source": [
    "base_color=sns.color_palette()[0]\n",
    "order = ['Jan','Feb','Mar','Apr','May','Jun','Jul','Aug','Sep','Oct','Nov','Dec']\n",
    "sns.countplot(data=df_c, x='month', order=order, color=base_color);"
   ]
  },
  {
   "cell_type": "code",
   "execution_count": 118,
   "metadata": {},
   "outputs": [
    {
     "data": {
      "image/png": "[encoded data removed]",
      "text/plain": [
       "<Figure size 432x288 with 1 Axes>"
      ]
     },
     "metadata": {
      "needs_background": "light"
     },
     "output_type": "display_data"
    }
   ],
   "source": [
    "sns.countplot(data=df_c,x='hour',color=base_color);"
   ]
  },
  {
   "cell_type": "code",
   "execution_count": 119,
   "metadata": {},
   "outputs": [
    {
     "data": {
      "text/plain": [
       "6        2008-12-09 00:00:00\n",
       "16       2005-07-01 00:00:00\n",
       "19       2009-06-01 00:00:00\n",
       "30       2005-11-05 00:00:00\n",
       "40       2006-08-05 00:00:00\n",
       "                 ...        \n",
       "194414   2019-01-04 00:24:00\n",
       "194418   2019-01-24 00:08:00\n",
       "194482   2019-01-11 00:44:00\n",
       "194502   2018-11-21 00:00:00\n",
       "194653   2018-12-10 00:47:00\n",
       "Name: incdttm, Length: 29245, dtype: datetime64[ns]"
      ]
     },
     "execution_count": 119,
     "metadata": {},
     "output_type": "execute_result"
    }
   ],
   "source": [
    "df_c[df_c['hour'] == '00']['incdttm']"
   ]
  },
  {
   "cell_type": "markdown",
   "metadata": {},
   "source": [
    "The hour '00' i.e. midnight has way too many cases than any other time of the day. It is because many of these values contain only the date information and the default time \"00:00:00\" is added. "
   ]
  },
  {
   "cell_type": "markdown",
   "metadata": {},
   "source": [
    "## Data preparation and model building <a name='modelbuilding'></a>"
   ]
  },
  {
   "cell_type": "code",
   "execution_count": 5,
   "metadata": {},
   "outputs": [],
   "source": [
    "X = pd.read_csv('data/final_df.csv')"
   ]
  },
  {
   "cell_type": "code",
   "execution_count": 6,
   "metadata": {},
   "outputs": [],
   "source": [
    "y = X['severitycode']\n",
    "X = X.drop(['severitycode', 'month', 'hour', 'incdttm'], axis=1)"
   ]
  },
  {
   "cell_type": "code",
   "execution_count": 7,
   "metadata": {},
   "outputs": [
    {
     "data": {
      "text/plain": [
       "(187970, 39)"
      ]
     },
     "execution_count": 7,
     "metadata": {},
     "output_type": "execute_result"
    }
   ],
   "source": [
    "X.shape"
   ]
  },
  {
   "cell_type": "code",
   "execution_count": 8,
   "metadata": {},
   "outputs": [
    {
     "name": "stdout",
     "output_type": "stream",
     "text": [
      "Train data shape:  (131579, 39) ,  (131579,)\n",
      "Test data shape:  (56391, 39) ,  (56391,)\n"
     ]
    }
   ],
   "source": [
    "X_train, X_test, y_train, y_test = train_test_split(X,y,test_size=0.3, random_state=42, stratify=y)\n",
    "print(\"Train data shape: \", X_train.shape, \", \", y_train.shape )\n",
    "print(\"Test data shape: \", X_test.shape, \", \", y_test.shape)"
   ]
  },
  {
   "cell_type": "markdown",
   "metadata": {},
   "source": [
    "We have used stratify to ensure that both target classes are represented in the test set. Now, we will standardize both the train and test set using the StandardScaler."
   ]
  },
  {
   "cell_type": "code",
   "execution_count": 9,
   "metadata": {},
   "outputs": [],
   "source": [
    "std_scale = StandardScaler()\n",
    "X_train = std_scale.fit_transform(X_train)\n",
    "X_test = std_scale.transform(X_test)"
   ]
  },
  {
   "cell_type": "code",
   "execution_count": 11,
   "metadata": {},
   "outputs": [
    {
     "name": "stdout",
     "output_type": "stream",
     "text": [
      "newton-cg\n",
      "f1-score :  0.8444774808257594\n",
      "log-loss:  0.4808644698972203\n",
      "recall   :  0.9541151320812338\n",
      "precision score:  0.7574398448390811\n",
      "accuracy :  0.7550596979761208\n",
      "\n",
      "lbfgs\n",
      "f1-score :  0.8444904946391567\n",
      "log-loss:  0.4808651077647747\n",
      "recall   :  0.9541405812592253\n",
      "precision score:  0.757444745242232\n",
      "accuracy :  0.7550520979791608\n",
      "\n",
      "liblinear\n",
      "f1-score :  0.8444774808257594\n",
      "log-loss:  0.4808645075288112\n",
      "recall   :  0.9541151320812338\n",
      "precision score:  0.7574398448390811\n",
      "accuracy :  0.7550596979761208\n",
      "\n",
      "sag\n",
      "f1-score :  0.8444774808257594\n",
      "log-loss:  0.48086451002946384\n",
      "recall   :  0.9541151320812338\n",
      "precision score:  0.7574398448390811\n",
      "accuracy :  0.7550596979761208\n",
      "\n",
      "saga\n",
      "f1-score :  0.8444774808257594\n",
      "log-loss:  0.4808645409982934\n",
      "recall   :  0.9541151320812338\n",
      "precision score:  0.7574398448390811\n",
      "accuracy :  0.7550596979761208\n",
      "\n"
     ]
    }
   ],
   "source": [
    "solver = ['newton-cg', 'lbfgs', 'liblinear', 'sag', 'saga']\n",
    "\n",
    "for i in range(5):\n",
    "    lr = LogisticRegression(solver=solver[i], random_state=42).fit(X_train, y_train)\n",
    "    y_pred = lr.predict(X_test)\n",
    "    y_proba = lr.predict_proba(X_test)\n",
    "    print(solver[i])\n",
    "    print(\"f1-score : \", f1_score(y_test, y_pred))\n",
    "    print('log-loss: ', log_loss(y_test, y_proba))\n",
    "    print('recall   : ', recall_score(y_test, y_pred))\n",
    "    print(\"precision score: \", precision_score(y_test, y_pred))\n",
    "    print('accuracy : ', lr.score(X_train, y_train))\n",
    "    print()"
   ]
  },
  {
   "cell_type": "code",
   "execution_count": 12,
   "metadata": {},
   "outputs": [
    {
     "name": "stdout",
     "output_type": "stream",
     "text": [
      "              precision    recall  f1-score   support\n",
      "\n",
      "           1       0.76      0.95      0.84     39294\n",
      "           2       0.74      0.30      0.42     17097\n",
      "\n",
      "    accuracy                           0.76     56391\n",
      "   macro avg       0.75      0.63      0.63     56391\n",
      "weighted avg       0.75      0.76      0.72     56391\n",
      "\n"
     ]
    }
   ],
   "source": [
    "print(classification_report(y_test, y_pred))"
   ]
  },
  {
   "cell_type": "markdown",
   "metadata": {},
   "source": [
    "Our data is imbalanced with the class proportions of 0.7 and 0.3. Therefore, if we just predict the majority value for every test case, we will have an accuracy of 70%. Above logistic regression has an accuracy of 75%, i.e. it performs slightly better than a random guess. Hence, we cannot use accuracy score as a valid measure of evaluation for our models.\n",
    "\n",
    "Precision is the proportion of actual True positives in total number of positives predicted. Whereas, recall score is the ratio of number of True positives predicted by the actual positives in the dataset. f1 score is the balance of the two scores(precision and recall).  \n",
    "\n",
    "In the above cases, We have good accuracy, high f1-score and recall. We will be using 'f1_macro' score and macro recall for evluation. It is a balance/average of the f1 score for both the classes in the data. The above models are good at predicting the valve 1 of severity-code. Whereas the prediction of the value 2 is low. Lets check if we can bring up the f1 score for the value 2."
   ]
  },
  {
   "cell_type": "code",
   "execution_count": 10,
   "metadata": {},
   "outputs": [
    {
     "name": "stdout",
     "output_type": "stream",
     "text": [
      "log-loss:  0.4808646853975979\n",
      "              precision    recall  f1-score   support\n",
      "\n",
      "           1       0.76      0.95      0.84     39294\n",
      "           2       0.74      0.30      0.42     17097\n",
      "\n",
      "    accuracy                           0.76     56391\n",
      "   macro avg       0.75      0.63      0.63     56391\n",
      "weighted avg       0.75      0.76      0.72     56391\n",
      "\n"
     ]
    }
   ],
   "source": [
    "lr_cv = LogisticRegressionCV(Cs = 30,cv=5, random_state=42, scoring='f1_macro')\n",
    "lr_cv.fit(X_train, y_train)\n",
    "\n",
    "y_pred = lr_cv.predict(X_test)\n",
    "y_proba = lr_cv.predict_proba(X_test)\n",
    "\n",
    "print('log-loss: ', log_loss(y_test, y_proba))\n",
    "print(classification_report(y_test, y_pred))"
   ]
  },
  {
   "cell_type": "code",
   "execution_count": 23,
   "metadata": {},
   "outputs": [
    {
     "name": "stdout",
     "output_type": "stream",
     "text": [
      "log-loss:  0.48254842912561846\n",
      "              precision    recall  f1-score   support\n",
      "\n",
      "           1       0.76      0.95      0.84     91687\n",
      "           2       0.74      0.30      0.42     39892\n",
      "\n",
      "    accuracy                           0.76    131579\n",
      "   macro avg       0.75      0.63      0.63    131579\n",
      "weighted avg       0.75      0.76      0.72    131579\n",
      "\n"
     ]
    }
   ],
   "source": [
    "y_pred_train = lr_cv.predict(X_train)\n",
    "y_proba_train = lr_cv.predict_proba(X_train)\n",
    "print(\"log-loss: \", log_loss(y_train, y_proba_train))\n",
    "print(classification_report(y_train, y_pred_train))"
   ]
  },
  {
   "cell_type": "markdown",
   "metadata": {},
   "source": [
    "Using the LogisticRegressionCV, We have received similar results on both the test and training data set. Logistic regression has a parameter \"balanced\" which accounts for the imbalance in the dataset by assigning weights to each class based on their proportion in the data. \n",
    "\n",
    "Next, check the results using \"class_Weight = 'balanced'\"."
   ]
  },
  {
   "cell_type": "code",
   "execution_count": 24,
   "metadata": {},
   "outputs": [
    {
     "name": "stdout",
     "output_type": "stream",
     "text": [
      "log-loss:  0.544594199987606\n",
      "              precision    recall  f1-score   support\n",
      "\n",
      "           1       0.87      0.63      0.73     39294\n",
      "           2       0.48      0.79      0.60     17097\n",
      "\n",
      "    accuracy                           0.68     56391\n",
      "   macro avg       0.68      0.71      0.66     56391\n",
      "weighted avg       0.75      0.68      0.69     56391\n",
      "\n"
     ]
    }
   ],
   "source": [
    "lr_cv_b = LogisticRegressionCV(Cs=30, cv=5, class_weight='balanced', random_state=42, scoring='f1_macro')\n",
    "lr_cv_b.fit(X_train, y_train)\n",
    "\n",
    "\n",
    "y_pred = lr_cv_b.predict(X_test)\n",
    "y_proba = lr_cv_b.predict_proba(X_test)\n",
    "\n",
    "print('log-loss: ', log_loss(y_test, y_proba))\n",
    "print(classification_report(y_test, y_pred))"
   ]
  },
  {
   "cell_type": "markdown",
   "metadata": {},
   "source": [
    "The logisticRegressionCV model with parameter class_weight = 'balanced' performs better at predicting the value 2 in severity-code. The precision, recall and f1-score for value 2 are far better. The macro recall and macro f1 scores are better than the previous model. We have a dip in f1-score and recall of value 1 but there is significant increase in the precision. \n",
    "\n",
    "Value 2 represents a more severe accident than value 1. So the cost of predicting value 2 is more than value 1.  Overall, the above model is better than our base model of LogisticRegression."
   ]
  },
  {
   "cell_type": "code",
   "execution_count": 32,
   "metadata": {},
   "outputs": [
    {
     "name": "stdout",
     "output_type": "stream",
     "text": [
      "log-loss:  0.4808635111063204\n",
      "              precision    recall  f1-score   support\n",
      "\n",
      "           1       0.76      0.95      0.84     39294\n",
      "           2       0.74      0.30      0.42     17097\n",
      "\n",
      "    accuracy                           0.76     56391\n",
      "   macro avg       0.75      0.63      0.63     56391\n",
      "weighted avg       0.75      0.76      0.72     56391\n",
      "\n"
     ]
    }
   ],
   "source": [
    "lr_cv = LogisticRegressionCV(Cs=30, cv=10, solver='liblinear', random_state=42, scoring='f1_macro')\n",
    "lr_cv.fit(X_train, y_train)\n",
    "\n",
    "y_pred = lr_cv.predict(X_test)\n",
    "y_proba = lr_cv.predict_proba(X_test)\n",
    "\n",
    "print('log-loss: ', log_loss(y_test, y_proba))\n",
    "print(classification_report(y_test, y_pred))"
   ]
  },
  {
   "cell_type": "code",
   "execution_count": 33,
   "metadata": {},
   "outputs": [
    {
     "data": {
      "text/plain": [
       "array([[37491,  1803],\n",
       "       [12006,  5091]], dtype=int64)"
      ]
     },
     "execution_count": 33,
     "metadata": {},
     "output_type": "execute_result"
    }
   ],
   "source": [
    "confusion_matrix(y_test, y_pred)"
   ]
  },
  {
   "cell_type": "markdown",
   "metadata": {},
   "source": [
    "The above model is similar to our base model. A change in the solver paramter made no difference in the results.\n",
    "From the above confusion matrix, many value 2 are incorrectly classified as value 1 -(12006 cases) and 1803 value 1 cases are incorrect."
   ]
  },
  {
   "cell_type": "code",
   "execution_count": 34,
   "metadata": {},
   "outputs": [
    {
     "name": "stdout",
     "output_type": "stream",
     "text": [
      "log-loss:  0.5584309062145303\n",
      "              precision    recall  f1-score   support\n",
      "\n",
      "           1       0.87      0.62      0.72     39294\n",
      "           2       0.48      0.80      0.60     17097\n",
      "\n",
      "    accuracy                           0.67     56391\n",
      "   macro avg       0.67      0.71      0.66     56391\n",
      "weighted avg       0.75      0.67      0.69     56391\n",
      "\n"
     ]
    }
   ],
   "source": [
    "lr_cv = LogisticRegressionCV(Cs=30, cv=10, solver='liblinear', class_weight='balanced', random_state=42, scoring='f1_macro')\n",
    "lr_cv.fit(X_train, y_train)\n",
    "\n",
    "y_pred = lr_cv.predict(X_test)\n",
    "y_proba = lr_cv.predict_proba(X_test)\n",
    "\n",
    "print('log-loss: ', log_loss(y_test, y_proba))\n",
    "print(classification_report(y_test, y_pred))"
   ]
  },
  {
   "cell_type": "code",
   "execution_count": 35,
   "metadata": {},
   "outputs": [
    {
     "data": {
      "text/plain": [
       "array([[24283, 15011],\n",
       "       [ 3489, 13608]], dtype=int64)"
      ]
     },
     "execution_count": 35,
     "metadata": {},
     "output_type": "execute_result"
    }
   ],
   "source": [
    "confusion_matrix(y_test, y_pred)"
   ]
  },
  {
   "cell_type": "markdown",
   "metadata": {},
   "source": [
    "In above model- from the confusion matrix, only 3489 value 2 cases are incorrectly classified as value 1 but 15011 value 1 cases are incorrect.\n",
    "\n",
    "Predicting a value 1 case as a value 2 has low cost inferred. As interpreting a slightly low severity as a high case will make people to take precautions. But predicting value 2 as value 1 can cause the lack of providing services to the ones involved in the accident. Thereby, It has more cost attached to it."
   ]
  },
  {
   "cell_type": "markdown",
   "metadata": {},
   "source": [
    "* ROC curves are appropriate when the observations are balanced between each class, whereas precision-recall curves are appropriate for imbalanced datasets."
   ]
  },
  {
   "cell_type": "code",
   "execution_count": 36,
   "metadata": {},
   "outputs": [
    {
     "name": "stdout",
     "output_type": "stream",
     "text": [
      "log-loss:  24.067636662641952\n",
      "              precision    recall  f1-score   support\n",
      "\n",
      "           1       0.76      0.86      0.81     39294\n",
      "           2       0.55      0.38      0.45     17097\n",
      "\n",
      "    accuracy                           0.72     56391\n",
      "   macro avg       0.65      0.62      0.63     56391\n",
      "weighted avg       0.70      0.72      0.70     56391\n",
      "\n"
     ]
    }
   ],
   "source": [
    "dtc = DecisionTreeClassifier(random_state=42).fit(X_train, y_train)\n",
    "y_pred = dtc.predict(X_test)\n",
    "y_proba = dtc.predict_proba(X_test)\n",
    "print('log-loss: ', log_loss(y_test, y_proba))\n",
    "print(classification_report(y_test, y_pred))"
   ]
  },
  {
   "cell_type": "code",
   "execution_count": null,
   "metadata": {},
   "outputs": [],
   "source": [
    "confusion_matrix(y_test, y_pred)"
   ]
  },
  {
   "cell_type": "markdown",
   "metadata": {},
   "source": [
    "The decision tree classifier is comparable to our base model with slight improvement. But the logistic regression with class weight is the best one yet."
   ]
  },
  {
   "cell_type": "code",
   "execution_count": 127,
   "metadata": {},
   "outputs": [
    {
     "name": "stdout",
     "output_type": "stream",
     "text": [
      "Train Data Score:  0.8573708570516572\n",
      "OOB Score:  0.7231397107441156\n",
      "logg-loss:  0.859092790307961\n",
      "              precision    recall  f1-score   support\n",
      "\n",
      "           1       0.77      0.86      0.81     39294\n",
      "           2       0.56      0.41      0.48     17097\n",
      "\n",
      "    accuracy                           0.72     56391\n",
      "   macro avg       0.67      0.64      0.64     56391\n",
      "weighted avg       0.71      0.72      0.71     56391\n",
      "\n"
     ]
    }
   ],
   "source": [
    "rfc = RandomForestClassifier(oob_score=True, n_jobs=-1, random_state=42).fit(X_train, y_train)\n",
    "y_pred = rfc.predict(X_test)\n",
    "y_proba = rfc.predict_proba(X_test)\n",
    "print(\"Train Data Score: \", rfc.score(X_train, y_train))\n",
    "print(\"OOB Score: \", rfc.oob_score_)\n",
    "print('logg-loss: ', log_loss(y_test, y_proba))\n",
    "print(classification_report(y_test, y_pred))"
   ]
  },
  {
   "cell_type": "code",
   "execution_count": 128,
   "metadata": {},
   "outputs": [
    {
     "data": {
      "text/plain": [
       "array([[33746,  5548],\n",
       "       [10039,  7058]], dtype=int64)"
      ]
     },
     "execution_count": 128,
     "metadata": {},
     "output_type": "execute_result"
    }
   ],
   "source": [
    "confusion_matrix(y_test, y_pred)"
   ]
  },
  {
   "cell_type": "markdown",
   "metadata": {},
   "source": [
    "Random forest classifier with default parameters is comparable to decision tree model with only a slight imporvement. The recall, f1-score and precision are low for value 2. Slight tweeking in parameters can be checked for a better model."
   ]
  },
  {
   "cell_type": "code",
   "execution_count": 76,
   "metadata": {},
   "outputs": [
    {
     "name": "stdout",
     "output_type": "stream",
     "text": [
      "Fitting 5 folds for each of 100 candidates, totalling 500 fits\n"
     ]
    },
    {
     "name": "stderr",
     "output_type": "stream",
     "text": [
      "[Parallel(n_jobs=-1)]: Using backend LokyBackend with 4 concurrent workers.\n",
      "[Parallel(n_jobs=-1)]: Done  42 tasks      | elapsed:  6.1min\n",
      "[Parallel(n_jobs=-1)]: Done 192 tasks      | elapsed:  7.7min\n",
      "[Parallel(n_jobs=-1)]: Done 442 tasks      | elapsed: 56.8min\n",
      "[Parallel(n_jobs=-1)]: Done 500 out of 500 | elapsed: 78.9min finished\n"
     ]
    }
   ],
   "source": [
    "pipe =Pipeline([('classifier', RandomForestClassifier())])\n",
    "\n",
    "# Create parameter grid\n",
    "\n",
    "param = [\n",
    "    {'classifier':[LogisticRegression()],\n",
    "     'classifier__penalty' : ['l1', 'l2'],\n",
    "     'classifier__C' : np.logspace(-4, 3, 20)},\n",
    "    {'classifier' : [RandomForestClassifier()],\n",
    "     'classifier__n_estimators' : list(range(10, 101, 10)),\n",
    "     'classifier__max_features' : list(range(6, 32, 5))\n",
    "    }]\n",
    "\n",
    "clf = GridSearchCV(pipe, param_grid=param, cv=5, scoring=['f1', 'auc'], verbose=True, n_jobs=-1)\n",
    "\n",
    "best_clf = clf.fit(X_train, y_train)"
   ]
  },
  {
   "cell_type": "code",
   "execution_count": 77,
   "metadata": {},
   "outputs": [],
   "source": [
    "results = pd.DataFrame.from_dict(best_clf.cv_results_)"
   ]
  },
  {
   "cell_type": "code",
   "execution_count": 78,
   "metadata": {},
   "outputs": [
    {
     "data": {
      "text/html": [
       "<div>\n",
       "<style scoped>\n",
       "    .dataframe tbody tr th:only-of-type {\n",
       "        vertical-align: middle;\n",
       "    }\n",
       "\n",
       "    .dataframe tbody tr th {\n",
       "        vertical-align: top;\n",
       "    }\n",
       "\n",
       "    .dataframe thead th {\n",
       "        text-align: right;\n",
       "    }\n",
       "</style>\n",
       "<table border=\"1\" class=\"dataframe\">\n",
       "  <thead>\n",
       "    <tr style=\"text-align: right;\">\n",
       "      <th></th>\n",
       "      <th>mean_fit_time</th>\n",
       "      <th>std_fit_time</th>\n",
       "      <th>mean_score_time</th>\n",
       "      <th>std_score_time</th>\n",
       "      <th>param_classifier</th>\n",
       "      <th>param_classifier__C</th>\n",
       "      <th>param_classifier__penalty</th>\n",
       "      <th>param_classifier__max_features</th>\n",
       "      <th>param_classifier__n_estimators</th>\n",
       "      <th>params</th>\n",
       "      <th>split0_test_score</th>\n",
       "      <th>split1_test_score</th>\n",
       "      <th>split2_test_score</th>\n",
       "      <th>split3_test_score</th>\n",
       "      <th>split4_test_score</th>\n",
       "      <th>mean_test_score</th>\n",
       "      <th>std_test_score</th>\n",
       "      <th>rank_test_score</th>\n",
       "    </tr>\n",
       "  </thead>\n",
       "  <tbody>\n",
       "    <tr>\n",
       "      <th>0</th>\n",
       "      <td>65.458393</td>\n",
       "      <td>32.576192</td>\n",
       "      <td>0.000000</td>\n",
       "      <td>0.000000</td>\n",
       "      <td>LogisticRegression(C=0.0379269019073225, class...</td>\n",
       "      <td>0.0001</td>\n",
       "      <td>l1</td>\n",
       "      <td>NaN</td>\n",
       "      <td>NaN</td>\n",
       "      <td>{'classifier': LogisticRegression(C=0.03792690...</td>\n",
       "      <td>NaN</td>\n",
       "      <td>NaN</td>\n",
       "      <td>NaN</td>\n",
       "      <td>NaN</td>\n",
       "      <td>NaN</td>\n",
       "      <td>NaN</td>\n",
       "      <td>NaN</td>\n",
       "      <td>100</td>\n",
       "    </tr>\n",
       "    <tr>\n",
       "      <th>1</th>\n",
       "      <td>5.468904</td>\n",
       "      <td>2.186643</td>\n",
       "      <td>0.027381</td>\n",
       "      <td>0.009475</td>\n",
       "      <td>LogisticRegression(C=0.0379269019073225, class...</td>\n",
       "      <td>0.0001</td>\n",
       "      <td>l2</td>\n",
       "      <td>NaN</td>\n",
       "      <td>NaN</td>\n",
       "      <td>{'classifier': LogisticRegression(C=0.03792690...</td>\n",
       "      <td>0.750228</td>\n",
       "      <td>0.750988</td>\n",
       "      <td>0.750798</td>\n",
       "      <td>0.751178</td>\n",
       "      <td>0.750523</td>\n",
       "      <td>0.750743</td>\n",
       "      <td>0.000336</td>\n",
       "      <td>20</td>\n",
       "    </tr>\n",
       "    <tr>\n",
       "      <th>2</th>\n",
       "      <td>0.423537</td>\n",
       "      <td>0.079053</td>\n",
       "      <td>0.000000</td>\n",
       "      <td>0.000000</td>\n",
       "      <td>LogisticRegression(C=0.0379269019073225, class...</td>\n",
       "      <td>0.000233572</td>\n",
       "      <td>l1</td>\n",
       "      <td>NaN</td>\n",
       "      <td>NaN</td>\n",
       "      <td>{'classifier': LogisticRegression(C=0.03792690...</td>\n",
       "      <td>NaN</td>\n",
       "      <td>NaN</td>\n",
       "      <td>NaN</td>\n",
       "      <td>NaN</td>\n",
       "      <td>NaN</td>\n",
       "      <td>NaN</td>\n",
       "      <td>NaN</td>\n",
       "      <td>84</td>\n",
       "    </tr>\n",
       "    <tr>\n",
       "      <th>3</th>\n",
       "      <td>2.241810</td>\n",
       "      <td>0.402245</td>\n",
       "      <td>0.021389</td>\n",
       "      <td>0.005534</td>\n",
       "      <td>LogisticRegression(C=0.0379269019073225, class...</td>\n",
       "      <td>0.000233572</td>\n",
       "      <td>l2</td>\n",
       "      <td>NaN</td>\n",
       "      <td>NaN</td>\n",
       "      <td>{'classifier': LogisticRegression(C=0.03792690...</td>\n",
       "      <td>0.750798</td>\n",
       "      <td>0.754142</td>\n",
       "      <td>0.751216</td>\n",
       "      <td>0.753078</td>\n",
       "      <td>0.752461</td>\n",
       "      <td>0.752339</td>\n",
       "      <td>0.001220</td>\n",
       "      <td>19</td>\n",
       "    </tr>\n",
       "    <tr>\n",
       "      <th>4</th>\n",
       "      <td>0.354780</td>\n",
       "      <td>0.030904</td>\n",
       "      <td>0.000000</td>\n",
       "      <td>0.000000</td>\n",
       "      <td>LogisticRegression(C=0.0379269019073225, class...</td>\n",
       "      <td>0.000545559</td>\n",
       "      <td>l1</td>\n",
       "      <td>NaN</td>\n",
       "      <td>NaN</td>\n",
       "      <td>{'classifier': LogisticRegression(C=0.03792690...</td>\n",
       "      <td>NaN</td>\n",
       "      <td>NaN</td>\n",
       "      <td>NaN</td>\n",
       "      <td>NaN</td>\n",
       "      <td>NaN</td>\n",
       "      <td>NaN</td>\n",
       "      <td>NaN</td>\n",
       "      <td>81</td>\n",
       "    </tr>\n",
       "    <tr>\n",
       "      <th>...</th>\n",
       "      <td>...</td>\n",
       "      <td>...</td>\n",
       "      <td>...</td>\n",
       "      <td>...</td>\n",
       "      <td>...</td>\n",
       "      <td>...</td>\n",
       "      <td>...</td>\n",
       "      <td>...</td>\n",
       "      <td>...</td>\n",
       "      <td>...</td>\n",
       "      <td>...</td>\n",
       "      <td>...</td>\n",
       "      <td>...</td>\n",
       "      <td>...</td>\n",
       "      <td>...</td>\n",
       "      <td>...</td>\n",
       "      <td>...</td>\n",
       "      <td>...</td>\n",
       "    </tr>\n",
       "    <tr>\n",
       "      <th>95</th>\n",
       "      <td>89.658286</td>\n",
       "      <td>1.610170</td>\n",
       "      <td>1.035160</td>\n",
       "      <td>0.036901</td>\n",
       "      <td>RandomForestClassifier(bootstrap=True, ccp_alp...</td>\n",
       "      <td>NaN</td>\n",
       "      <td>NaN</td>\n",
       "      <td>31</td>\n",
       "      <td>60</td>\n",
       "      <td>{'classifier': RandomForestClassifier(bootstra...</td>\n",
       "      <td>0.742894</td>\n",
       "      <td>0.746618</td>\n",
       "      <td>0.745706</td>\n",
       "      <td>0.746808</td>\n",
       "      <td>0.741972</td>\n",
       "      <td>0.744800</td>\n",
       "      <td>0.001989</td>\n",
       "      <td>48</td>\n",
       "    </tr>\n",
       "    <tr>\n",
       "      <th>96</th>\n",
       "      <td>104.076090</td>\n",
       "      <td>0.379707</td>\n",
       "      <td>1.208453</td>\n",
       "      <td>0.042519</td>\n",
       "      <td>RandomForestClassifier(bootstrap=True, ccp_alp...</td>\n",
       "      <td>NaN</td>\n",
       "      <td>NaN</td>\n",
       "      <td>31</td>\n",
       "      <td>70</td>\n",
       "      <td>{'classifier': RandomForestClassifier(bootstra...</td>\n",
       "      <td>0.742780</td>\n",
       "      <td>0.745934</td>\n",
       "      <td>0.743502</td>\n",
       "      <td>0.747074</td>\n",
       "      <td>0.741288</td>\n",
       "      <td>0.744116</td>\n",
       "      <td>0.002108</td>\n",
       "      <td>70</td>\n",
       "    </tr>\n",
       "    <tr>\n",
       "      <th>97</th>\n",
       "      <td>120.132337</td>\n",
       "      <td>1.136959</td>\n",
       "      <td>1.393937</td>\n",
       "      <td>0.045509</td>\n",
       "      <td>RandomForestClassifier(bootstrap=True, ccp_alp...</td>\n",
       "      <td>NaN</td>\n",
       "      <td>NaN</td>\n",
       "      <td>31</td>\n",
       "      <td>80</td>\n",
       "      <td>{'classifier': RandomForestClassifier(bootstra...</td>\n",
       "      <td>0.743122</td>\n",
       "      <td>0.744680</td>\n",
       "      <td>0.744186</td>\n",
       "      <td>0.748480</td>\n",
       "      <td>0.742580</td>\n",
       "      <td>0.744610</td>\n",
       "      <td>0.002073</td>\n",
       "      <td>61</td>\n",
       "    </tr>\n",
       "    <tr>\n",
       "      <th>98</th>\n",
       "      <td>137.079236</td>\n",
       "      <td>1.309541</td>\n",
       "      <td>1.601807</td>\n",
       "      <td>0.029818</td>\n",
       "      <td>RandomForestClassifier(bootstrap=True, ccp_alp...</td>\n",
       "      <td>NaN</td>\n",
       "      <td>NaN</td>\n",
       "      <td>31</td>\n",
       "      <td>90</td>\n",
       "      <td>{'classifier': RandomForestClassifier(bootstra...</td>\n",
       "      <td>0.743388</td>\n",
       "      <td>0.745098</td>\n",
       "      <td>0.745554</td>\n",
       "      <td>0.747454</td>\n",
       "      <td>0.741820</td>\n",
       "      <td>0.744663</td>\n",
       "      <td>0.001922</td>\n",
       "      <td>58</td>\n",
       "    </tr>\n",
       "    <tr>\n",
       "      <th>99</th>\n",
       "      <td>147.739828</td>\n",
       "      <td>7.438683</td>\n",
       "      <td>1.902424</td>\n",
       "      <td>0.421284</td>\n",
       "      <td>RandomForestClassifier(bootstrap=True, ccp_alp...</td>\n",
       "      <td>NaN</td>\n",
       "      <td>NaN</td>\n",
       "      <td>31</td>\n",
       "      <td>100</td>\n",
       "      <td>{'classifier': RandomForestClassifier(bootstra...</td>\n",
       "      <td>0.744186</td>\n",
       "      <td>0.744756</td>\n",
       "      <td>0.744908</td>\n",
       "      <td>0.747074</td>\n",
       "      <td>0.742276</td>\n",
       "      <td>0.744640</td>\n",
       "      <td>0.001536</td>\n",
       "      <td>60</td>\n",
       "    </tr>\n",
       "  </tbody>\n",
       "</table>\n",
       "<p>100 rows × 18 columns</p>\n",
       "</div>"
      ],
      "text/plain": [
       "    mean_fit_time  std_fit_time  mean_score_time  std_score_time  \\\n",
       "0       65.458393     32.576192         0.000000        0.000000   \n",
       "1        5.468904      2.186643         0.027381        0.009475   \n",
       "2        0.423537      0.079053         0.000000        0.000000   \n",
       "3        2.241810      0.402245         0.021389        0.005534   \n",
       "4        0.354780      0.030904         0.000000        0.000000   \n",
       "..            ...           ...              ...             ...   \n",
       "95      89.658286      1.610170         1.035160        0.036901   \n",
       "96     104.076090      0.379707         1.208453        0.042519   \n",
       "97     120.132337      1.136959         1.393937        0.045509   \n",
       "98     137.079236      1.309541         1.601807        0.029818   \n",
       "99     147.739828      7.438683         1.902424        0.421284   \n",
       "\n",
       "                                     param_classifier param_classifier__C  \\\n",
       "0   LogisticRegression(C=0.0379269019073225, class...              0.0001   \n",
       "1   LogisticRegression(C=0.0379269019073225, class...              0.0001   \n",
       "2   LogisticRegression(C=0.0379269019073225, class...         0.000233572   \n",
       "3   LogisticRegression(C=0.0379269019073225, class...         0.000233572   \n",
       "4   LogisticRegression(C=0.0379269019073225, class...         0.000545559   \n",
       "..                                                ...                 ...   \n",
       "95  RandomForestClassifier(bootstrap=True, ccp_alp...                 NaN   \n",
       "96  RandomForestClassifier(bootstrap=True, ccp_alp...                 NaN   \n",
       "97  RandomForestClassifier(bootstrap=True, ccp_alp...                 NaN   \n",
       "98  RandomForestClassifier(bootstrap=True, ccp_alp...                 NaN   \n",
       "99  RandomForestClassifier(bootstrap=True, ccp_alp...                 NaN   \n",
       "\n",
       "   param_classifier__penalty param_classifier__max_features  \\\n",
       "0                         l1                            NaN   \n",
       "1                         l2                            NaN   \n",
       "2                         l1                            NaN   \n",
       "3                         l2                            NaN   \n",
       "4                         l1                            NaN   \n",
       "..                       ...                            ...   \n",
       "95                       NaN                             31   \n",
       "96                       NaN                             31   \n",
       "97                       NaN                             31   \n",
       "98                       NaN                             31   \n",
       "99                       NaN                             31   \n",
       "\n",
       "   param_classifier__n_estimators  \\\n",
       "0                             NaN   \n",
       "1                             NaN   \n",
       "2                             NaN   \n",
       "3                             NaN   \n",
       "4                             NaN   \n",
       "..                            ...   \n",
       "95                             60   \n",
       "96                             70   \n",
       "97                             80   \n",
       "98                             90   \n",
       "99                            100   \n",
       "\n",
       "                                               params  split0_test_score  \\\n",
       "0   {'classifier': LogisticRegression(C=0.03792690...                NaN   \n",
       "1   {'classifier': LogisticRegression(C=0.03792690...           0.750228   \n",
       "2   {'classifier': LogisticRegression(C=0.03792690...                NaN   \n",
       "3   {'classifier': LogisticRegression(C=0.03792690...           0.750798   \n",
       "4   {'classifier': LogisticRegression(C=0.03792690...                NaN   \n",
       "..                                                ...                ...   \n",
       "95  {'classifier': RandomForestClassifier(bootstra...           0.742894   \n",
       "96  {'classifier': RandomForestClassifier(bootstra...           0.742780   \n",
       "97  {'classifier': RandomForestClassifier(bootstra...           0.743122   \n",
       "98  {'classifier': RandomForestClassifier(bootstra...           0.743388   \n",
       "99  {'classifier': RandomForestClassifier(bootstra...           0.744186   \n",
       "\n",
       "    split1_test_score  split2_test_score  split3_test_score  \\\n",
       "0                 NaN                NaN                NaN   \n",
       "1            0.750988           0.750798           0.751178   \n",
       "2                 NaN                NaN                NaN   \n",
       "3            0.754142           0.751216           0.753078   \n",
       "4                 NaN                NaN                NaN   \n",
       "..                ...                ...                ...   \n",
       "95           0.746618           0.745706           0.746808   \n",
       "96           0.745934           0.743502           0.747074   \n",
       "97           0.744680           0.744186           0.748480   \n",
       "98           0.745098           0.745554           0.747454   \n",
       "99           0.744756           0.744908           0.747074   \n",
       "\n",
       "    split4_test_score  mean_test_score  std_test_score  rank_test_score  \n",
       "0                 NaN              NaN             NaN              100  \n",
       "1            0.750523         0.750743        0.000336               20  \n",
       "2                 NaN              NaN             NaN               84  \n",
       "3            0.752461         0.752339        0.001220               19  \n",
       "4                 NaN              NaN             NaN               81  \n",
       "..                ...              ...             ...              ...  \n",
       "95           0.741972         0.744800        0.001989               48  \n",
       "96           0.741288         0.744116        0.002108               70  \n",
       "97           0.742580         0.744610        0.002073               61  \n",
       "98           0.741820         0.744663        0.001922               58  \n",
       "99           0.742276         0.744640        0.001536               60  \n",
       "\n",
       "[100 rows x 18 columns]"
      ]
     },
     "execution_count": 78,
     "metadata": {},
     "output_type": "execute_result"
    }
   ],
   "source": [
    "results"
   ]
  },
  {
   "cell_type": "code",
   "execution_count": 81,
   "metadata": {},
   "outputs": [
    {
     "data": {
      "text/plain": [
       "Pipeline(memory=None,\n",
       "         steps=[('classifier',\n",
       "                 LogisticRegression(C=0.0379269019073225, class_weight=None,\n",
       "                                    dual=False, fit_intercept=True,\n",
       "                                    intercept_scaling=1, l1_ratio=None,\n",
       "                                    max_iter=100, multi_class='auto',\n",
       "                                    n_jobs=None, penalty='l2',\n",
       "                                    random_state=None, solver='lbfgs',\n",
       "                                    tol=0.0001, verbose=0, warm_start=False))],\n",
       "         verbose=False)"
      ]
     },
     "execution_count": 81,
     "metadata": {},
     "output_type": "execute_result"
    }
   ],
   "source": [
    "best_clf.best_estimator_"
   ]
  },
  {
   "cell_type": "code",
   "execution_count": 84,
   "metadata": {},
   "outputs": [
    {
     "data": {
      "text/plain": [
       "0.7546568895318873"
      ]
     },
     "execution_count": 84,
     "metadata": {},
     "output_type": "execute_result"
    }
   ],
   "source": [
    "best_clf.best_score_"
   ]
  },
  {
   "cell_type": "code",
   "execution_count": 86,
   "metadata": {},
   "outputs": [
    {
     "name": "stdout",
     "output_type": "stream",
     "text": [
      "f1-score:  0.8442662642597327\n",
      "logg-loss:  0.48101841864732653\n"
     ]
    }
   ],
   "source": [
    "y_pred = best_clf.predict(X_test)\n",
    "y_proba = best_clf.predict_proba(X_test)\n",
    "print(\"f1-score: \", f1_score(y_test, y_pred))\n",
    "print('logg-loss: ', log_loss(y_test, y_proba))"
   ]
  },
  {
   "cell_type": "markdown",
   "metadata": {},
   "source": [
    "Above test was a random comparison to test the best of the two models with a grid of a couple of parameter checks for each model. Logiction Regression was the better of the two."
   ]
  },
  {
   "cell_type": "code",
   "execution_count": 129,
   "metadata": {},
   "outputs": [],
   "source": [
    "models = []\n",
    "models.append(('LogR', LogisticRegression()))\n",
    "models.append(('KNN', KNeighborsClassifier()))\n",
    "models.append(('DTreeC', DecisionTreeClassifier()))\n",
    "models.append(('RForrestC', RandomForestClassifier()))"
   ]
  },
  {
   "cell_type": "code",
   "execution_count": 130,
   "metadata": {},
   "outputs": [],
   "source": [
    "def resamp_model_test(X_n, y_n, mod=''):\n",
    "    results = []\n",
    "    names=[]\n",
    "    print(\"Using resampled data from \", mod)\n",
    "    for name, model in models:\n",
    "        cv_results = cross_val_score(model, X_n, y_n, cv=5, scoring='f1_macro')\n",
    "        results.append(cv_results)\n",
    "        names.append(name)\n",
    "        msg = \"%s: %f (%f)\" % (name, cv_results.mean(), cv_results.std())\n",
    "        print(msg)\n",
    "    return 1    "
   ]
  },
  {
   "cell_type": "code",
   "execution_count": 131,
   "metadata": {},
   "outputs": [
    {
     "name": "stdout",
     "output_type": "stream",
     "text": [
      "Original Dataset target counts Counter({1: 91687, 2: 39892})\n",
      "Resampled Dataset target counts:  Counter({1: 91687, 2: 91687})\n"
     ]
    }
   ],
   "source": [
    "ros = RandomOverSampler(random_state=42)\n",
    "X_res, y_res = ros.fit_sample(X_train, y_train)\n",
    "print(\"Original Dataset target counts\", Counter(y_train))\n",
    "print(\"Resampled Dataset target counts: \", Counter(y_res))"
   ]
  },
  {
   "cell_type": "code",
   "execution_count": null,
   "metadata": {},
   "outputs": [
    {
     "name": "stdout",
     "output_type": "stream",
     "text": [
      "Using resampled data from  Random Over-sampler\n",
      "LogR: 0.702889 (0.001507)\n",
      "KNN: 0.705313 (0.010511)\n",
      "DTreeC: 0.754978 (0.014551)\n",
      "RForrestC: 0.763160 (0.012277)\n"
     ]
    }
   ],
   "source": [
    "resamp_model_test(X_res, y_res, 'Random Over-sampler')"
   ]
  },
  {
   "cell_type": "markdown",
   "metadata": {},
   "source": [
    "We have the best results from RandomForrestClassifier. With imbalanced data a RandomForrestClassifier should outperform Logistic Regression."
   ]
  },
  {
   "cell_type": "code",
   "execution_count": 19,
   "metadata": {},
   "outputs": [
    {
     "name": "stdout",
     "output_type": "stream",
     "text": [
      "Score on training data:  0.8446071962219289\n",
      "OOB Score:  0.7683313883102294\n",
      "log-loss:  1.0900263799150571\n",
      "              precision    recall  f1-score   support\n",
      "\n",
      "           1       0.81      0.69      0.75     39294\n",
      "           2       0.47      0.63      0.54     17097\n",
      "\n",
      "    accuracy                           0.67     56391\n",
      "   macro avg       0.64      0.66      0.64     56391\n",
      "weighted avg       0.71      0.67      0.69     56391\n",
      "\n"
     ]
    }
   ],
   "source": [
    "rfc = RandomForestClassifier(oob_score=True, random_state=42)\n",
    "rfc.fit(X_res, y_res)\n",
    "print(\"Score on training data: \", rfc.score(X_res, y_res))\n",
    "print(\"OOB Score: \", rfc.oob_score_)\n",
    "y_pred = rfc.predict(X_test)\n",
    "y_proba = rfc.predict_proba(X_test)\n",
    "print('log-loss: ', log_loss(y_test, y_proba))\n",
    "print(classification_report(y_test, y_pred))"
   ]
  },
  {
   "cell_type": "code",
   "execution_count": 20,
   "metadata": {},
   "outputs": [
    {
     "data": {
      "text/plain": [
       "array([[27261, 12033],\n",
       "       [ 6296, 10801]], dtype=int64)"
      ]
     },
     "execution_count": 20,
     "metadata": {},
     "output_type": "execute_result"
    }
   ],
   "source": [
    "confusion_matrix(y_test, y_pred)"
   ]
  },
  {
   "cell_type": "markdown",
   "metadata": {},
   "source": [
    "After the random over sampling the RandomForestClassifier perform better then when used by the actual data. When comparing the previous random forest model, We have an increase in precision, recall and f1-score for value 2 with increase in macro presion and macro recall. We also have an increase for precision in value 1 predictions with a little dip in recall and f1 score. Comparing to the base logistic model, above outperforms it and with logistic balanced model, both are comparable with the logistic model slightly better.\n",
    "\n",
    "Let's compare random forest with logistic regression model for the resampled data."
   ]
  },
  {
   "cell_type": "code",
   "execution_count": 132,
   "metadata": {},
   "outputs": [
    {
     "name": "stdout",
     "output_type": "stream",
     "text": [
      "log-loss:  0.54292764165228\n",
      "              precision    recall  f1-score   support\n",
      "\n",
      "           1       0.87      0.62      0.73     39294\n",
      "           2       0.48      0.79      0.60     17097\n",
      "\n",
      "    accuracy                           0.67     56391\n",
      "   macro avg       0.68      0.71      0.66     56391\n",
      "weighted avg       0.75      0.67      0.69     56391\n",
      "\n"
     ]
    }
   ],
   "source": [
    "lr_cv = LogisticRegressionCV(Cs = 30,cv=5, random_state=42, scoring='f1_macro')\n",
    "lr_cv.fit(X_res, y_res)\n",
    "\n",
    "y_pred = lr_cv.predict(X_test)\n",
    "y_proba = lr_cv.predict_proba(X_test)\n",
    "\n",
    "print('log-loss: ', log_loss(y_test, y_proba))\n",
    "print(classification_report(y_test, y_pred))"
   ]
  },
  {
   "cell_type": "code",
   "execution_count": 133,
   "metadata": {},
   "outputs": [
    {
     "data": {
      "text/plain": [
       "array([[24540, 14754],\n",
       "       [ 3576, 13521]], dtype=int64)"
      ]
     },
     "execution_count": 133,
     "metadata": {},
     "output_type": "execute_result"
    }
   ],
   "source": [
    "confusion_matrix(y_test, y_pred)"
   ]
  },
  {
   "cell_type": "markdown",
   "metadata": {},
   "source": [
    "When considering the random forest classifier and logistic regression models based on the random over sampled data, Logistic regression outperforms random forest model. With a slightly highes macro precision, macro recall and macro f1 score. Overall, we have better metrics for logistic regression model. Comparing with the logistic model using original data and 'balanced' both are seem to be equivalent."
   ]
  },
  {
   "cell_type": "code",
   "execution_count": 144,
   "metadata": {},
   "outputs": [
    {
     "name": "stdout",
     "output_type": "stream",
     "text": [
      "log-loss:  0.54292764165228\n",
      "              precision    recall  f1-score   support\n",
      "\n",
      "           1       0.87      0.62      0.73     39294\n",
      "           2       0.48      0.79      0.60     17097\n",
      "\n",
      "    accuracy                           0.67     56391\n",
      "   macro avg       0.68      0.71      0.66     56391\n",
      "weighted avg       0.75      0.67      0.69     56391\n",
      "\n"
     ]
    }
   ],
   "source": [
    "lr_cv = LogisticRegressionCV(Cs = 30,cv=5, class_weight='balanced', random_state=42, scoring='f1_macro')\n",
    "lr_cv.fit(X_res, y_res)\n",
    "\n",
    "y_pred = lr_cv.predict(X_test)\n",
    "y_proba = lr_cv.predict_proba(X_test)\n",
    "\n",
    "print('log-loss: ', log_loss(y_test, y_proba))\n",
    "print(classification_report(y_test, y_pred))"
   ]
  },
  {
   "cell_type": "code",
   "execution_count": 145,
   "metadata": {},
   "outputs": [
    {
     "data": {
      "text/plain": [
       "array([[24540, 14754],\n",
       "       [ 3576, 13521]], dtype=int64)"
      ]
     },
     "execution_count": 145,
     "metadata": {},
     "output_type": "execute_result"
    }
   ],
   "source": [
    "confusion_matrix(y_test, y_pred)"
   ]
  },
  {
   "cell_type": "markdown",
   "metadata": {},
   "source": [
    "Logically, There wouldn't be any difference in the 2 models as the 2 techniques are way to counter the imbalance in data. But curious to know, I checked the logistic model with class_weight as 'balanced' on our resampled data. And it's clear from above that the results are identical."
   ]
  },
  {
   "cell_type": "markdown",
   "metadata": {},
   "source": [
    "**SMOTE and ADASYN**"
   ]
  },
  {
   "cell_type": "markdown",
   "metadata": {},
   "source": [
    "Synthetic Minority Oversampling Technique(SMOTE) and the Adaptive Synthetic(ADASYN) are two additional methods for over-sampling the minority class. RandomOverSampler randomly replicates the minority class examples. It is known to increase the likelihood of overfitting. To avoid overfitting, Synthetic Minority Oversampling Technique (SMOTE) is used. It works well in many applications. It generates synthetic data based on feature space similarities between minority instances. Adaptive Synthetic Sampling (ADASYN) generates samples of minority class based on their density distributions. More Synthetic data is generated for the minority samples that are difficult to learn."
   ]
  },
  {
   "cell_type": "code",
   "execution_count": 134,
   "metadata": {},
   "outputs": [
    {
     "name": "stdout",
     "output_type": "stream",
     "text": [
      "Original Dataset target counts Counter({1: 91687, 2: 39892})\n",
      "Resampled Dataset target counts:  Counter({1: 91687, 2: 91687})\n"
     ]
    }
   ],
   "source": [
    "smote = SMOTE(random_state=42)\n",
    "X_sm, y_sm = smote.fit_resample(X_train, y_train)\n",
    "print(\"Original Dataset target counts\", Counter(y_train))\n",
    "print(\"Resampled Dataset target counts: \", Counter(y_sm))"
   ]
  },
  {
   "cell_type": "code",
   "execution_count": null,
   "metadata": {},
   "outputs": [
    {
     "name": "stdout",
     "output_type": "stream",
     "text": [
      "Using resampled data from  SMOTE\n",
      "LogR: 0.704048 (0.001492)\n"
     ]
    }
   ],
   "source": [
    "resamp_model_test(X_sm, y_sm, 'SMOTE')"
   ]
  },
  {
   "cell_type": "code",
   "execution_count": 135,
   "metadata": {},
   "outputs": [
    {
     "name": "stdout",
     "output_type": "stream",
     "text": [
      "Score on training data:  0.8652371655741817\n",
      "OOB Score:  0.7495337397886287\n",
      "log-loss:  0.9779687219192708\n",
      "              precision    recall  f1-score   support\n",
      "\n",
      "           1       0.81      0.73      0.77     39294\n",
      "           2       0.49      0.59      0.54     17097\n",
      "\n",
      "    accuracy                           0.69     56391\n",
      "   macro avg       0.65      0.66      0.65     56391\n",
      "weighted avg       0.71      0.69      0.70     56391\n",
      "\n"
     ]
    }
   ],
   "source": [
    "rfc = RandomForestClassifier(oob_score=True, random_state=42)\n",
    "rfc.fit(X_sm, y_sm)\n",
    "print(\"Score on training data: \", rfc.score(X_sm, y_sm))\n",
    "print(\"OOB Score: \", rfc.oob_score_)\n",
    "y_pred = rfc.predict(X_test)\n",
    "y_proba = rfc.predict_proba(X_test)\n",
    "print('log-loss: ', log_loss(y_test, y_proba))\n",
    "print(classification_report(y_test, y_pred))"
   ]
  },
  {
   "cell_type": "code",
   "execution_count": 136,
   "metadata": {},
   "outputs": [
    {
     "data": {
      "text/plain": [
       "array([[28676, 10618],\n",
       "       [ 6925, 10172]], dtype=int64)"
      ]
     },
     "execution_count": 136,
     "metadata": {},
     "output_type": "execute_result"
    }
   ],
   "source": [
    "confusion_matrix(y_test, y_pred)"
   ]
  },
  {
   "cell_type": "markdown",
   "metadata": {},
   "source": [
    "Our logistic model with random over sampling produced better results than the above model."
   ]
  },
  {
   "cell_type": "code",
   "execution_count": 137,
   "metadata": {},
   "outputs": [
    {
     "name": "stdout",
     "output_type": "stream",
     "text": [
      "log-loss:  0.5470882961540154\n",
      "              precision    recall  f1-score   support\n",
      "\n",
      "           1       0.87      0.63      0.73     39294\n",
      "           2       0.48      0.79      0.60     17097\n",
      "\n",
      "    accuracy                           0.68     56391\n",
      "   macro avg       0.68      0.71      0.66     56391\n",
      "weighted avg       0.75      0.68      0.69     56391\n",
      "\n"
     ]
    }
   ],
   "source": [
    "lr_cv = LogisticRegressionCV(Cs = 30,cv=5, random_state=42, scoring='f1_macro')\n",
    "lr_cv.fit(X_sm, y_sm)\n",
    "\n",
    "y_pred = lr_cv.predict(X_test)\n",
    "y_proba = lr_cv.predict_proba(X_test)\n",
    "\n",
    "print('log-loss: ', log_loss(y_test, y_proba))\n",
    "print(classification_report(y_test, y_pred))"
   ]
  },
  {
   "cell_type": "code",
   "execution_count": 138,
   "metadata": {},
   "outputs": [
    {
     "data": {
      "text/plain": [
       "array([[24654, 14640],\n",
       "       [ 3630, 13467]], dtype=int64)"
      ]
     },
     "execution_count": 138,
     "metadata": {},
     "output_type": "execute_result"
    }
   ],
   "source": [
    "confusion_matrix(y_test, y_pred)"
   ]
  },
  {
   "cell_type": "markdown",
   "metadata": {},
   "source": [
    "Our Logistic models using random over-sasmpling data(X_res, y_res) and SMOTE data (X_sm, y_sm) are comparable in metrics with the random over-sampling model performing slightly better. Therefore, Overall the random over-sampling produced better results than SMOTE.\n",
    "\n",
    "Our next resampling technique is **ADASYN**."
   ]
  },
  {
   "cell_type": "code",
   "execution_count": 139,
   "metadata": {},
   "outputs": [
    {
     "name": "stdout",
     "output_type": "stream",
     "text": [
      "Original Dataset target counts Counter({1: 91687, 2: 39892})\n",
      "Resampled Dataset target counts:  Counter({2: 98530, 1: 91687})\n"
     ]
    }
   ],
   "source": [
    "ada = ADASYN(random_state=42)\n",
    "X_ada,y_ada = ada.fit_resample(X_train,y_train)\n",
    "print(\"Original Dataset target counts\", Counter(y_train))\n",
    "print(\"Resampled Dataset target counts: \", Counter(y_ada))"
   ]
  },
  {
   "cell_type": "code",
   "execution_count": null,
   "metadata": {},
   "outputs": [],
   "source": [
    "resamp_model_test(X_ada, y_ada, 'ADASYN')"
   ]
  },
  {
   "cell_type": "code",
   "execution_count": 140,
   "metadata": {},
   "outputs": [
    {
     "name": "stdout",
     "output_type": "stream",
     "text": [
      "Score on training data:  0.8626042887859655\n",
      "OOB Score:  0.7450543326831987\n",
      "log-loss:  0.9951240227062069\n",
      "              precision    recall  f1-score   support\n",
      "\n",
      "           1       0.81      0.70      0.75     39294\n",
      "           2       0.48      0.63      0.54     17097\n",
      "\n",
      "    accuracy                           0.68     56391\n",
      "   macro avg       0.65      0.67      0.65     56391\n",
      "weighted avg       0.71      0.68      0.69     56391\n",
      "\n"
     ]
    }
   ],
   "source": [
    "rfc = RandomForestClassifier(oob_score=True, random_state=42)\n",
    "rfc.fit(X_ada, y_ada)\n",
    "print(\"Score on training data: \", rfc.score(X_ada, y_ada))\n",
    "print(\"OOB Score: \", rfc.oob_score_)\n",
    "y_pred = rfc.predict(X_test)\n",
    "y_proba = rfc.predict_proba(X_test)\n",
    "print('log-loss: ', log_loss(y_test, y_proba))\n",
    "print(classification_report(y_test, y_pred))"
   ]
  },
  {
   "cell_type": "code",
   "execution_count": 141,
   "metadata": {},
   "outputs": [
    {
     "data": {
      "text/plain": [
       "array([[27612, 11682],\n",
       "       [ 6369, 10728]], dtype=int64)"
      ]
     },
     "execution_count": 141,
     "metadata": {},
     "output_type": "execute_result"
    }
   ],
   "source": [
    "confusion_matrix(y_test, y_pred)"
   ]
  },
  {
   "cell_type": "markdown",
   "metadata": {},
   "source": [
    "Above model of Random forest classifier using data resampled by ADASYN is comparable to the random forest classifier using random over sampling data but not the best model yet. Logistic Regression model using either balanced class weight or data resampled using random over sampling are better than this."
   ]
  },
  {
   "cell_type": "code",
   "execution_count": 142,
   "metadata": {},
   "outputs": [
    {
     "name": "stdout",
     "output_type": "stream",
     "text": [
      "log-loss:  0.5756890967114688\n",
      "              precision    recall  f1-score   support\n",
      "\n",
      "           1       0.90      0.56      0.69     39294\n",
      "           2       0.46      0.85      0.60     17097\n",
      "\n",
      "    accuracy                           0.65     56391\n",
      "   macro avg       0.68      0.71      0.64     56391\n",
      "weighted avg       0.76      0.65      0.66     56391\n",
      "\n"
     ]
    }
   ],
   "source": [
    "lr_cv = LogisticRegressionCV(Cs = 30,cv=5, random_state=42, scoring='f1_macro')\n",
    "lr_cv.fit(X_ada, y_ada)\n",
    "\n",
    "y_pred = lr_cv.predict(X_test)\n",
    "y_proba = lr_cv.predict_proba(X_test)\n",
    "\n",
    "print('log-loss: ', log_loss(y_test, y_proba))\n",
    "print(classification_report(y_test, y_pred))"
   ]
  },
  {
   "cell_type": "code",
   "execution_count": 143,
   "metadata": {},
   "outputs": [
    {
     "data": {
      "text/plain": [
       "array([[21995, 17299],\n",
       "       [ 2522, 14575]], dtype=int64)"
      ]
     },
     "execution_count": 143,
     "metadata": {},
     "output_type": "execute_result"
    }
   ],
   "source": [
    "confusion_matrix(y_test, y_pred)"
   ]
  },
  {
   "cell_type": "markdown",
   "metadata": {},
   "source": [
    "Both the logistic regression model using random over sampling(ROS) and ADASYN are comparable. With ROS model having higher f1 macro score. The use of ROS vs ADASYN here is a trade of between a high recall for value 2 or a high f1 fro value 1. ROS is prone to over-fitting. Whereas ADASYN is not and uses density distribution and knn for random data generation."
   ]
  },
  {
   "cell_type": "code",
   "execution_count": null,
   "metadata": {},
   "outputs": [],
   "source": [
    "comb = SMOTEENN(random_state=42)\n",
    "X_comb, y_comb = comb.fit_resample(X_train, y_train)\n",
    "print(\"Original Dataset target counts\", Counter(y_train))\n",
    "print(\"Resampled Dataset target counts: \", Counter(y_comb))"
   ]
  },
  {
   "cell_type": "code",
   "execution_count": 147,
   "metadata": {},
   "outputs": [
    {
     "name": "stdout",
     "output_type": "stream",
     "text": [
      "Score on training data:  0.999988128027353\n",
      "OOB Score:  0.9867508785259759\n",
      "log-loss:  3.22709066951842\n",
      "              precision    recall  f1-score   support\n",
      "\n",
      "           1       0.82      0.74      0.78     39294\n",
      "           2       0.51      0.62      0.56     17097\n",
      "\n",
      "    accuracy                           0.70     56391\n",
      "   macro avg       0.66      0.68      0.67     56391\n",
      "weighted avg       0.72      0.70      0.71     56391\n",
      "\n"
     ]
    }
   ],
   "source": [
    "rfc = RandomForestClassifier(oob_score=True, random_state=42)\n",
    "rfc.fit(X_comb, y_comb)\n",
    "print(\"Score on training data: \", rfc.score(X_comb, y_comb))\n",
    "print(\"OOB Score: \", rfc.oob_score_)\n",
    "y_pred = rfc.predict(X_test)\n",
    "y_proba = rfc.predict_proba(X_test)\n",
    "print('log-loss: ', log_loss(y_test, y_proba))\n",
    "print(classification_report(y_test, y_pred))"
   ]
  },
  {
   "cell_type": "code",
   "execution_count": 148,
   "metadata": {},
   "outputs": [
    {
     "data": {
      "text/plain": [
       "array([[29148, 10146],\n",
       "       [ 6558, 10539]], dtype=int64)"
      ]
     },
     "execution_count": 148,
     "metadata": {},
     "output_type": "execute_result"
    }
   ],
   "source": [
    "confusion_matrix(y_test, y_pred)"
   ]
  },
  {
   "cell_type": "code",
   "execution_count": null,
   "metadata": {},
   "outputs": [],
   "source": [
    "lr_cv = LogisticRegressionCV(Cs = 30,cv=5, random_state=42, max_iter=500, scoring='f1_macro')\n",
    "lr_cv.fit(X_comb, y_comb)\n",
    "\n",
    "y_pred = lr_cv.predict(X_test)\n",
    "y_proba = lr_cv.predict_proba(X_test)\n",
    "\n",
    "print('log-loss: ', log_loss(y_test, y_proba))\n",
    "print(classification_report(y_test, y_pred))"
   ]
  },
  {
   "cell_type": "code",
   "execution_count": null,
   "metadata": {},
   "outputs": [],
   "source": [
    "confusion_matrix(y_test, y_pred)"
   ]
  },
  {
   "cell_type": "code",
   "execution_count": 154,
   "metadata": {},
   "outputs": [
    {
     "name": "stdout",
     "output_type": "stream",
     "text": [
      "Mean ROC AUC: 0.824\n"
     ]
    }
   ],
   "source": [
    "model = DecisionTreeClassifier()\n",
    "cv = RepeatedStratifiedKFold(n_splits=10, n_repeats=3, random_state=42)\n",
    "scores = cross_val_score(model, X_res, y_res, scoring='roc_auc', cv=cv, n_jobs=-1)\n",
    "print('Mean ROC AUC: %.3f' % scores.mean())"
   ]
  },
  {
   "cell_type": "code",
   "execution_count": 155,
   "metadata": {},
   "outputs": [
    {
     "name": "stdout",
     "output_type": "stream",
     "text": [
      "Mean ROC AUC: 0.786\n"
     ]
    }
   ],
   "source": [
    "model = DecisionTreeClassifier()\n",
    "cv = RepeatedStratifiedKFold(n_splits=10, n_repeats=3, random_state=42)\n",
    "scores = cross_val_score(model, X_sm, y_sm, scoring='roc_auc', cv=cv, n_jobs=-1)\n",
    "print('Mean ROC AUC: %.3f' % scores.mean())"
   ]
  },
  {
   "cell_type": "code",
   "execution_count": 156,
   "metadata": {},
   "outputs": [
    {
     "name": "stdout",
     "output_type": "stream",
     "text": [
      "Mean ROC AUC: 0.783\n"
     ]
    }
   ],
   "source": [
    "model = DecisionTreeClassifier()\n",
    "cv = RepeatedStratifiedKFold(n_splits=10, n_repeats=3, random_state=42)\n",
    "scores = cross_val_score(model, X_ada, y_ada, scoring='roc_auc', cv=cv, n_jobs=-1)\n",
    "print('Mean ROC AUC: %.3f' % scores.mean())"
   ]
  },
  {
   "cell_type": "markdown",
   "metadata": {},
   "source": [
    "## Result and Discussion <a name='result'></a>"
   ]
  },
  {
   "cell_type": "markdown",
   "metadata": {},
   "source": [
    "After analysing various models using different data resampling techniques, we know that the imbalance in the data had quite an impact on the prediction and the techniques used. LogisticRegression turned out to be a better overall model than RandomForestClassifier. The simplest way to build a model was to include the ‘class_weight’ parameter as ‘balanced’. After using the resampling techniques from imblearn library, we found that ADASYN and RandomOverSampler turned out to be the best with almost similar results. The combination of under-sampling of majority and oversampling of minority classes did not provide very good results with loss of information. As a lot of samples from majority were dropped. It did not provide a good representation of the actual data. In the analysis, the cost to balance the prediction of the two values also played a crucial role. As the incorrect prediction of value 2 severity has more cost than the incorrect prediction of value 1 severity. Value 2 is considered to be a more severe accident than value 1 (As provided in the metadata). Finally, the logistic regression model trained on the scaled and ADASYN resampled data proved to be the best model. It has an f1 macro score of 0.64 with a value 2 recall of 0.85, a macro recall of 0.71 and macro precision of 0.68. Arguably random over sampled data logistic regression was almost similar to ADASYN model and it had the highest roc_auc score. But random over sampler is prone to over-fitting data."
   ]
  },
  {
   "cell_type": "markdown",
   "metadata": {},
   "source": [
    "## Conclusion <a name='conclusion'></a>"
   ]
  },
  {
   "cell_type": "markdown",
   "metadata": {},
   "source": [
    "It was a great learning exercise working on this project. It is open to more possibilities tweaking with data and exploring more data sampling techniques. I plan to work on this dataset more and explore what remains to be learned specially about the imblearn, data imbalance and the reproducibility of models, working on data exploration and insights. As well to learn about accident severity and the various factors leading to it. The impact that such models have on society and safety is huge with large implications. The project is open to more possibilities that I intend to work on. \n",
    "\n"
   ]
  }
 ],
 "metadata": {
  "kernelspec": {
   "display_name": "Python 3",
   "language": "python",
   "name": "python3"
  },
  "language_info": {
   "codemirror_mode": {
    "name": "ipython",
    "version": 3
   },
   "file_extension": ".py",
   "mimetype": "text/x-python",
   "name": "python",
   "nbconvert_exporter": "python",
   "pygments_lexer": "ipython3",
   "version": "3.7.6"
  }
 },
 "nbformat": 4,
 "nbformat_minor": 1
}
